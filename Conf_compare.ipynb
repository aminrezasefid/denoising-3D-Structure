{
 "cells": [
  {
   "cell_type": "code",
   "execution_count": 1,
   "metadata": {},
   "outputs": [],
   "source": [
    "import numpy as np  # sometimes needed to avoid mkl-service error\n",
    "import sys\n",
    "import os\n",
    "import argparse\n",
    "import logging\n",
    "import pytorch_lightning as pl\n",
    "from pytorch_lightning.callbacks import EarlyStopping\n",
    "from pytorch_lightning.callbacks.model_checkpoint import ModelCheckpoint\n",
    "from pytorch_lightning.loggers import CSVLogger, WandbLogger\n",
    "from pytorch_lightning.plugins import DDPPlugin\n",
    "from pytorch_lightning.utilities import rank_zero_only\n",
    "import torch\n",
    "from torchmdnet.module import LNNP\n",
    "from torchmdnet import datasets, priors, models\n",
    "from torchmdnet.data import DataModule\n",
    "from torchmdnet.models import output_modules\n",
    "from torchmdnet.models.utils import rbf_class_mapping, act_class_mapping\n",
    "from torchmdnet.utils import LoadFromFile, LoadFromCheckpoint, save_argparse, number\n",
    "from pathlib import Path\n",
    "import wandb\n",
    "import json\n",
    "import pandas as pd\n",
    "from rdkit.Chem import AllChem\n",
    "import copy\n",
    "from rdkit.Geometry import Point3D\n",
    "from rdkit import Chem\n",
    "from rdkit.Chem.Draw import IPythonConsole\n",
    "IPythonConsole.ipython_3d = True\n",
    "import py3Dmol\n",
    "from rdkit.Chem import rdDepictor\n",
    "from rdkit.Chem import rdDistGeom\n",
    "import rdkit"
   ]
  },
  {
   "cell_type": "code",
   "execution_count": 31,
   "metadata": {},
   "outputs": [],
   "source": [
    "command_dic={\n",
    "\"command_args_baselinedefault_defnoise\":'command_args_baselinedefault_defnoise.txt',\n",
    "\"command_args_baselinedefault_rdkitnoise\":\"command_args_baselinedefault_rdkitnoise.txt\",\n",
    "\"command_args_baselinedefault_rdkit04noise\":\"command_args_baselinedefault_rdkit04noise.txt\",\n",
    "\"command_args_baselinedefault_8noise\":\"command_args_baselinedefault_8noise.txt\",\n",
    "\"command_args_baseline8noise_defnoise\":\"command_args_baseline8noise_defnoise.txt\",\n",
    "\"command_args_baseline8noise_rdkitnoise\":\"command_args_baseline8noise_rdkitnoise.txt\",\n",
    "\"command_args_baseline8noise_rdkit04noise\":\"command_args_baseline8noise_rdkit04noise.txt\",\n",
    "\"command_args_baseline8noise_8noise\":\"command_args_baseline8noise_8noise.txt\",\n",
    "\n",
    "\n",
    "\"command_args_oursdefault_defnoise\":\"command_args_oursdefault_defnoise.txt\",\n",
    "\"command_args_oursdefault_rdkitnoise\":\"command_args_oursdefault_rdkitnoise.txt\",\n",
    "\"command_args_oursdefault_rdkit04noise\":\"command_args_oursdefault_rdkit04noise.txt\",\n",
    "\"command_args_oursdefault_8noise\":\"command_args_oursdefault_8noise.txt\",\n",
    "\"command_args_ours04noise_defnoise\":\"command_args_ours04noise_defnoise.txt\",\n",
    "\"command_args_ours04noise_8noise\":\"command_args_ours04noise_8noise.txt\",\n",
    "\"command_args_ours04noise_rdkitnoise\":\"command_args_ours04noise_rdkitnoise.txt\",\n",
    "\"command_args_ours04noise_rdkit04noise\":\"command_args_ours04noise_rdkit04noise.txt\",}\n",
    "\n",
    "\n"
   ]
  },
  {
   "cell_type": "code",
   "execution_count": 38,
   "metadata": {},
   "outputs": [],
   "source": [
    "def load_data(argfile):\n",
    "    root=\"arg_files/\"\n",
    "    with open(root+argfile, 'r') as f:\n",
    "        args = json.load(f)\n",
    "    data = DataModule(args)\n",
    "    data.prepare_data()\n",
    "    data.setup(\"fit\")\n",
    "    return data,args"
   ]
  },
  {
   "cell_type": "code",
   "execution_count": 40,
   "metadata": {},
   "outputs": [
    {
     "name": "stderr",
     "output_type": "stream",
     "text": [
      "c:\\Users\\aminr\\.conda\\envs\\pvd\\lib\\site-packages\\torch_geometric\\deprecation.py:13: UserWarning: 'data.DataLoader' is deprecated, use 'loader.DataLoader' instead\n",
      "  warnings.warn(out)\n"
     ]
    },
    {
     "name": "stdout",
     "output_type": "stream",
     "text": [
      "train 400, val 50, test 37\n"
     ]
    },
    {
     "name": "stderr",
     "output_type": "stream",
     "text": [
      "computing mean and std:   0%|          | 0/4 [00:00<?, ?it/s]c:\\Users\\aminr\\Documents\\Thesis\\pre-training-via-denoising\\torchmdnet\\data.py:172: UserWarning: Standardize is true but failed to compute dataset mean and standard deviation. Maybe the dataset only contains forces.\n",
      "  rank_zero_warn(\n",
      "computing mean and std:   0%|          | 0/4 [00:00<?, ?it/s]\n"
     ]
    },
    {
     "name": "stdout",
     "output_type": "stream",
     "text": [
      "train 400, val 50, test 37\n"
     ]
    },
    {
     "name": "stderr",
     "output_type": "stream",
     "text": [
      "computing mean and std:   0%|          | 0/4 [00:00<?, ?it/s]\n"
     ]
    }
   ],
   "source": [
    "data_defnoise,arg_baseline=load_data(command_dic[\"command_args_baselinedefault_defnoise\"])\n",
    "data_8noise,_=load_data(command_dic[\"command_args_baselinedefault_8noise\"])\n"
   ]
  },
  {
   "cell_type": "code",
   "execution_count": 10,
   "metadata": {},
   "outputs": [
    {
     "data": {
      "text/plain": [
       "tensor([[-0.0176,  1.0177, -0.0019],\n",
       "        [ 0.0280, -0.0533,  0.0182],\n",
       "        [ 0.9882,  1.4933,  0.0269],\n",
       "        [-0.5864,  1.4333, -0.9694],\n",
       "        [-0.4801,  1.4544,  0.8777]])"
      ]
     },
     "execution_count": 10,
     "metadata": {},
     "output_type": "execute_result"
    }
   ],
   "source": [
    "data.dataset_maybe_noisy[0].pos"
   ]
  },
  {
   "cell_type": "code",
   "execution_count": 11,
   "metadata": {},
   "outputs": [],
   "source": [
    "sample=data.dataset_maybe_noisy[0]"
   ]
  },
  {
   "cell_type": "code",
   "execution_count": 12,
   "metadata": {},
   "outputs": [
    {
     "data": {
      "text/plain": [
       "tensor([[-1.2700e-02,  1.0858e+00,  8.0000e-03],\n",
       "        [ 2.2000e-03, -6.0000e-03,  2.0000e-03],\n",
       "        [ 1.0117e+00,  1.4638e+00,  3.0000e-04],\n",
       "        [-5.4080e-01,  1.4475e+00, -8.7660e-01],\n",
       "        [-5.2380e-01,  1.4379e+00,  9.0640e-01]])"
      ]
     },
     "execution_count": 12,
     "metadata": {},
     "output_type": "execute_result"
    }
   ],
   "source": [
    "sample.pos- sample.pos_target"
   ]
  },
  {
   "cell_type": "code",
   "execution_count": 13,
   "metadata": {},
   "outputs": [
    {
     "data": {
      "text/plain": [
       "LNNP(\n",
       "  (model): TorchMD_Net(\n",
       "    (representation_model): TorchMD_ET(hidden_channels=256, num_layers=8, num_rbf=64, rbf_type=expnorm, trainable_rbf=False, activation=silu, attn_activation=silu, neighbor_embedding=NeighborEmbeddingJittable_f8da98(\n",
       "      (embedding): Embedding(100, 256)\n",
       "      (distance_proj): Linear(in_features=64, out_features=256, bias=True)\n",
       "      (combine): Linear(in_features=512, out_features=256, bias=True)\n",
       "      (cutoff): CosineCutoff()\n",
       "    ), num_heads=8, distance_influence=both, cutoff_lower=0.0, cutoff_upper=5.0)\n",
       "    (output_model): EquivariantScalar(\n",
       "      (output_network): ModuleList(\n",
       "        (0): GatedEquivariantBlock(\n",
       "          (vec1_proj): Linear(in_features=256, out_features=256, bias=False)\n",
       "          (vec2_proj): Linear(in_features=256, out_features=128, bias=False)\n",
       "          (update_net): Sequential(\n",
       "            (0): Linear(in_features=512, out_features=256, bias=True)\n",
       "            (1): SiLU()\n",
       "            (2): Linear(in_features=256, out_features=256, bias=True)\n",
       "          )\n",
       "          (act): SiLU()\n",
       "        )\n",
       "        (1): GatedEquivariantBlock(\n",
       "          (vec1_proj): Linear(in_features=128, out_features=128, bias=False)\n",
       "          (vec2_proj): Linear(in_features=128, out_features=1, bias=False)\n",
       "          (update_net): Sequential(\n",
       "            (0): Linear(in_features=256, out_features=128, bias=True)\n",
       "            (1): SiLU()\n",
       "            (2): Linear(in_features=128, out_features=2, bias=True)\n",
       "          )\n",
       "        )\n",
       "      )\n",
       "    )\n",
       "    (output_model_noise): EquivariantVectorOutput(\n",
       "      (output_network): ModuleList(\n",
       "        (0): GatedEquivariantBlock(\n",
       "          (vec1_proj): Linear(in_features=256, out_features=256, bias=False)\n",
       "          (vec2_proj): Linear(in_features=256, out_features=128, bias=False)\n",
       "          (update_net): Sequential(\n",
       "            (0): Linear(in_features=512, out_features=256, bias=True)\n",
       "            (1): SiLU()\n",
       "            (2): Linear(in_features=256, out_features=256, bias=True)\n",
       "          )\n",
       "          (act): SiLU()\n",
       "        )\n",
       "        (1): GatedEquivariantBlock(\n",
       "          (vec1_proj): Linear(in_features=128, out_features=128, bias=False)\n",
       "          (vec2_proj): Linear(in_features=128, out_features=1, bias=False)\n",
       "          (update_net): Sequential(\n",
       "            (0): Linear(in_features=256, out_features=128, bias=True)\n",
       "            (1): SiLU()\n",
       "            (2): Linear(in_features=128, out_features=2, bias=True)\n",
       "          )\n",
       "        )\n",
       "      )\n",
       "    )\n",
       "    (pos_normalizer): AccumulatedNormalization()\n",
       "  )\n",
       ")"
      ]
     },
     "execution_count": 13,
     "metadata": {},
     "output_type": "execute_result"
    }
   ],
   "source": [
    "model = LNNP(args, prior_model=None, mean=data.mean, std=data.std)\n",
    "model.eval()"
   ]
  },
  {
   "cell_type": "code",
   "execution_count": 15,
   "metadata": {},
   "outputs": [],
   "source": [
    "_,noise,_=model(sample.z,sample.pos)"
   ]
  },
  {
   "cell_type": "code",
   "execution_count": 16,
   "metadata": {},
   "outputs": [],
   "source": [
    "def make_conformer(mol,positions):\n",
    "    id=mol.GetNumConformers()\n",
    "    conformer = Chem.Conformer(mol.GetNumAtoms())\n",
    "    conformer.SetId(id)\n",
    "    for i in range(mol.GetNumAtoms()):\n",
    "        conformer.SetAtomPosition(i, Point3D(positions[i][0].item(),positions[i][1].item(),positions[i][2].item())) \n",
    "    mol.AddConformer(conformer)"
   ]
  },
  {
   "cell_type": "code",
   "execution_count": 20,
   "metadata": {},
   "outputs": [],
   "source": [
    "sample.mol.RemoveAllConformers()\n",
    "predpos=sample.pos-noise\n",
    "gpos=sample.pos-sample.pos_target\n",
    "initpos=sample.pos\n",
    "make_conformer(sample.mol,predpos)\n",
    "make_conformer(sample.mol,gpos)\n",
    "make_conformer(sample.mol,initpos)"
   ]
  },
  {
   "cell_type": "code",
   "execution_count": 23,
   "metadata": {},
   "outputs": [
    {
     "data": {
      "text/plain": [
       "3"
      ]
     },
     "execution_count": 23,
     "metadata": {},
     "output_type": "execute_result"
    }
   ],
   "source": [
    "sample.mol.GetNumConformers()"
   ]
  },
  {
   "cell_type": "code",
   "execution_count": 25,
   "metadata": {},
   "outputs": [],
   "source": [
    "w = Chem.SDWriter(\"result/\"+sample.name+\".sdf\")\n",
    "for id in range(sample.mol.GetNumConformers()):\n",
    "    w.write(sample.mol,confId=id)\n",
    "w.close()"
   ]
  },
  {
   "cell_type": "code",
   "execution_count": 28,
   "metadata": {},
   "outputs": [
    {
     "data": {
      "application/3dmoljs_load.v0": "<div id=\"3dmolviewer_16851811918297615\"  style=\"position: relative; width: 400px; height: 400px;\">\n        <p id=\"3dmolwarning_16851811918297615\" style=\"background-color:#ffcccc;color:black\">You appear to be running in JupyterLab (or JavaScript failed to load for some other reason).  You need to install the 3dmol extension: <br>\n        <tt>jupyter labextension install jupyterlab_3dmol</tt></p>\n        </div>\n<script>\n\nvar loadScriptAsync = function(uri){\n  return new Promise((resolve, reject) => {\n    //this is to ignore the existence of requirejs amd\n    var savedexports, savedmodule;\n    if (typeof exports !== 'undefined') savedexports = exports;\n    else exports = {}\n    if (typeof module !== 'undefined') savedmodule = module;\n    else module = {}\n\n    var tag = document.createElement('script');\n    tag.src = uri;\n    tag.async = true;\n    tag.onload = () => {\n        exports = savedexports;\n        module = savedmodule;\n        resolve();\n    };\n  var firstScriptTag = document.getElementsByTagName('script')[0];\n  firstScriptTag.parentNode.insertBefore(tag, firstScriptTag);\n});\n};\n\nif(typeof $3Dmolpromise === 'undefined') {\n$3Dmolpromise = null;\n  $3Dmolpromise = loadScriptAsync('https://cdnjs.cloudflare.com/ajax/libs/3Dmol/2.0.3/3Dmol-min.js');\n}\n\nvar viewer_16851811918297615 = null;\nvar warn = document.getElementById(\"3dmolwarning_16851811918297615\");\nif(warn) {\n    warn.parentNode.removeChild(warn);\n}\n$3Dmolpromise.then(function() {\nviewer_16851811918297615 = $3Dmol.createViewer(document.getElementById(\"3dmolviewer_16851811918297615\"),{backgroundColor:\"white\"});\nviewer_16851811918297615.zoomTo();\n\tviewer_16851811918297615.removeAllModels();\n\tviewer_16851811918297615.addModel(\"\\n     RDKit          3D\\n\\n  5  4  0  0  0  0  0  0  0  0999 V2000\\n    0.0489    1.0825   -0.0280 C   0  0  0  0  0  0  0  0  0  0  0  0\\n    0.0099   -0.0078   -0.0549 H   0  0  0  0  0  0  0  0  0  0  0  0\\n    0.9995    1.4467    0.0116 H   0  0  0  0  0  0  0  0  0  0  0  0\\n   -0.5871    1.3965   -0.8514 H   0  0  0  0  0  0  0  0  0  0  0  0\\n   -0.5701    1.4259    0.8367 H   0  0  0  0  0  0  0  0  0  0  0  0\\n  1  2  1  0\\n  1  3  1  0\\n  1  4  1  0\\n  1  5  1  0\\nM  END\\n\",\"sdf\");\n\tviewer_16851811918297615.setStyle({\"stick\": {}});\n\tviewer_16851811918297615.setBackgroundColor(\"0xeeeeee\");\n\tviewer_16851811918297615.zoomTo();\nviewer_16851811918297615.render();\n});\n</script>",
      "text/html": [
       "<div id=\"3dmolviewer_16851811918297615\"  style=\"position: relative; width: 400px; height: 400px;\">\n",
       "        <p id=\"3dmolwarning_16851811918297615\" style=\"background-color:#ffcccc;color:black\">You appear to be running in JupyterLab (or JavaScript failed to load for some other reason).  You need to install the 3dmol extension: <br>\n",
       "        <tt>jupyter labextension install jupyterlab_3dmol</tt></p>\n",
       "        </div>\n",
       "<script>\n",
       "\n",
       "var loadScriptAsync = function(uri){\n",
       "  return new Promise((resolve, reject) => {\n",
       "    //this is to ignore the existence of requirejs amd\n",
       "    var savedexports, savedmodule;\n",
       "    if (typeof exports !== 'undefined') savedexports = exports;\n",
       "    else exports = {}\n",
       "    if (typeof module !== 'undefined') savedmodule = module;\n",
       "    else module = {}\n",
       "\n",
       "    var tag = document.createElement('script');\n",
       "    tag.src = uri;\n",
       "    tag.async = true;\n",
       "    tag.onload = () => {\n",
       "        exports = savedexports;\n",
       "        module = savedmodule;\n",
       "        resolve();\n",
       "    };\n",
       "  var firstScriptTag = document.getElementsByTagName('script')[0];\n",
       "  firstScriptTag.parentNode.insertBefore(tag, firstScriptTag);\n",
       "});\n",
       "};\n",
       "\n",
       "if(typeof $3Dmolpromise === 'undefined') {\n",
       "$3Dmolpromise = null;\n",
       "  $3Dmolpromise = loadScriptAsync('https://cdnjs.cloudflare.com/ajax/libs/3Dmol/2.0.3/3Dmol-min.js');\n",
       "}\n",
       "\n",
       "var viewer_16851811918297615 = null;\n",
       "var warn = document.getElementById(\"3dmolwarning_16851811918297615\");\n",
       "if(warn) {\n",
       "    warn.parentNode.removeChild(warn);\n",
       "}\n",
       "$3Dmolpromise.then(function() {\n",
       "viewer_16851811918297615 = $3Dmol.createViewer(document.getElementById(\"3dmolviewer_16851811918297615\"),{backgroundColor:\"white\"});\n",
       "viewer_16851811918297615.zoomTo();\n",
       "\tviewer_16851811918297615.removeAllModels();\n",
       "\tviewer_16851811918297615.addModel(\"\\n     RDKit          3D\\n\\n  5  4  0  0  0  0  0  0  0  0999 V2000\\n    0.0489    1.0825   -0.0280 C   0  0  0  0  0  0  0  0  0  0  0  0\\n    0.0099   -0.0078   -0.0549 H   0  0  0  0  0  0  0  0  0  0  0  0\\n    0.9995    1.4467    0.0116 H   0  0  0  0  0  0  0  0  0  0  0  0\\n   -0.5871    1.3965   -0.8514 H   0  0  0  0  0  0  0  0  0  0  0  0\\n   -0.5701    1.4259    0.8367 H   0  0  0  0  0  0  0  0  0  0  0  0\\n  1  2  1  0\\n  1  3  1  0\\n  1  4  1  0\\n  1  5  1  0\\nM  END\\n\",\"sdf\");\n",
       "\tviewer_16851811918297615.setStyle({\"stick\": {}});\n",
       "\tviewer_16851811918297615.setBackgroundColor(\"0xeeeeee\");\n",
       "\tviewer_16851811918297615.zoomTo();\n",
       "viewer_16851811918297615.render();\n",
       "});\n",
       "</script>"
      ]
     },
     "metadata": {},
     "output_type": "display_data"
    }
   ],
   "source": [
    "IPythonConsole.drawMol3D(sample.mol,confId=2)"
   ]
  },
  {
   "cell_type": "code",
   "execution_count": null,
   "metadata": {},
   "outputs": [],
   "source": []
  }
 ],
 "metadata": {
  "kernelspec": {
   "display_name": "pvd",
   "language": "python",
   "name": "python3"
  },
  "language_info": {
   "codemirror_mode": {
    "name": "ipython",
    "version": 3
   },
   "file_extension": ".py",
   "mimetype": "text/x-python",
   "name": "python",
   "nbconvert_exporter": "python",
   "pygments_lexer": "ipython3",
   "version": "3.9.10"
  },
  "orig_nbformat": 4
 },
 "nbformat": 4,
 "nbformat_minor": 2
}
