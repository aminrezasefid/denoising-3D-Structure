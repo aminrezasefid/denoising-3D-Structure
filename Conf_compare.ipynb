{
 "cells": [
  {
   "cell_type": "code",
   "execution_count": 1,
   "metadata": {},
   "outputs": [],
   "source": [
    "import numpy as np  # sometimes needed to avoid mkl-service error\n",
    "import sys\n",
    "import os\n",
    "import argparse\n",
    "import logging\n",
    "import pytorch_lightning as pl\n",
    "from pytorch_lightning.callbacks import EarlyStopping\n",
    "from pytorch_lightning.callbacks.model_checkpoint import ModelCheckpoint\n",
    "from pytorch_lightning.loggers import CSVLogger, WandbLogger\n",
    "from pytorch_lightning.plugins import DDPPlugin\n",
    "from pytorch_lightning.utilities import rank_zero_only\n",
    "import torch\n",
    "from torchmdnet.module import LNNP\n",
    "from torchmdnet import datasets, priors, models\n",
    "from torchmdnet.data import DataModule\n",
    "from torchmdnet.models import output_modules\n",
    "from torchmdnet.models.utils import rbf_class_mapping, act_class_mapping\n",
    "from torchmdnet.utils import LoadFromFile, LoadFromCheckpoint, save_argparse, number\n",
    "from pathlib import Path\n",
    "import wandb\n",
    "import json\n",
    "import pandas as pd\n",
    "from rdkit.Chem import AllChem\n",
    "import copy\n",
    "from rdkit.Geometry import Point3D\n",
    "from rdkit import Chem\n",
    "from rdkit.Chem.Draw import IPythonConsole\n",
    "IPythonConsole.ipython_3d = True\n",
    "import py3Dmol\n",
    "from rdkit.Chem import rdDepictor\n",
    "from rdkit.Chem import rdDistGeom\n",
    "import rdkit"
   ]
  },
  {
   "cell_type": "code",
   "execution_count": null,
   "metadata": {},
   "outputs": [],
   "source": [
    "command_args_baseline_default_defnoise='command_args_baseline_default_defnoise.txt'\n",
    "command_args_baseline_default_rdkit_noise=\"command_args_baseline_default_rdkit_noise.txt\"\n",
    "command_args_baseline_default_rdkit_0.04noise=\"command_args_baseline_default_rdkit_0.04noise.txt\"\n",
    "command_args_baseline_default_0.8noise=\"command_args_baseline_default_0.8noise.txt\"\n",
    "command_args_baseline_0.8noise_defnoise=\"command_args_baseline_0.8noise_defnoise.txt\"\n",
    "command_args_baseline_0.8noise_rdkit_noise=\"command_args_baseline_0.8noise_rdkit_noise.txt\"\n",
    "command_args_baseline_0.8noise_rdkit_0.04noise=\"command_args_baseline_0.8noise_rdkit_0.04noise.txt\"\n",
    "command_args_baseline_0.8noise_rdkit_0.8noise=\"command_args_baseline_0.8noise_rdkit_0.8noise.txt\"\n",
    "\n",
    "\n",
    "command_args_ours_default_defnoise=\"command_args_ours_default_defnoise.txt\"\n",
    "command_args_ours_default_rdkit_noise=\"command_args_ours_default_rdkit_noise.txt\"\n"
   ]
  },
  {
   "cell_type": "code",
   "execution_count": null,
   "metadata": {},
   "outputs": [],
   "source": [
    "with open(, 'r') as f:\n",
    "    args = json.load(f)\n",
    "data = DataModule(args)\n",
    "data.prepare_data()\n",
    "data.setup(\"fit\")"
   ]
  }
 ],
 "metadata": {
  "kernelspec": {
   "display_name": "pvd",
   "language": "python",
   "name": "python3"
  },
  "language_info": {
   "codemirror_mode": {
    "name": "ipython",
    "version": 3
   },
   "file_extension": ".py",
   "mimetype": "text/x-python",
   "name": "python",
   "nbconvert_exporter": "python",
   "pygments_lexer": "ipython3",
   "version": "3.9.10"
  },
  "orig_nbformat": 4
 },
 "nbformat": 4,
 "nbformat_minor": 2
}
