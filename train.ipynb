{
 "cells": [
  {
   "cell_type": "code",
   "execution_count": 2,
   "metadata": {},
   "outputs": [],
   "source": [
    "import numpy as np  # sometimes needed to avoid mkl-service error\n",
    "import sys\n",
    "import os\n",
    "import argparse\n",
    "import logging\n",
    "import pytorch_lightning as pl\n",
    "from pytorch_lightning.callbacks import EarlyStopping\n",
    "from pytorch_lightning.callbacks.model_checkpoint import ModelCheckpoint\n",
    "from pytorch_lightning.loggers import CSVLogger, WandbLogger\n",
    "from pytorch_lightning.plugins import DDPPlugin\n",
    "from pytorch_lightning.utilities import rank_zero_only\n",
    "import torch\n",
    "from torchmdnet.module import LNNP\n",
    "from torchmdnet import datasets, priors, models\n",
    "from torchmdnet.data import DataModule\n",
    "from torchmdnet.models import output_modules\n",
    "from torchmdnet.models.utils import rbf_class_mapping, act_class_mapping\n",
    "from torchmdnet.utils import LoadFromFile, LoadFromCheckpoint, save_argparse, number\n",
    "from pathlib import Path\n",
    "import wandb\n",
    "import json"
   ]
  },
  {
   "cell_type": "code",
   "execution_count": 6,
   "metadata": {},
   "outputs": [],
   "source": [
    "\n",
    "with open('commandline_args.txt', 'r') as f:\n",
    "    args = json.load(f)"
   ]
  },
  {
   "cell_type": "code",
   "execution_count": 10,
   "metadata": {},
   "outputs": [
    {
     "name": "stderr",
     "output_type": "stream",
     "text": [
      "c:\\Users\\aminr\\.conda\\envs\\pvd\\lib\\site-packages\\torch_geometric\\deprecation.py:13: UserWarning: 'data.DataLoader' is deprecated, use 'loader.DataLoader' instead\n",
      "  warnings.warn(out)\n"
     ]
    },
    {
     "name": "stdout",
     "output_type": "stream",
     "text": [
      "train 400, val 50, test 41\n"
     ]
    },
    {
     "name": "stderr",
     "output_type": "stream",
     "text": [
      "computing mean and std: 100%|██████████| 4/4 [00:00<00:00, 10.54it/s]\n"
     ]
    }
   ],
   "source": [
    "data = DataModule(args)\n",
    "data.prepare_data()\n",
    "data.setup(\"fit\")\n"
   ]
  },
  {
   "cell_type": "code",
   "execution_count": 13,
   "metadata": {},
   "outputs": [],
   "source": [
    "prior = None\n",
    "if args[\"prior_model\"]:\n",
    "    assert hasattr(priors, args.prior_model), (\n",
    "        f\"Unknown prior model {args['prior_model']}. \"\n",
    "        f\"Available models are {', '.join(priors.__all__)}\"\n",
    "    )\n",
    "    # initialize the prior model\n",
    "    prior = getattr(priors, args.prior_model)(dataset=data.dataset)\n",
    "    args.prior_args = prior.get_init_args()"
   ]
  },
  {
   "cell_type": "code",
   "execution_count": 14,
   "metadata": {},
   "outputs": [],
   "source": [
    "model = LNNP(args, prior_model=prior, mean=data.mean, std=data.std)"
   ]
  },
  {
   "cell_type": "code",
   "execution_count": 19,
   "metadata": {},
   "outputs": [
    {
     "name": "stdout",
     "output_type": "stream",
     "text": [
      "LNNP(\n",
      "  (model): TorchMD_Net(\n",
      "    (representation_model): TorchMD_ET(hidden_channels=256, num_layers=8, num_rbf=64, rbf_type=expnorm, trainable_rbf=False, activation=silu, attn_activation=silu, neighbor_embedding=NeighborEmbeddingJittable_dd7ef0(\n",
      "      (embedding): Embedding(100, 256)\n",
      "      (distance_proj): Linear(in_features=64, out_features=256, bias=True)\n",
      "      (combine): Linear(in_features=512, out_features=256, bias=True)\n",
      "      (cutoff): CosineCutoff()\n",
      "    ), num_heads=8, distance_influence=both, cutoff_lower=0.0, cutoff_upper=5.0)\n",
      "    (output_model): EquivariantScalar(\n",
      "      (output_network): ModuleList(\n",
      "        (0): GatedEquivariantBlock(\n",
      "          (vec1_proj): Linear(in_features=256, out_features=256, bias=False)\n",
      "          (vec2_proj): Linear(in_features=256, out_features=128, bias=False)\n",
      "          (update_net): Sequential(\n",
      "            (0): Linear(in_features=512, out_features=256, bias=True)\n",
      "            (1): SiLU()\n",
      "            (2): Linear(in_features=256, out_features=256, bias=True)\n",
      "          )\n",
      "          (act): SiLU()\n",
      "        )\n",
      "        (1): GatedEquivariantBlock(\n",
      "          (vec1_proj): Linear(in_features=128, out_features=128, bias=False)\n",
      "          (vec2_proj): Linear(in_features=128, out_features=1, bias=False)\n",
      "          (update_net): Sequential(\n",
      "            (0): Linear(in_features=256, out_features=128, bias=True)\n",
      "            (1): SiLU()\n",
      "            (2): Linear(in_features=128, out_features=2, bias=True)\n",
      "          )\n",
      "        )\n",
      "      )\n",
      "    )\n",
      "  )\n",
      ")\n"
     ]
    }
   ],
   "source": [
    "print(model)"
   ]
  },
  {
   "cell_type": "code",
   "execution_count": null,
   "metadata": {},
   "outputs": [],
   "source": []
  }
 ],
 "metadata": {
  "kernelspec": {
   "display_name": "denoising-prop",
   "language": "python",
   "name": "python3"
  },
  "language_info": {
   "codemirror_mode": {
    "name": "ipython",
    "version": 3
   },
   "file_extension": ".py",
   "mimetype": "text/x-python",
   "name": "python",
   "nbconvert_exporter": "python",
   "pygments_lexer": "ipython3",
   "version": "3.9.10"
  },
  "orig_nbformat": 4
 },
 "nbformat": 4,
 "nbformat_minor": 2
}
