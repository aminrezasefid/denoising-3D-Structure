{
 "cells": [
  {
   "cell_type": "code",
   "execution_count": 1,
   "metadata": {},
   "outputs": [],
   "source": [
    "import numpy as np  # sometimes needed to avoid mkl-service error\n",
    "import sys\n",
    "import os\n",
    "import argparse\n",
    "import logging\n",
    "import pytorch_lightning as pl\n",
    "from pytorch_lightning.callbacks import EarlyStopping\n",
    "from pytorch_lightning.callbacks.model_checkpoint import ModelCheckpoint\n",
    "from pytorch_lightning.loggers import CSVLogger, WandbLogger\n",
    "from pytorch_lightning.plugins import DDPPlugin\n",
    "from pytorch_lightning.utilities import rank_zero_only\n",
    "import torch\n",
    "from torchmdnet.module import LNNP\n",
    "from torchmdnet import datasets, priors, models\n",
    "from torchmdnet.data import DataModule\n",
    "from torchmdnet.models import output_modules\n",
    "from torchmdnet.models.utils import rbf_class_mapping, act_class_mapping\n",
    "from torchmdnet.utils import LoadFromFile, LoadFromCheckpoint, save_argparse, number\n",
    "from pathlib import Path\n",
    "import wandb\n",
    "import json\n",
    "import pandas as pd\n",
    "from rdkit.Chem import AllChem\n",
    "import copy\n",
    "from rdkit.Geometry import Point3D"
   ]
  },
  {
   "cell_type": "code",
   "execution_count": 2,
   "metadata": {},
   "outputs": [],
   "source": [
    "from rdkit import Chem\n",
    "suppl = Chem.SDMolSupplier(\"data\\\\qm9\\\\raw\\\\gdb9.sdf\", removeHs=False,\n",
    "                                   sanitize=True)"
   ]
  },
  {
   "cell_type": "code",
   "execution_count": 5,
   "metadata": {},
   "outputs": [
    {
     "data": {
      "text/plain": [
       "133885"
      ]
     },
     "execution_count": 5,
     "metadata": {},
     "output_type": "execute_result"
    }
   ],
   "source": [
    "len(suppl)"
   ]
  },
  {
   "cell_type": "code",
   "execution_count": 179,
   "metadata": {},
   "outputs": [
    {
     "data": {
      "text/plain": [
       "False"
      ]
     },
     "execution_count": 179,
     "metadata": {},
     "output_type": "execute_result"
    }
   ],
   "source": [
    "type(suppl[18981])\n",
    "suppl[105]==None"
   ]
  },
  {
   "cell_type": "code",
   "execution_count": 85,
   "metadata": {},
   "outputs": [
    {
     "data": {
      "text/plain": [
       "'[H]N1C2([H])C3([H])OC([H])([H])OC2([H])C13[H]'"
      ]
     },
     "execution_count": 85,
     "metadata": {},
     "output_type": "execute_result"
    }
   ],
   "source": [
    "smi = Chem.MolToSmiles(suppl[18982])\n",
    "#smi = \"C1C[C@H]2CC[C@@H]12\"\n",
    "smi"
   ]
  },
  {
   "cell_type": "code",
   "execution_count": 81,
   "metadata": {},
   "outputs": [
    {
     "data": {
      "text/plain": [
       "'[H]C1([H])C([H])([H])[C@]2([H])C([H])([H])C([H])([H])[C@]12[H]'"
      ]
     },
     "execution_count": 81,
     "metadata": {},
     "output_type": "execute_result"
    }
   ],
   "source": [
    "params = Chem.SmilesParserParams()\n",
    "params.removeHs = False\n",
    "target_mol=Chem.MolFromSmiles(smi,params)\n",
    "#target_mol.UpdatePropertyCache(strict=False)\n",
    "#target_mol=Chem.AddHs(target_mol)\n",
    "Chem.MolToSmiles(target_mol)"
   ]
  },
  {
   "cell_type": "code",
   "execution_count": 80,
   "metadata": {},
   "outputs": [
    {
     "data": {
      "text/plain": [
       "'[H]C1([H])C([H])([H])[C@]2([H])C([H])([H])C([H])([H])[C@]12[H]'"
      ]
     },
     "execution_count": 80,
     "metadata": {},
     "output_type": "execute_result"
    }
   ],
   "source": [
    "smi=\"[H]C1([H])C([H])([H])[C@]2([H])C([H])([H])C([H])([H])[C@]12[H]\"\n",
    "asdasd=\"[H]C1([H])C([H])([H])[C@]2([H])C([H])([H])C([H])([H])[C@]12[H]\"\n",
    "asdasd"
   ]
  },
  {
   "cell_type": "code",
   "execution_count": 88,
   "metadata": {},
   "outputs": [],
   "source": [
    "mol=suppl[18982]"
   ]
  },
  {
   "cell_type": "code",
   "execution_count": 3,
   "metadata": {},
   "outputs": [
    {
     "name": "stdout",
     "output_type": "stream",
     "text": [
      "2022.03.1\n"
     ]
    }
   ],
   "source": [
    "from rdkit import Chem\n",
    "from rdkit.Chem import rdDistGeom\n",
    "from rdkit.Chem import rdDepictor\n",
    "rdDepictor.SetPreferCoordGen(True)\n",
    "from rdkit.Chem.Draw import IPythonConsole\n",
    "IPythonConsole.ipython_3d = True\n",
    "import rdkit\n",
    "print(rdkit.__version__)"
   ]
  },
  {
   "cell_type": "code",
   "execution_count": 86,
   "metadata": {},
   "outputs": [
    {
     "name": "stdout",
     "output_type": "stream",
     "text": [
      "0\n"
     ]
    }
   ],
   "source": [
    "ps = rdDistGeom.ETKDGv3()\n",
    "#ps.randomSeed = 0xf01d\n",
    "ps.trackFailures = True\n",
    "target_mol=Chem.MolFromSmiles(smi,params)\n",
    "target_mol=Chem.AddHs(target_mol)\n",
    "a=-1\n",
    "while a!=0:\n",
    "    a=rdDistGeom.EmbedMolecule(target_mol,ps)\n",
    "    print(a)\n",
    "conf=target_mol.GetConformer()\n",
    "target_pos=conf.GetPositions()"
   ]
  },
  {
   "cell_type": "code",
   "execution_count": 131,
   "metadata": {},
   "outputs": [],
   "source": [
    "a=rdDistGeom.EmbedMolecule(target_mol,ps)"
   ]
  },
  {
   "cell_type": "code",
   "execution_count": 75,
   "metadata": {},
   "outputs": [],
   "source": [
    "\n",
    "noise=np.random.randn(target_pos.shape[0],target_pos.shape[1]) \n",
    "newpositions=target_pos+noise\n",
    "for i in range(mol.GetNumAtoms()):\n",
    "    conf.SetAtomPosition(i, Point3D(newpositions[i][0],newpositions[i][1],newpositions[i][2]))"
   ]
  },
  {
   "cell_type": "code",
   "execution_count": 89,
   "metadata": {},
   "outputs": [
    {
     "ename": "RuntimeError",
     "evalue": "No sub-structure match found between the probe and query mol",
     "output_type": "error",
     "traceback": [
      "\u001b[1;31m---------------------------------------------------------------------------\u001b[0m",
      "\u001b[1;31mRuntimeError\u001b[0m                              Traceback (most recent call last)",
      "\u001b[1;32mc:\\Users\\aminr\\Documents\\Thesis\\pre-training-via-denoising\\train.ipynb Cell 13\u001b[0m in \u001b[0;36m<cell line: 1>\u001b[1;34m()\u001b[0m\n\u001b[1;32m----> <a href='vscode-notebook-cell:/c%3A/Users/aminr/Documents/Thesis/pre-training-via-denoising/train.ipynb#X15sZmlsZQ%3D%3D?line=0'>1</a>\u001b[0m Chem\u001b[39m.\u001b[39;49mrdMolAlign\u001b[39m.\u001b[39;49mAlignMol(mol,target_mol)\n",
      "\u001b[1;31mRuntimeError\u001b[0m: No sub-structure match found between the probe and query mol"
     ]
    }
   ],
   "source": [
    "Chem.rdMolAlign.AlignMol(mol,target_mol)"
   ]
  },
  {
   "cell_type": "code",
   "execution_count": 163,
   "metadata": {},
   "outputs": [
    {
     "ename": "IndexError",
     "evalue": "End of sequence hit",
     "output_type": "error",
     "traceback": [
      "\u001b[1;31m---------------------------------------------------------------------------\u001b[0m",
      "\u001b[1;31mIndexError\u001b[0m                                Traceback (most recent call last)",
      "\u001b[1;32mc:\\Users\\aminr\\Documents\\Thesis\\pre-training-via-denoising\\train.ipynb Cell 5\u001b[0m in \u001b[0;36m<cell line: 2>\u001b[1;34m()\u001b[0m\n\u001b[0;32m      <a href='vscode-notebook-cell:/c%3A/Users/aminr/Documents/Thesis/pre-training-via-denoising/train.ipynb#X61sZmlsZQ%3D%3D?line=0'>1</a>\u001b[0m a\u001b[39m=\u001b[39mtarget_mol\u001b[39m.\u001b[39mGetConformers()\n\u001b[1;32m----> <a href='vscode-notebook-cell:/c%3A/Users/aminr/Documents/Thesis/pre-training-via-denoising/train.ipynb#X61sZmlsZQ%3D%3D?line=1'>2</a>\u001b[0m a[\u001b[39m0\u001b[39;49m]\n",
      "\u001b[1;31mIndexError\u001b[0m: End of sequence hit"
     ]
    }
   ],
   "source": [
    "a=target_mol.GetConformers()\n",
    "a[0]"
   ]
  },
  {
   "cell_type": "code",
   "execution_count": 91,
   "metadata": {},
   "outputs": [],
   "source": [
    "mol=suppl[375]\n",
    "positions=mol.GetConformer().GetPositions()\n"
   ]
  },
  {
   "cell_type": "code",
   "execution_count": 91,
   "metadata": {},
   "outputs": [
    {
     "ename": "RuntimeError",
     "evalue": "No sub-structure match found between the probe and query mol",
     "output_type": "error",
     "traceback": [
      "\u001b[1;31m---------------------------------------------------------------------------\u001b[0m",
      "\u001b[1;31mRuntimeError\u001b[0m                              Traceback (most recent call last)",
      "\u001b[1;32mc:\\Users\\aminr\\Documents\\Thesis\\pre-training-via-denoising\\train.ipynb Cell 16\u001b[0m in \u001b[0;36m<cell line: 1>\u001b[1;34m()\u001b[0m\n\u001b[1;32m----> <a href='vscode-notebook-cell:/c%3A/Users/aminr/Documents/Thesis/pre-training-via-denoising/train.ipynb#X21sZmlsZQ%3D%3D?line=0'>1</a>\u001b[0m Chem\u001b[39m.\u001b[39;49mrdMolAlign\u001b[39m.\u001b[39;49mGetAlignmentTransform(mol,target_mol)\n",
      "\u001b[1;31mRuntimeError\u001b[0m: No sub-structure match found between the probe and query mol"
     ]
    }
   ],
   "source": [
    "Chem.rdMolAlign.GetAlignmentTransform(mol,target_mol)"
   ]
  },
  {
   "cell_type": "code",
   "execution_count": 95,
   "metadata": {},
   "outputs": [
    {
     "ename": "RuntimeError",
     "evalue": "No sub-structure match found between the reference and probe mol",
     "output_type": "error",
     "traceback": [
      "\u001b[1;31m---------------------------------------------------------------------------\u001b[0m",
      "\u001b[1;31mRuntimeError\u001b[0m                              Traceback (most recent call last)",
      "\u001b[1;32mc:\\Users\\aminr\\Documents\\Thesis\\pre-training-via-denoising\\train.ipynb Cell 17\u001b[0m in \u001b[0;36m<cell line: 1>\u001b[1;34m()\u001b[0m\n\u001b[1;32m----> <a href='vscode-notebook-cell:/c%3A/Users/aminr/Documents/Thesis/pre-training-via-denoising/train.ipynb#X22sZmlsZQ%3D%3D?line=0'>1</a>\u001b[0m Chem\u001b[39m.\u001b[39;49mrdMolAlign\u001b[39m.\u001b[39;49mCalcRMS(mol,target_mol,\u001b[39m0\u001b[39;49m,\u001b[39m0\u001b[39;49m)\n",
      "\u001b[1;31mRuntimeError\u001b[0m: No sub-structure match found between the reference and probe mol"
     ]
    }
   ],
   "source": [
    "Chem.rdMolAlign.CalcRMS(mol,target_mol,0,0)"
   ]
  },
  {
   "cell_type": "code",
   "execution_count": 96,
   "metadata": {},
   "outputs": [
    {
     "ename": "RuntimeError",
     "evalue": "No sub-structure match found between the reference and probe mol",
     "output_type": "error",
     "traceback": [
      "\u001b[1;31m---------------------------------------------------------------------------\u001b[0m",
      "\u001b[1;31mRuntimeError\u001b[0m                              Traceback (most recent call last)",
      "\u001b[1;32mc:\\Users\\aminr\\Documents\\Thesis\\pre-training-via-denoising\\train.ipynb Cell 18\u001b[0m in \u001b[0;36m<cell line: 1>\u001b[1;34m()\u001b[0m\n\u001b[1;32m----> <a href='vscode-notebook-cell:/c%3A/Users/aminr/Documents/Thesis/pre-training-via-denoising/train.ipynb#X23sZmlsZQ%3D%3D?line=0'>1</a>\u001b[0m Chem\u001b[39m.\u001b[39;49mrdMolAlign\u001b[39m.\u001b[39;49mGetBestRMS(mol,target_mol,\u001b[39m0\u001b[39;49m,\u001b[39m0\u001b[39;49m)\n",
      "\u001b[1;31mRuntimeError\u001b[0m: No sub-structure match found between the reference and probe mol"
     ]
    }
   ],
   "source": [
    "Chem.rdMolAlign.GetBestRMS(mol,target_mol,0,0)"
   ]
  },
  {
   "cell_type": "code",
   "execution_count": 109,
   "metadata": {},
   "outputs": [
    {
     "data": {
      "text/plain": [
       "1"
      ]
     },
     "execution_count": 109,
     "metadata": {},
     "output_type": "execute_result"
    }
   ],
   "source": [
    "Chem.rdForceFieldHelpers.UFFOptimizeMolecule(target_mol,confId=0,maxIters=40)"
   ]
  },
  {
   "cell_type": "code",
   "execution_count": 4,
   "metadata": {},
   "outputs": [
    {
     "data": {
      "application/3dmoljs_load.v0": "<div id=\"3dmolviewer_16850222450243263\"  style=\"position: relative; width: 400px; height: 400px;\">\n        <p id=\"3dmolwarning_16850222450243263\" style=\"background-color:#ffcccc;color:black\">You appear to be running in JupyterLab (or JavaScript failed to load for some other reason).  You need to install the 3dmol extension: <br>\n        <tt>jupyter labextension install jupyterlab_3dmol</tt></p>\n        </div>\n<script>\n\nvar loadScriptAsync = function(uri){\n  return new Promise((resolve, reject) => {\n    //this is to ignore the existence of requirejs amd\n    var savedexports, savedmodule;\n    if (typeof exports !== 'undefined') savedexports = exports;\n    else exports = {}\n    if (typeof module !== 'undefined') savedmodule = module;\n    else module = {}\n\n    var tag = document.createElement('script');\n    tag.src = uri;\n    tag.async = true;\n    tag.onload = () => {\n        exports = savedexports;\n        module = savedmodule;\n        resolve();\n    };\n  var firstScriptTag = document.getElementsByTagName('script')[0];\n  firstScriptTag.parentNode.insertBefore(tag, firstScriptTag);\n});\n};\n\nif(typeof $3Dmolpromise === 'undefined') {\n$3Dmolpromise = null;\n  $3Dmolpromise = loadScriptAsync('https://cdnjs.cloudflare.com/ajax/libs/3Dmol/2.0.3/3Dmol-min.js');\n}\n\nvar viewer_16850222450243263 = null;\nvar warn = document.getElementById(\"3dmolwarning_16850222450243263\");\nif(warn) {\n    warn.parentNode.removeChild(warn);\n}\n$3Dmolpromise.then(function() {\nviewer_16850222450243263 = $3Dmol.createViewer(document.getElementById(\"3dmolviewer_16850222450243263\"),{backgroundColor:\"white\"});\nviewer_16850222450243263.zoomTo();\n\tviewer_16850222450243263.removeAllModels();\n\tviewer_16850222450243263.addModel(\"gdb_1\\n     RDKit          3D\\n\\n  5  4  0  0  0  0  0  0  0  0999 V2000\\n   -0.0127    1.0858    0.0080 C   0  0  0  0  0  0  0  0  0  0  0  0\\n    0.0022   -0.0060    0.0020 H   0  0  0  0  0  0  0  0  0  0  0  0\\n    1.0117    1.4638    0.0003 H   0  0  0  0  0  0  0  0  0  0  0  0\\n   -0.5408    1.4475   -0.8766 H   0  0  0  0  0  0  0  0  0  0  0  0\\n   -0.5238    1.4379    0.9064 H   0  0  0  0  0  0  0  0  0  0  0  0\\n  1  2  1  0\\n  1  3  1  0\\n  1  4  1  0\\n  1  5  1  0\\nM  END\\n\",\"sdf\");\n\tviewer_16850222450243263.setStyle({\"stick\": {}});\n\tviewer_16850222450243263.setBackgroundColor(\"0xeeeeee\");\n\tviewer_16850222450243263.zoomTo();\nviewer_16850222450243263.render();\n});\n</script>",
      "text/html": [
       "<div id=\"3dmolviewer_16850222450243263\"  style=\"position: relative; width: 400px; height: 400px;\">\n",
       "        <p id=\"3dmolwarning_16850222450243263\" style=\"background-color:#ffcccc;color:black\">You appear to be running in JupyterLab (or JavaScript failed to load for some other reason).  You need to install the 3dmol extension: <br>\n",
       "        <tt>jupyter labextension install jupyterlab_3dmol</tt></p>\n",
       "        </div>\n",
       "<script>\n",
       "\n",
       "var loadScriptAsync = function(uri){\n",
       "  return new Promise((resolve, reject) => {\n",
       "    //this is to ignore the existence of requirejs amd\n",
       "    var savedexports, savedmodule;\n",
       "    if (typeof exports !== 'undefined') savedexports = exports;\n",
       "    else exports = {}\n",
       "    if (typeof module !== 'undefined') savedmodule = module;\n",
       "    else module = {}\n",
       "\n",
       "    var tag = document.createElement('script');\n",
       "    tag.src = uri;\n",
       "    tag.async = true;\n",
       "    tag.onload = () => {\n",
       "        exports = savedexports;\n",
       "        module = savedmodule;\n",
       "        resolve();\n",
       "    };\n",
       "  var firstScriptTag = document.getElementsByTagName('script')[0];\n",
       "  firstScriptTag.parentNode.insertBefore(tag, firstScriptTag);\n",
       "});\n",
       "};\n",
       "\n",
       "if(typeof $3Dmolpromise === 'undefined') {\n",
       "$3Dmolpromise = null;\n",
       "  $3Dmolpromise = loadScriptAsync('https://cdnjs.cloudflare.com/ajax/libs/3Dmol/2.0.3/3Dmol-min.js');\n",
       "}\n",
       "\n",
       "var viewer_16850222450243263 = null;\n",
       "var warn = document.getElementById(\"3dmolwarning_16850222450243263\");\n",
       "if(warn) {\n",
       "    warn.parentNode.removeChild(warn);\n",
       "}\n",
       "$3Dmolpromise.then(function() {\n",
       "viewer_16850222450243263 = $3Dmol.createViewer(document.getElementById(\"3dmolviewer_16850222450243263\"),{backgroundColor:\"white\"});\n",
       "viewer_16850222450243263.zoomTo();\n",
       "\tviewer_16850222450243263.removeAllModels();\n",
       "\tviewer_16850222450243263.addModel(\"gdb_1\\n     RDKit          3D\\n\\n  5  4  0  0  0  0  0  0  0  0999 V2000\\n   -0.0127    1.0858    0.0080 C   0  0  0  0  0  0  0  0  0  0  0  0\\n    0.0022   -0.0060    0.0020 H   0  0  0  0  0  0  0  0  0  0  0  0\\n    1.0117    1.4638    0.0003 H   0  0  0  0  0  0  0  0  0  0  0  0\\n   -0.5408    1.4475   -0.8766 H   0  0  0  0  0  0  0  0  0  0  0  0\\n   -0.5238    1.4379    0.9064 H   0  0  0  0  0  0  0  0  0  0  0  0\\n  1  2  1  0\\n  1  3  1  0\\n  1  4  1  0\\n  1  5  1  0\\nM  END\\n\",\"sdf\");\n",
       "\tviewer_16850222450243263.setStyle({\"stick\": {}});\n",
       "\tviewer_16850222450243263.setBackgroundColor(\"0xeeeeee\");\n",
       "\tviewer_16850222450243263.zoomTo();\n",
       "viewer_16850222450243263.render();\n",
       "});\n",
       "</script>"
      ]
     },
     "metadata": {},
     "output_type": "display_data"
    }
   ],
   "source": [
    "IPythonConsole.drawMol3D(suppl[0],confId=0)\n",
    "#IPythonConsole.drawMol3D(target_mol,confId=0)\n"
   ]
  },
  {
   "cell_type": "code",
   "execution_count": 10,
   "metadata": {},
   "outputs": [],
   "source": [
    "from rdkit import Chem\n",
    "from rdkit.Chem.Draw import IPythonConsole\n",
    "IPythonConsole.ipython_3d = True\n",
    "import py3Dmol\n",
    "from rdkit.Chem import rdDepictor\n",
    "from rdkit.Chem import rdDistGeom\n",
    "import rdkit\n",
    "\n"
   ]
  },
  {
   "cell_type": "code",
   "execution_count": 12,
   "metadata": {},
   "outputs": [
    {
     "data": {
      "application/3dmoljs_load.v0": "<div id=\"3dmolviewer_16846808491962676\"  style=\"position: relative; width: 400px; height: 400px;\">\n        <p id=\"3dmolwarning_16846808491962676\" style=\"background-color:#ffcccc;color:black\">You appear to be running in JupyterLab (or JavaScript failed to load for some other reason).  You need to install the 3dmol extension: <br>\n        <tt>jupyter labextension install jupyterlab_3dmol</tt></p>\n        </div>\n<script>\n\nvar loadScriptAsync = function(uri){\n  return new Promise((resolve, reject) => {\n    //this is to ignore the existence of requirejs amd\n    var savedexports, savedmodule;\n    if (typeof exports !== 'undefined') savedexports = exports;\n    else exports = {}\n    if (typeof module !== 'undefined') savedmodule = module;\n    else module = {}\n\n    var tag = document.createElement('script');\n    tag.src = uri;\n    tag.async = true;\n    tag.onload = () => {\n        exports = savedexports;\n        module = savedmodule;\n        resolve();\n    };\n  var firstScriptTag = document.getElementsByTagName('script')[0];\n  firstScriptTag.parentNode.insertBefore(tag, firstScriptTag);\n});\n};\n\nif(typeof $3Dmolpromise === 'undefined') {\n$3Dmolpromise = null;\n  $3Dmolpromise = loadScriptAsync('https://cdnjs.cloudflare.com/ajax/libs/3Dmol/2.0.3/3Dmol-min.js');\n}\n\nvar viewer_16846808491962676 = null;\nvar warn = document.getElementById(\"3dmolwarning_16846808491962676\");\nif(warn) {\n    warn.parentNode.removeChild(warn);\n}\n$3Dmolpromise.then(function() {\nviewer_16846808491962676 = $3Dmol.createViewer(document.getElementById(\"3dmolviewer_16846808491962676\"),{backgroundColor:\"white\"});\nviewer_16846808491962676.zoomTo();\n\tviewer_16846808491962676.removeAllModels();\n\tviewer_16846808491962676.addModel(\"gdb_376\\n     RDKit          3D\\n\\n 14 13  0  0  1  0  0  0  0  0999 V2000\\n    0.0448    1.4745    0.0820 C   0  0  0  0  0  0  0  0  0  0  0  0\\n   -0.1141    0.0382   -0.1087 N   0  0  0  0  0  0  0  0  0  0  0  0\\n    0.6760   -0.5269   -1.1998 C   0  0  0  0  0  0  0  0  0  0  0  0\\n    2.2090   -0.5299   -1.0082 C   0  0  0  0  0  0  0  0  0  0  0  0\\n    0.2077   -1.9009   -1.4573 C   0  0  0  0  0  0  0  0  0  0  0  0\\n   -0.1284   -2.9894   -1.6489 N   0  0  0  0  0  0  0  0  0  0  0  0\\n    1.0681    1.8091    0.3181 H   0  0  0  0  0  0  0  0  0  0  0  0\\n   -0.2775    1.9965   -0.8259 H   0  0  0  0  0  0  0  0  0  0  0  0\\n   -0.6101    1.7952    0.8967 H   0  0  0  0  0  0  0  0  0  0  0  0\\n    0.0798   -0.4635    0.7515 H   0  0  0  0  0  0  0  0  0  0  0  0\\n    0.4397    0.0608   -2.0973 H   0  0  0  0  0  0  0  0  0  0  0  0\\n    2.5728    0.4910   -0.8688 H   0  0  0  0  0  0  0  0  0  0  0  0\\n    2.4841   -1.1238   -0.1315 H   0  0  0  0  0  0  0  0  0  0  0  0\\n    2.7102   -0.9567   -1.8814 H   0  0  0  0  0  0  0  0  0  0  0  0\\n  3 11  1  0\\n  4 14  1  0\\n  5  6  3  0\\n  3  5  1  0\\n  3  4  1  0\\n  2  3  1  0\\n  4 12  1  0\\n  4 13  1  0\\n  1  8  1  0\\n  1  2  1  0\\n  2 10  1  0\\n  1  7  1  0\\n  1  9  1  0\\nM  END\\n\",\"sdf\");\n\tviewer_16846808491962676.setStyle({\"stick\": {}});\n\tviewer_16846808491962676.setBackgroundColor(\"0xeeeeee\");\n\tviewer_16846808491962676.zoomTo();\nviewer_16846808491962676.render();\n});\n</script>",
      "text/html": [
       "<div id=\"3dmolviewer_16846808491962676\"  style=\"position: relative; width: 400px; height: 400px;\">\n",
       "        <p id=\"3dmolwarning_16846808491962676\" style=\"background-color:#ffcccc;color:black\">You appear to be running in JupyterLab (or JavaScript failed to load for some other reason).  You need to install the 3dmol extension: <br>\n",
       "        <tt>jupyter labextension install jupyterlab_3dmol</tt></p>\n",
       "        </div>\n",
       "<script>\n",
       "\n",
       "var loadScriptAsync = function(uri){\n",
       "  return new Promise((resolve, reject) => {\n",
       "    //this is to ignore the existence of requirejs amd\n",
       "    var savedexports, savedmodule;\n",
       "    if (typeof exports !== 'undefined') savedexports = exports;\n",
       "    else exports = {}\n",
       "    if (typeof module !== 'undefined') savedmodule = module;\n",
       "    else module = {}\n",
       "\n",
       "    var tag = document.createElement('script');\n",
       "    tag.src = uri;\n",
       "    tag.async = true;\n",
       "    tag.onload = () => {\n",
       "        exports = savedexports;\n",
       "        module = savedmodule;\n",
       "        resolve();\n",
       "    };\n",
       "  var firstScriptTag = document.getElementsByTagName('script')[0];\n",
       "  firstScriptTag.parentNode.insertBefore(tag, firstScriptTag);\n",
       "});\n",
       "};\n",
       "\n",
       "if(typeof $3Dmolpromise === 'undefined') {\n",
       "$3Dmolpromise = null;\n",
       "  $3Dmolpromise = loadScriptAsync('https://cdnjs.cloudflare.com/ajax/libs/3Dmol/2.0.3/3Dmol-min.js');\n",
       "}\n",
       "\n",
       "var viewer_16846808491962676 = null;\n",
       "var warn = document.getElementById(\"3dmolwarning_16846808491962676\");\n",
       "if(warn) {\n",
       "    warn.parentNode.removeChild(warn);\n",
       "}\n",
       "$3Dmolpromise.then(function() {\n",
       "viewer_16846808491962676 = $3Dmol.createViewer(document.getElementById(\"3dmolviewer_16846808491962676\"),{backgroundColor:\"white\"});\n",
       "viewer_16846808491962676.zoomTo();\n",
       "\tviewer_16846808491962676.removeAllModels();\n",
       "\tviewer_16846808491962676.addModel(\"gdb_376\\n     RDKit          3D\\n\\n 14 13  0  0  1  0  0  0  0  0999 V2000\\n    0.0448    1.4745    0.0820 C   0  0  0  0  0  0  0  0  0  0  0  0\\n   -0.1141    0.0382   -0.1087 N   0  0  0  0  0  0  0  0  0  0  0  0\\n    0.6760   -0.5269   -1.1998 C   0  0  0  0  0  0  0  0  0  0  0  0\\n    2.2090   -0.5299   -1.0082 C   0  0  0  0  0  0  0  0  0  0  0  0\\n    0.2077   -1.9009   -1.4573 C   0  0  0  0  0  0  0  0  0  0  0  0\\n   -0.1284   -2.9894   -1.6489 N   0  0  0  0  0  0  0  0  0  0  0  0\\n    1.0681    1.8091    0.3181 H   0  0  0  0  0  0  0  0  0  0  0  0\\n   -0.2775    1.9965   -0.8259 H   0  0  0  0  0  0  0  0  0  0  0  0\\n   -0.6101    1.7952    0.8967 H   0  0  0  0  0  0  0  0  0  0  0  0\\n    0.0798   -0.4635    0.7515 H   0  0  0  0  0  0  0  0  0  0  0  0\\n    0.4397    0.0608   -2.0973 H   0  0  0  0  0  0  0  0  0  0  0  0\\n    2.5728    0.4910   -0.8688 H   0  0  0  0  0  0  0  0  0  0  0  0\\n    2.4841   -1.1238   -0.1315 H   0  0  0  0  0  0  0  0  0  0  0  0\\n    2.7102   -0.9567   -1.8814 H   0  0  0  0  0  0  0  0  0  0  0  0\\n  3 11  1  0\\n  4 14  1  0\\n  5  6  3  0\\n  3  5  1  0\\n  3  4  1  0\\n  2  3  1  0\\n  4 12  1  0\\n  4 13  1  0\\n  1  8  1  0\\n  1  2  1  0\\n  2 10  1  0\\n  1  7  1  0\\n  1  9  1  0\\nM  END\\n\",\"sdf\");\n",
       "\tviewer_16846808491962676.setStyle({\"stick\": {}});\n",
       "\tviewer_16846808491962676.setBackgroundColor(\"0xeeeeee\");\n",
       "\tviewer_16846808491962676.zoomTo();\n",
       "viewer_16846808491962676.render();\n",
       "});\n",
       "</script>"
      ]
     },
     "metadata": {},
     "output_type": "display_data"
    }
   ],
   "source": [
    "cf=mol2.GetConformer()\n",
    "IPythonConsole.drawMol3D(mol2,confId=0)"
   ]
  },
  {
   "cell_type": "code",
   "execution_count": 5,
   "metadata": {},
   "outputs": [
    {
     "data": {
      "application/3dmoljs_load.v0": "<div id=\"3dmolviewer_16846764932151763\"  style=\"position: relative; width: 400px; height: 400px;\">\n        <p id=\"3dmolwarning_16846764932151763\" style=\"background-color:#ffcccc;color:black\">You appear to be running in JupyterLab (or JavaScript failed to load for some other reason).  You need to install the 3dmol extension: <br>\n        <tt>jupyter labextension install jupyterlab_3dmol</tt></p>\n        </div>\n<script>\n\nvar loadScriptAsync = function(uri){\n  return new Promise((resolve, reject) => {\n    //this is to ignore the existence of requirejs amd\n    var savedexports, savedmodule;\n    if (typeof exports !== 'undefined') savedexports = exports;\n    else exports = {}\n    if (typeof module !== 'undefined') savedmodule = module;\n    else module = {}\n\n    var tag = document.createElement('script');\n    tag.src = uri;\n    tag.async = true;\n    tag.onload = () => {\n        exports = savedexports;\n        module = savedmodule;\n        resolve();\n    };\n  var firstScriptTag = document.getElementsByTagName('script')[0];\n  firstScriptTag.parentNode.insertBefore(tag, firstScriptTag);\n});\n};\n\nif(typeof $3Dmolpromise === 'undefined') {\n$3Dmolpromise = null;\n  $3Dmolpromise = loadScriptAsync('https://cdnjs.cloudflare.com/ajax/libs/3Dmol/2.0.3/3Dmol-min.js');\n}\n\nvar viewer_16846764932151763 = null;\nvar warn = document.getElementById(\"3dmolwarning_16846764932151763\");\nif(warn) {\n    warn.parentNode.removeChild(warn);\n}\n$3Dmolpromise.then(function() {\nviewer_16846764932151763 = $3Dmol.createViewer(document.getElementById(\"3dmolviewer_16846764932151763\"),{backgroundColor:\"white\"});\nviewer_16846764932151763.zoomTo();\n\tviewer_16846764932151763.removeAllModels();\n\tviewer_16846764932151763.addModel(\"gdb_376\\n     RDKit          3D\\n\\n 14 13  0  0  1  0  0  0  0  0999 V2000\\n    0.0448    1.4745    0.0820 C   0  0  0  0  0  0  0  0  0  0  0  0\\n   -0.1141    0.0382   -0.1087 N   0  0  0  0  0  0  0  0  0  0  0  0\\n    0.6760   -0.5269   -1.1998 C   0  0  0  0  0  0  0  0  0  0  0  0\\n    2.2090   -0.5299   -1.0082 C   0  0  0  0  0  0  0  0  0  0  0  0\\n    0.2077   -1.9009   -1.4573 C   0  0  0  0  0  0  0  0  0  0  0  0\\n   -0.1284   -2.9894   -1.6489 N   0  0  0  0  0  0  0  0  0  0  0  0\\n    1.0681    1.8091    0.3181 H   0  0  0  0  0  0  0  0  0  0  0  0\\n   -0.2775    1.9965   -0.8259 H   0  0  0  0  0  0  0  0  0  0  0  0\\n   -0.6101    1.7952    0.8967 H   0  0  0  0  0  0  0  0  0  0  0  0\\n    0.0798   -0.4635    0.7515 H   0  0  0  0  0  0  0  0  0  0  0  0\\n    0.4397    0.0608   -2.0973 H   0  0  0  0  0  0  0  0  0  0  0  0\\n    2.5728    0.4910   -0.8688 H   0  0  0  0  0  0  0  0  0  0  0  0\\n    2.4841   -1.1238   -0.1315 H   0  0  0  0  0  0  0  0  0  0  0  0\\n    2.7102   -0.9567   -1.8814 H   0  0  0  0  0  0  0  0  0  0  0  0\\n  3 11  1  0\\n  4 14  1  0\\n  5  6  3  0\\n  3  5  1  0\\n  3  4  1  0\\n  2  3  1  0\\n  4 12  1  0\\n  4 13  1  0\\n  1  8  1  0\\n  1  2  1  0\\n  2 10  1  0\\n  1  7  1  0\\n  1  9  1  0\\nM  END\\n\",\"sdf\");\n\tviewer_16846764932151763.setStyle({\"stick\": {}});\n\tviewer_16846764932151763.setBackgroundColor(\"0xeeeeee\");\n\tviewer_16846764932151763.zoomTo();\nviewer_16846764932151763.render();\n});\n</script>",
      "text/html": [
       "<div id=\"3dmolviewer_16846764932151763\"  style=\"position: relative; width: 400px; height: 400px;\">\n",
       "        <p id=\"3dmolwarning_16846764932151763\" style=\"background-color:#ffcccc;color:black\">You appear to be running in JupyterLab (or JavaScript failed to load for some other reason).  You need to install the 3dmol extension: <br>\n",
       "        <tt>jupyter labextension install jupyterlab_3dmol</tt></p>\n",
       "        </div>\n",
       "<script>\n",
       "\n",
       "var loadScriptAsync = function(uri){\n",
       "  return new Promise((resolve, reject) => {\n",
       "    //this is to ignore the existence of requirejs amd\n",
       "    var savedexports, savedmodule;\n",
       "    if (typeof exports !== 'undefined') savedexports = exports;\n",
       "    else exports = {}\n",
       "    if (typeof module !== 'undefined') savedmodule = module;\n",
       "    else module = {}\n",
       "\n",
       "    var tag = document.createElement('script');\n",
       "    tag.src = uri;\n",
       "    tag.async = true;\n",
       "    tag.onload = () => {\n",
       "        exports = savedexports;\n",
       "        module = savedmodule;\n",
       "        resolve();\n",
       "    };\n",
       "  var firstScriptTag = document.getElementsByTagName('script')[0];\n",
       "  firstScriptTag.parentNode.insertBefore(tag, firstScriptTag);\n",
       "});\n",
       "};\n",
       "\n",
       "if(typeof $3Dmolpromise === 'undefined') {\n",
       "$3Dmolpromise = null;\n",
       "  $3Dmolpromise = loadScriptAsync('https://cdnjs.cloudflare.com/ajax/libs/3Dmol/2.0.3/3Dmol-min.js');\n",
       "}\n",
       "\n",
       "var viewer_16846764932151763 = null;\n",
       "var warn = document.getElementById(\"3dmolwarning_16846764932151763\");\n",
       "if(warn) {\n",
       "    warn.parentNode.removeChild(warn);\n",
       "}\n",
       "$3Dmolpromise.then(function() {\n",
       "viewer_16846764932151763 = $3Dmol.createViewer(document.getElementById(\"3dmolviewer_16846764932151763\"),{backgroundColor:\"white\"});\n",
       "viewer_16846764932151763.zoomTo();\n",
       "\tviewer_16846764932151763.removeAllModels();\n",
       "\tviewer_16846764932151763.addModel(\"gdb_376\\n     RDKit          3D\\n\\n 14 13  0  0  1  0  0  0  0  0999 V2000\\n    0.0448    1.4745    0.0820 C   0  0  0  0  0  0  0  0  0  0  0  0\\n   -0.1141    0.0382   -0.1087 N   0  0  0  0  0  0  0  0  0  0  0  0\\n    0.6760   -0.5269   -1.1998 C   0  0  0  0  0  0  0  0  0  0  0  0\\n    2.2090   -0.5299   -1.0082 C   0  0  0  0  0  0  0  0  0  0  0  0\\n    0.2077   -1.9009   -1.4573 C   0  0  0  0  0  0  0  0  0  0  0  0\\n   -0.1284   -2.9894   -1.6489 N   0  0  0  0  0  0  0  0  0  0  0  0\\n    1.0681    1.8091    0.3181 H   0  0  0  0  0  0  0  0  0  0  0  0\\n   -0.2775    1.9965   -0.8259 H   0  0  0  0  0  0  0  0  0  0  0  0\\n   -0.6101    1.7952    0.8967 H   0  0  0  0  0  0  0  0  0  0  0  0\\n    0.0798   -0.4635    0.7515 H   0  0  0  0  0  0  0  0  0  0  0  0\\n    0.4397    0.0608   -2.0973 H   0  0  0  0  0  0  0  0  0  0  0  0\\n    2.5728    0.4910   -0.8688 H   0  0  0  0  0  0  0  0  0  0  0  0\\n    2.4841   -1.1238   -0.1315 H   0  0  0  0  0  0  0  0  0  0  0  0\\n    2.7102   -0.9567   -1.8814 H   0  0  0  0  0  0  0  0  0  0  0  0\\n  3 11  1  0\\n  4 14  1  0\\n  5  6  3  0\\n  3  5  1  0\\n  3  4  1  0\\n  2  3  1  0\\n  4 12  1  0\\n  4 13  1  0\\n  1  8  1  0\\n  1  2  1  0\\n  2 10  1  0\\n  1  7  1  0\\n  1  9  1  0\\nM  END\\n\",\"sdf\");\n",
       "\tviewer_16846764932151763.setStyle({\"stick\": {}});\n",
       "\tviewer_16846764932151763.setBackgroundColor(\"0xeeeeee\");\n",
       "\tviewer_16846764932151763.zoomTo();\n",
       "viewer_16846764932151763.render();\n",
       "});\n",
       "</script>"
      ]
     },
     "metadata": {},
     "output_type": "display_data"
    }
   ],
   "source": [
    "IPythonConsole.drawMol3D(mol,confId=0)\n"
   ]
  },
  {
   "cell_type": "code",
   "execution_count": 5,
   "metadata": {},
   "outputs": [
    {
     "name": "stdout",
     "output_type": "stream",
     "text": [
      "0\n",
      "[[ 0.0448  1.4745  0.082 ]\n",
      " [-0.1141  0.0382 -0.1087]\n",
      " [ 0.676  -0.5269 -1.1998]\n",
      " [ 2.209  -0.5299 -1.0082]\n",
      " [ 0.2077 -1.9009 -1.4573]\n",
      " [-0.1284 -2.9894 -1.6489]\n",
      " [ 1.0681  1.8091  0.3181]\n",
      " [-0.2775  1.9965 -0.8259]\n",
      " [-0.6101  1.7952  0.8967]\n",
      " [ 0.0798 -0.4635  0.7515]\n",
      " [ 0.4397  0.0608 -2.0973]\n",
      " [ 2.5728  0.491  -0.8688]\n",
      " [ 2.4841 -1.1238 -0.1315]\n",
      " [ 2.7102 -0.9567 -1.8814]]\n",
      "[[ 0.04386523  1.52345625  0.09775143]\n",
      " [-0.14531104  0.01013604 -0.09918746]\n",
      " [ 0.75045109 -0.5286323  -1.18670165]\n",
      " [ 2.18794694 -0.5979397  -0.98743622]\n",
      " [ 0.22980846 -1.89373686 -1.54160074]\n",
      " [-0.09860824 -2.98607448 -1.57854657]\n",
      " [ 1.05860199  1.81894906  0.32410607]\n",
      " [-0.24731624  1.98949928 -0.82270865]\n",
      " [-0.58530139  1.80543866  0.86149709]\n",
      " [ 0.10120597 -0.4983125   0.73739685]\n",
      " [ 0.43927168  0.05895377 -2.09809234]\n",
      " [ 2.56048581  0.51042521 -0.90809486]\n",
      " [ 2.49636246 -1.16184422 -0.06867952]\n",
      " [ 2.7664228  -0.94920639 -1.8966374 ]]\n",
      "[[ 0.0663793   1.46643826  0.06130053]\n",
      " [-0.08941926  0.02706983 -0.07493723]\n",
      " [ 0.65580353 -0.53873415 -1.21529566]\n",
      " [ 2.1702833  -0.51019837 -0.9857395 ]\n",
      " [ 0.23454233 -1.94099548 -1.47536885]\n",
      " [-0.06938691 -3.04359805 -1.6798933 ]\n",
      " [ 1.0882749   1.74687099  0.33210293]\n",
      " [-0.21835581  1.98768142 -0.8582494 ]\n",
      " [-0.59390252  1.82606288  0.85685525]\n",
      " [ 0.1933887  -0.43821579  0.78780153]\n",
      " [ 0.42365215  0.04108644 -2.1176876 ]\n",
      " [ 2.54871514  0.51363046 -0.90524755]\n",
      " [ 2.44866943 -1.04968793 -0.07264236]\n",
      " [ 2.69924125 -0.9862987  -1.81993275]]\n"
     ]
    }
   ],
   "source": [
    "#Chem.AddHs(mol)\n",
    "from rdkit.Geometry import Point3D\n",
    "conf=mol.GetConformer(0)\n",
    "print(conf.GetId())\n",
    "print(conf.GetPositions())\n",
    "positions=conf.GetPositions()\n",
    "noise=np.random.randn(positions.shape[0],positions.shape[1]) * 0.03\n",
    "newpositions=positions+noise\n",
    "for i in range(mol.GetNumAtoms()):\n",
    "    conf.SetAtomPosition(i, Point3D(newpositions[i][0],newpositions[i][1],newpositions[i][2]))\n",
    "print(conf.GetPositions())\n",
    "Chem.rdForceFieldHelpers.MMFFOptimizeMolecule(mol,confId=0,maxIters=1000)\n",
    "print(conf.GetPositions())\n"
   ]
  },
  {
   "cell_type": "code",
   "execution_count": 7,
   "metadata": {},
   "outputs": [
    {
     "data": {
      "text/plain": [
       "0.062077115809664865"
      ]
     },
     "execution_count": 7,
     "metadata": {},
     "output_type": "execute_result"
    }
   ],
   "source": [
    "Chem.rdMolAlign.GetBestRMS(mol,mol2,0,0)"
   ]
  },
  {
   "cell_type": "code",
   "execution_count": 6,
   "metadata": {},
   "outputs": [
    {
     "data": {
      "text/plain": [
       "0.06615768525565952"
      ]
     },
     "execution_count": 6,
     "metadata": {},
     "output_type": "execute_result"
    }
   ],
   "source": [
    "Chem.rdMolAlign.CalcRMS(mol,mol2,0,0)"
   ]
  },
  {
   "cell_type": "code",
   "execution_count": 8,
   "metadata": {},
   "outputs": [
    {
     "data": {
      "text/plain": [
       "array([[ 0.05872255,  1.4677921 ,  0.07522191],\n",
       "       [-0.1028098 ,  0.03041105, -0.07463314],\n",
       "       [ 0.63975791, -0.52745663, -1.2206198 ],\n",
       "       [ 2.1544128 , -0.50720707, -0.99133927],\n",
       "       [ 0.21277532, -1.92546269, -1.49393268],\n",
       "       [-0.09565279, -3.02482825, -1.70888307],\n",
       "       [ 1.08183834,  1.74161525,  0.34817623],\n",
       "       [-0.22437412,  1.99887786, -0.8391899 ],\n",
       "       [-0.59977981,  1.82242352,  0.87448684],\n",
       "       [ 0.17846828, -0.44417442,  0.7835278 ],\n",
       "       [ 0.40965343,  0.06188993, -2.11734768],\n",
       "       [ 2.53698934,  0.51427335, -0.90119888],\n",
       "       [ 2.43091233, -1.05651489, -0.08353927],\n",
       "       [ 2.68118623, -0.97743911, -1.83022909]])"
      ]
     },
     "execution_count": 8,
     "metadata": {},
     "output_type": "execute_result"
    }
   ],
   "source": [
    "mol.GetConformer(0).GetPositions()"
   ]
  },
  {
   "cell_type": "code",
   "execution_count": 9,
   "metadata": {},
   "outputs": [
    {
     "data": {
      "text/plain": [
       "array([[ 0.0448,  1.4745,  0.082 ],\n",
       "       [-0.1141,  0.0382, -0.1087],\n",
       "       [ 0.676 , -0.5269, -1.1998],\n",
       "       [ 2.209 , -0.5299, -1.0082],\n",
       "       [ 0.2077, -1.9009, -1.4573],\n",
       "       [-0.1284, -2.9894, -1.6489],\n",
       "       [ 1.0681,  1.8091,  0.3181],\n",
       "       [-0.2775,  1.9965, -0.8259],\n",
       "       [-0.6101,  1.7952,  0.8967],\n",
       "       [ 0.0798, -0.4635,  0.7515],\n",
       "       [ 0.4397,  0.0608, -2.0973],\n",
       "       [ 2.5728,  0.491 , -0.8688],\n",
       "       [ 2.4841, -1.1238, -0.1315],\n",
       "       [ 2.7102, -0.9567, -1.8814]])"
      ]
     },
     "execution_count": 9,
     "metadata": {},
     "output_type": "execute_result"
    }
   ],
   "source": [
    "mol2.GetConformer(0).GetPositions()"
   ]
  },
  {
   "cell_type": "code",
   "execution_count": 6,
   "metadata": {},
   "outputs": [],
   "source": [
    "conf.SetId(2)"
   ]
  },
  {
   "cell_type": "code",
   "execution_count": null,
   "metadata": {},
   "outputs": [],
   "source": [
    "\n",
    "IPythonConsole.drawMol3D(mol)\n"
   ]
  },
  {
   "cell_type": "code",
   "execution_count": 4,
   "metadata": {},
   "outputs": [],
   "source": [
    "from rdkit.Chem import AllChem\n",
    "import numpy as np\n",
    "mol = Chem.MolFromSmiles(smi)\n",
    "mol=Chem.AddHs(mol)"
   ]
  },
  {
   "cell_type": "code",
   "execution_count": 13,
   "metadata": {},
   "outputs": [
    {
     "data": {
      "text/plain": [
       "array([[ 0.27115779, -0.0235985 , -1.03320013],\n",
       "       [ 1.58941196, -0.04171642, -0.58475614],\n",
       "       [-0.77393345,  0.23685482, -0.14215826],\n",
       "       [-0.74429438,  1.56223022,  0.48034737],\n",
       "       [-0.70170269,  2.61720748,  0.98265005],\n",
       "       [-0.95651482, -0.82290911,  0.94254558],\n",
       "       [ 0.0559249 , -0.22666395, -2.00024404],\n",
       "       [ 2.17859399, -0.75726254, -1.23374429],\n",
       "       [ 2.15208176,  0.93111531, -0.69847639],\n",
       "       [ 1.75734462, -0.39537658,  0.44630028],\n",
       "       [-1.74340917,  0.20915221, -0.72064797],\n",
       "       [-0.19416651, -0.73072232,  1.7410267 ],\n",
       "       [-0.90098491, -1.82591115,  0.47921811],\n",
       "       [-1.98950909, -0.73239947,  1.34113914]])"
      ]
     },
     "execution_count": 13,
     "metadata": {},
     "output_type": "execute_result"
    }
   ],
   "source": [
    "Chem.AllChem.EmbedMolecule(mol)\n",
    "conf=mol.GetConformer()\n",
    "conf.GetPositions()"
   ]
  },
  {
   "cell_type": "code",
   "execution_count": 15,
   "metadata": {},
   "outputs": [
    {
     "data": {
      "application/3dmoljs_load.v0": "<div id=\"3dmolviewer_16847642602458913\"  style=\"position: relative; width: 400px; height: 400px;\">\n        <p id=\"3dmolwarning_16847642602458913\" style=\"background-color:#ffcccc;color:black\">You appear to be running in JupyterLab (or JavaScript failed to load for some other reason).  You need to install the 3dmol extension: <br>\n        <tt>jupyter labextension install jupyterlab_3dmol</tt></p>\n        </div>\n<script>\n\nvar loadScriptAsync = function(uri){\n  return new Promise((resolve, reject) => {\n    //this is to ignore the existence of requirejs amd\n    var savedexports, savedmodule;\n    if (typeof exports !== 'undefined') savedexports = exports;\n    else exports = {}\n    if (typeof module !== 'undefined') savedmodule = module;\n    else module = {}\n\n    var tag = document.createElement('script');\n    tag.src = uri;\n    tag.async = true;\n    tag.onload = () => {\n        exports = savedexports;\n        module = savedmodule;\n        resolve();\n    };\n  var firstScriptTag = document.getElementsByTagName('script')[0];\n  firstScriptTag.parentNode.insertBefore(tag, firstScriptTag);\n});\n};\n\nif(typeof $3Dmolpromise === 'undefined') {\n$3Dmolpromise = null;\n  $3Dmolpromise = loadScriptAsync('https://cdnjs.cloudflare.com/ajax/libs/3Dmol/2.0.3/3Dmol-min.js');\n}\n\nvar viewer_16847642602458913 = null;\nvar warn = document.getElementById(\"3dmolwarning_16847642602458913\");\nif(warn) {\n    warn.parentNode.removeChild(warn);\n}\n$3Dmolpromise.then(function() {\nviewer_16847642602458913 = $3Dmol.createViewer(document.getElementById(\"3dmolviewer_16847642602458913\"),{backgroundColor:\"white\"});\nviewer_16847642602458913.zoomTo();\n\tviewer_16847642602458913.removeAllModels();\n\tviewer_16847642602458913.addModel(\"\\n     RDKit          3D\\n\\n 14 13  0  0  0  0  0  0  0  0999 V2000\\n    0.2712   -0.0236   -1.0332 N   0  0  0  0  0  0  0  0  0  0  0  0\\n    1.5894   -0.0417   -0.5848 C   0  0  0  0  0  0  0  0  0  0  0  0\\n   -0.7739    0.2369   -0.1422 C   0  0  0  0  0  0  0  0  0  0  0  0\\n   -0.7443    1.5622    0.4803 C   0  0  0  0  0  0  0  0  0  0  0  0\\n   -0.7017    2.6172    0.9827 N   0  0  0  0  0  0  0  0  0  0  0  0\\n   -0.9565   -0.8229    0.9425 C   0  0  0  0  0  0  0  0  0  0  0  0\\n    0.0559   -0.2267   -2.0002 H   0  0  0  0  0  0  0  0  0  0  0  0\\n    2.1786   -0.7573   -1.2337 H   0  0  0  0  0  0  0  0  0  0  0  0\\n    2.1521    0.9311   -0.6985 H   0  0  0  0  0  0  0  0  0  0  0  0\\n    1.7573   -0.3954    0.4463 H   0  0  0  0  0  0  0  0  0  0  0  0\\n   -1.7434    0.2092   -0.7206 H   0  0  0  0  0  0  0  0  0  0  0  0\\n   -0.1942   -0.7307    1.7410 H   0  0  0  0  0  0  0  0  0  0  0  0\\n   -0.9010   -1.8259    0.4792 H   0  0  0  0  0  0  0  0  0  0  0  0\\n   -1.9895   -0.7324    1.3411 H   0  0  0  0  0  0  0  0  0  0  0  0\\n  1  2  1  0\\n  1  3  1  0\\n  3  4  1  0\\n  4  5  3  0\\n  3  6  1  0\\n  1  7  1  0\\n  2  8  1  0\\n  2  9  1  0\\n  2 10  1  0\\n  3 11  1  0\\n  6 12  1  0\\n  6 13  1  0\\n  6 14  1  0\\nM  END\\n\",\"sdf\");\n\tviewer_16847642602458913.setStyle({\"stick\": {}});\n\tviewer_16847642602458913.setBackgroundColor(\"0xeeeeee\");\n\tviewer_16847642602458913.zoomTo();\nviewer_16847642602458913.render();\n});\n</script>",
      "text/html": [
       "<div id=\"3dmolviewer_16847642602458913\"  style=\"position: relative; width: 400px; height: 400px;\">\n",
       "        <p id=\"3dmolwarning_16847642602458913\" style=\"background-color:#ffcccc;color:black\">You appear to be running in JupyterLab (or JavaScript failed to load for some other reason).  You need to install the 3dmol extension: <br>\n",
       "        <tt>jupyter labextension install jupyterlab_3dmol</tt></p>\n",
       "        </div>\n",
       "<script>\n",
       "\n",
       "var loadScriptAsync = function(uri){\n",
       "  return new Promise((resolve, reject) => {\n",
       "    //this is to ignore the existence of requirejs amd\n",
       "    var savedexports, savedmodule;\n",
       "    if (typeof exports !== 'undefined') savedexports = exports;\n",
       "    else exports = {}\n",
       "    if (typeof module !== 'undefined') savedmodule = module;\n",
       "    else module = {}\n",
       "\n",
       "    var tag = document.createElement('script');\n",
       "    tag.src = uri;\n",
       "    tag.async = true;\n",
       "    tag.onload = () => {\n",
       "        exports = savedexports;\n",
       "        module = savedmodule;\n",
       "        resolve();\n",
       "    };\n",
       "  var firstScriptTag = document.getElementsByTagName('script')[0];\n",
       "  firstScriptTag.parentNode.insertBefore(tag, firstScriptTag);\n",
       "});\n",
       "};\n",
       "\n",
       "if(typeof $3Dmolpromise === 'undefined') {\n",
       "$3Dmolpromise = null;\n",
       "  $3Dmolpromise = loadScriptAsync('https://cdnjs.cloudflare.com/ajax/libs/3Dmol/2.0.3/3Dmol-min.js');\n",
       "}\n",
       "\n",
       "var viewer_16847642602458913 = null;\n",
       "var warn = document.getElementById(\"3dmolwarning_16847642602458913\");\n",
       "if(warn) {\n",
       "    warn.parentNode.removeChild(warn);\n",
       "}\n",
       "$3Dmolpromise.then(function() {\n",
       "viewer_16847642602458913 = $3Dmol.createViewer(document.getElementById(\"3dmolviewer_16847642602458913\"),{backgroundColor:\"white\"});\n",
       "viewer_16847642602458913.zoomTo();\n",
       "\tviewer_16847642602458913.removeAllModels();\n",
       "\tviewer_16847642602458913.addModel(\"\\n     RDKit          3D\\n\\n 14 13  0  0  0  0  0  0  0  0999 V2000\\n    0.2712   -0.0236   -1.0332 N   0  0  0  0  0  0  0  0  0  0  0  0\\n    1.5894   -0.0417   -0.5848 C   0  0  0  0  0  0  0  0  0  0  0  0\\n   -0.7739    0.2369   -0.1422 C   0  0  0  0  0  0  0  0  0  0  0  0\\n   -0.7443    1.5622    0.4803 C   0  0  0  0  0  0  0  0  0  0  0  0\\n   -0.7017    2.6172    0.9827 N   0  0  0  0  0  0  0  0  0  0  0  0\\n   -0.9565   -0.8229    0.9425 C   0  0  0  0  0  0  0  0  0  0  0  0\\n    0.0559   -0.2267   -2.0002 H   0  0  0  0  0  0  0  0  0  0  0  0\\n    2.1786   -0.7573   -1.2337 H   0  0  0  0  0  0  0  0  0  0  0  0\\n    2.1521    0.9311   -0.6985 H   0  0  0  0  0  0  0  0  0  0  0  0\\n    1.7573   -0.3954    0.4463 H   0  0  0  0  0  0  0  0  0  0  0  0\\n   -1.7434    0.2092   -0.7206 H   0  0  0  0  0  0  0  0  0  0  0  0\\n   -0.1942   -0.7307    1.7410 H   0  0  0  0  0  0  0  0  0  0  0  0\\n   -0.9010   -1.8259    0.4792 H   0  0  0  0  0  0  0  0  0  0  0  0\\n   -1.9895   -0.7324    1.3411 H   0  0  0  0  0  0  0  0  0  0  0  0\\n  1  2  1  0\\n  1  3  1  0\\n  3  4  1  0\\n  4  5  3  0\\n  3  6  1  0\\n  1  7  1  0\\n  2  8  1  0\\n  2  9  1  0\\n  2 10  1  0\\n  3 11  1  0\\n  6 12  1  0\\n  6 13  1  0\\n  6 14  1  0\\nM  END\\n\",\"sdf\");\n",
       "\tviewer_16847642602458913.setStyle({\"stick\": {}});\n",
       "\tviewer_16847642602458913.setBackgroundColor(\"0xeeeeee\");\n",
       "\tviewer_16847642602458913.zoomTo();\n",
       "viewer_16847642602458913.render();\n",
       "});\n",
       "</script>"
      ]
     },
     "metadata": {},
     "output_type": "display_data"
    }
   ],
   "source": [
    "IPythonConsole.drawMol3D(mol,confId=0)"
   ]
  },
  {
   "cell_type": "code",
   "execution_count": 109,
   "metadata": {},
   "outputs": [
    {
     "name": "stdout",
     "output_type": "stream",
     "text": [
      "[[-0.57369486 -0.34726401 -0.63030103]\n",
      " [-1.63815228 -0.06481543  0.24955673]\n",
      " [ 0.74040383 -0.31213397 -0.10262216]\n",
      " [ 0.88112454 -1.36862999  0.89939833]\n",
      " [ 0.97445998 -2.22546326  1.71191055]\n",
      " [ 1.08596875  1.01043591  0.54176568]\n",
      " [-0.70120597 -0.22903322 -1.62643794]\n",
      " [-2.58245961 -0.4891844  -0.194668  ]\n",
      " [-1.47958462 -0.48668021  1.23712752]\n",
      " [-1.78990203  1.03582197  0.29881887]\n",
      " [ 1.44977685 -0.49642419 -0.96707976]\n",
      " [ 2.16746343  1.18180594  0.39564123]\n",
      " [ 0.53376092  1.85183858  0.13520076]\n",
      " [ 0.93204108  0.93972629  1.65727957]]\n",
      "[[-0.56576933 -0.33996841 -0.6370018 ]\n",
      " [-1.64962335 -0.06590017  0.24434526]\n",
      " [ 0.73563061 -0.30406548 -0.07998088]\n",
      " [ 0.88747604 -1.36506486  0.91551934]\n",
      " [ 0.9742831  -2.23762431  1.69908215]\n",
      " [ 1.09369423  0.9890999   0.51240133]\n",
      " [-0.69733596 -0.22119061 -1.61783139]\n",
      " [-2.56544638 -0.47826326 -0.19671292]\n",
      " [-1.46465324 -0.49553262  1.24104491]\n",
      " [-1.79032885  1.04474068  0.30212459]\n",
      " [ 1.44408854 -0.49170089 -0.94544525]\n",
      " [ 2.14653272  1.19345894  0.39189115]\n",
      " [ 0.5245304   1.84917436  0.13064439]\n",
      " [ 0.93055283  0.94544624  1.6479908 ]]\n"
     ]
    }
   ],
   "source": [
    "from rdkit.Chem import AllChem\n",
    "import numpy as np\n",
    "mol = Chem.MolFromSmiles(smi)\n",
    "mol=Chem.AddHs(mol)\n",
    "mol=Chem.AllChem.EmbedMolecule(mol)\n",
    "\n",
    "conf=mol.GetConformer()\n",
    "positions=conf.GetPositions()\n",
    "noise=np.random.randn(positions.shape[0],positions.shape[1]) * 0.01\n",
    "newpositions=positions+noise\n",
    "atoms = mol.GetAtoms()\n",
    "print(positions)\n",
    "print(newpositions)\n",
    "from rdkit.Geometry import Point3D\n",
    "cmap={}\n",
    "for i in range(mol.GetNumAtoms()):\n",
    "     x,y,z = newpositions[i]\n",
    "     cmap[i]=Point3D(x,y,z)\n",
    "# # Print the 3D coordinates.\n",
    "# for i, atom in enumerate(mol.GetAtoms()):\n",
    "#         positions = mol.GetConformer().GetAtomPosition(i)\n",
    "#         print(atom.GetSymbol(), positions.x, positions.y, positions.z)\n",
    "print(cmap)\n",
    "print(Chem.AllChem.EmbedMolecule(mol,coordMap=cmap))\n",
    "conf=mol.GetConformer(1)\n",
    "newpositions=conf.GetPositions()\n",
    "print(positions)\n",
    "print(newpositions)\n",
    "Chem.AllChem.GetConformerRMS(mol,mol.GetConformer().GetId(),mol.GetConformer().GetId())"
   ]
  },
  {
   "cell_type": "code",
   "execution_count": 20,
   "metadata": {},
   "outputs": [],
   "source": [
    "N = suppl[0].GetNumAtoms()\n",
    "pos = suppl.GetItemText(0).split('\\n')[4:4 + N]\n",
    "pos = [[float(x) for x in line.split()[:3]] for line in pos]\n",
    "pos = torch.tensor(pos, dtype=torch.float)"
   ]
  },
  {
   "cell_type": "code",
   "execution_count": 25,
   "metadata": {},
   "outputs": [
    {
     "ename": "AttributeError",
     "evalue": "module 'rdkit.Chem' has no attribute 'MolBlock'",
     "output_type": "error",
     "traceback": [
      "\u001b[1;31m---------------------------------------------------------------------------\u001b[0m",
      "\u001b[1;31mAttributeError\u001b[0m                            Traceback (most recent call last)",
      "\u001b[1;32mc:\\Users\\aminr\\Documents\\Thesis\\pre-training-via-denoising\\train.ipynb Cell 5\u001b[0m in \u001b[0;36m<cell line: 1>\u001b[1;34m()\u001b[0m\n\u001b[1;32m----> <a href='vscode-notebook-cell:/c%3A/Users/aminr/Documents/Thesis/pre-training-via-denoising/train.ipynb#X24sZmlsZQ%3D%3D?line=0'>1</a>\u001b[0m molblock \u001b[39m=\u001b[39m Chem\u001b[39m.\u001b[39;49mMolBlock(pos\u001b[39m.\u001b[39mtolist())\n\u001b[0;32m      <a href='vscode-notebook-cell:/c%3A/Users/aminr/Documents/Thesis/pre-training-via-denoising/train.ipynb#X24sZmlsZQ%3D%3D?line=1'>2</a>\u001b[0m mol \u001b[39m=\u001b[39m Chem\u001b[39m.\u001b[39mMolFromMolBlock(molblock)\n",
      "\u001b[1;31mAttributeError\u001b[0m: module 'rdkit.Chem' has no attribute 'MolBlock'"
     ]
    }
   ],
   "source": [
    "molblock = Chem.MolBlock(pos.tolist())\n",
    "mol = Chem.MolFromMolBlock(molblock)"
   ]
  },
  {
   "cell_type": "code",
   "execution_count": null,
   "metadata": {},
   "outputs": [],
   "source": [
    "rdkit.Chem.MolFromCoords(coordinates)"
   ]
  },
  {
   "cell_type": "code",
   "execution_count": 3,
   "metadata": {},
   "outputs": [],
   "source": [
    "\n",
    "with open('commandline_args.txt', 'r') as f:\n",
    "    args = json.load(f)"
   ]
  },
  {
   "cell_type": "code",
   "execution_count": 4,
   "metadata": {},
   "outputs": [
    {
     "name": "stderr",
     "output_type": "stream",
     "text": [
      "c:\\Users\\aminr\\.conda\\envs\\pvd\\lib\\site-packages\\torch_geometric\\deprecation.py:13: UserWarning: 'data.DataLoader' is deprecated, use 'loader.DataLoader' instead\n",
      "  warnings.warn(out)\n"
     ]
    },
    {
     "name": "stdout",
     "output_type": "stream",
     "text": [
      "train 400, val 50, test 41\n"
     ]
    },
    {
     "name": "stderr",
     "output_type": "stream",
     "text": [
      "computing mean and std: 100%|██████████| 4/4 [00:00<00:00, 11.67it/s]\n"
     ]
    },
    {
     "name": "stdout",
     "output_type": "stream",
     "text": [
      "tensor([[-0.6018,  0.0647,  0.2421],\n",
      "        [-0.0609,  0.1834, -0.2531],\n",
      "        [ 0.3118, -0.1557, -0.3511],\n",
      "        [ 0.1198,  0.6480, -0.0855],\n",
      "        [ 0.6533,  0.1511, -0.0563]])\n",
      "tensor([[-0.2248,  0.1975, -0.1273],\n",
      "        [-0.0005, -0.1091, -0.0276],\n",
      "        [-0.1158,  0.1861, -0.0848],\n",
      "        [ 0.2729,  0.2275, -0.1764],\n",
      "        [ 0.1117,  0.2643, -0.2115]])\n"
     ]
    }
   ],
   "source": [
    "data = DataModule(args)\n",
    "data.prepare_data()\n",
    "data.setup(\"fit\")\n",
    "print(data.dataset_maybe_noisy[0].pos_target)\n",
    "data.setup_target_pos()\n",
    "print(data.dataset_maybe_noisy[0].pos_target)"
   ]
  },
  {
   "cell_type": "code",
   "execution_count": 13,
   "metadata": {},
   "outputs": [
    {
     "ename": "AttributeError",
     "evalue": "'GlobalStorage' object has no attribute 'target'",
     "output_type": "error",
     "traceback": [
      "\u001b[1;31m---------------------------------------------------------------------------\u001b[0m",
      "\u001b[1;31mKeyError\u001b[0m                                  Traceback (most recent call last)",
      "File \u001b[1;32mc:\\Users\\aminr\\.conda\\envs\\pvd\\lib\\site-packages\\torch_geometric\\data\\storage.py:48\u001b[0m, in \u001b[0;36mBaseStorage.__getattr__\u001b[1;34m(self, key)\u001b[0m\n\u001b[0;32m     47\u001b[0m \u001b[39mtry\u001b[39;00m:\n\u001b[1;32m---> 48\u001b[0m     \u001b[39mreturn\u001b[39;00m \u001b[39mself\u001b[39;49m[key]\n\u001b[0;32m     49\u001b[0m \u001b[39mexcept\u001b[39;00m \u001b[39mKeyError\u001b[39;00m:\n",
      "File \u001b[1;32mc:\\Users\\aminr\\.conda\\envs\\pvd\\lib\\site-packages\\torch_geometric\\data\\storage.py:68\u001b[0m, in \u001b[0;36mBaseStorage.__getitem__\u001b[1;34m(self, key)\u001b[0m\n\u001b[0;32m     67\u001b[0m \u001b[39mdef\u001b[39;00m \u001b[39m__getitem__\u001b[39m(\u001b[39mself\u001b[39m, key: \u001b[39mstr\u001b[39m) \u001b[39m-\u001b[39m\u001b[39m>\u001b[39m Any:\n\u001b[1;32m---> 68\u001b[0m     \u001b[39mreturn\u001b[39;00m \u001b[39mself\u001b[39;49m\u001b[39m.\u001b[39;49m_mapping[key]\n",
      "\u001b[1;31mKeyError\u001b[0m: 'target'",
      "\nDuring handling of the above exception, another exception occurred:\n",
      "\u001b[1;31mAttributeError\u001b[0m                            Traceback (most recent call last)",
      "\u001b[1;32mc:\\Users\\aminr\\Documents\\Thesis\\pre-training-via-denoising\\train.ipynb Cell 4\u001b[0m in \u001b[0;36m<cell line: 1>\u001b[1;34m()\u001b[0m\n\u001b[1;32m----> <a href='vscode-notebook-cell:/c%3A/Users/aminr/Documents/Thesis/pre-training-via-denoising/train.ipynb#X20sZmlsZQ%3D%3D?line=0'>1</a>\u001b[0m \u001b[39mprint\u001b[39m(data\u001b[39m.\u001b[39;49mdataset_maybe_noisy[\u001b[39m0\u001b[39;49m]\u001b[39m.\u001b[39;49mtarget)\n",
      "File \u001b[1;32mc:\\Users\\aminr\\.conda\\envs\\pvd\\lib\\site-packages\\torch_geometric\\data\\data.py:346\u001b[0m, in \u001b[0;36mData.__getattr__\u001b[1;34m(self, key)\u001b[0m\n\u001b[0;32m    340\u001b[0m \u001b[39mif\u001b[39;00m \u001b[39m'\u001b[39m\u001b[39m_store\u001b[39m\u001b[39m'\u001b[39m \u001b[39mnot\u001b[39;00m \u001b[39min\u001b[39;00m \u001b[39mself\u001b[39m\u001b[39m.\u001b[39m\u001b[39m__dict__\u001b[39m:\n\u001b[0;32m    341\u001b[0m     \u001b[39mraise\u001b[39;00m \u001b[39mRuntimeError\u001b[39;00m(\n\u001b[0;32m    342\u001b[0m         \u001b[39m\"\u001b[39m\u001b[39mThe \u001b[39m\u001b[39m'\u001b[39m\u001b[39mdata\u001b[39m\u001b[39m'\u001b[39m\u001b[39m object was created by an older version of PyG. \u001b[39m\u001b[39m\"\u001b[39m\n\u001b[0;32m    343\u001b[0m         \u001b[39m\"\u001b[39m\u001b[39mIf this error occurred while loading an already existing \u001b[39m\u001b[39m\"\u001b[39m\n\u001b[0;32m    344\u001b[0m         \u001b[39m\"\u001b[39m\u001b[39mdataset, remove the \u001b[39m\u001b[39m'\u001b[39m\u001b[39mprocessed/\u001b[39m\u001b[39m'\u001b[39m\u001b[39m directory in the dataset\u001b[39m\u001b[39m'\u001b[39m\u001b[39ms \u001b[39m\u001b[39m\"\u001b[39m\n\u001b[0;32m    345\u001b[0m         \u001b[39m\"\u001b[39m\u001b[39mroot folder and try again.\u001b[39m\u001b[39m\"\u001b[39m)\n\u001b[1;32m--> 346\u001b[0m \u001b[39mreturn\u001b[39;00m \u001b[39mgetattr\u001b[39;49m(\u001b[39mself\u001b[39;49m\u001b[39m.\u001b[39;49m_store, key)\n",
      "File \u001b[1;32mc:\\Users\\aminr\\.conda\\envs\\pvd\\lib\\site-packages\\torch_geometric\\data\\storage.py:50\u001b[0m, in \u001b[0;36mBaseStorage.__getattr__\u001b[1;34m(self, key)\u001b[0m\n\u001b[0;32m     48\u001b[0m     \u001b[39mreturn\u001b[39;00m \u001b[39mself\u001b[39m[key]\n\u001b[0;32m     49\u001b[0m \u001b[39mexcept\u001b[39;00m \u001b[39mKeyError\u001b[39;00m:\n\u001b[1;32m---> 50\u001b[0m     \u001b[39mraise\u001b[39;00m \u001b[39mAttributeError\u001b[39;00m(\n\u001b[0;32m     51\u001b[0m         \u001b[39mf\u001b[39m\u001b[39m\"\u001b[39m\u001b[39m'\u001b[39m\u001b[39m{\u001b[39;00m\u001b[39mself\u001b[39m\u001b[39m.\u001b[39m\u001b[39m__class__\u001b[39m\u001b[39m.\u001b[39m\u001b[39m__name__\u001b[39m\u001b[39m}\u001b[39;00m\u001b[39m'\u001b[39m\u001b[39m object has no attribute \u001b[39m\u001b[39m'\u001b[39m\u001b[39m{\u001b[39;00mkey\u001b[39m}\u001b[39;00m\u001b[39m'\u001b[39m\u001b[39m\"\u001b[39m)\n",
      "\u001b[1;31mAttributeError\u001b[0m: 'GlobalStorage' object has no attribute 'target'"
     ]
    }
   ],
   "source": [
    "data.dataset[0].\n"
   ]
  },
  {
   "cell_type": "code",
   "execution_count": 13,
   "metadata": {},
   "outputs": [],
   "source": [
    "prior = None\n",
    "if args[\"prior_model\"]:\n",
    "    assert hasattr(priors, args.prior_model), (\n",
    "        f\"Unknown prior model {args['prior_model']}. \"\n",
    "        f\"Available models are {', '.join(priors.__all__)}\"\n",
    "    )\n",
    "    # initialize the prior model\n",
    "    prior = getattr(priors, args.prior_model)(dataset=data.dataset)\n",
    "    args.prior_args = prior.get_init_args()"
   ]
  },
  {
   "cell_type": "code",
   "execution_count": 6,
   "metadata": {},
   "outputs": [],
   "source": [
    "mol_name_id={}\n",
    "for id in data.dataset.indices():\n",
    "    mol_name_id[data.dataset[id].name]=id\n",
    "filename=\"data/qm9/raw/gdb9.sdf.ref.csv\"\n",
    "df=pd.read_csv(filename)\n",
    "df=df.set_index(\"mol_id\")"
   ]
  },
  {
   "cell_type": "code",
   "execution_count": 7,
   "metadata": {},
   "outputs": [],
   "source": [
    "for id in data.dataset.indices():\n",
    "    name=data.dataset[id].name\n",
    "    ref_name=df.loc[name][\"ref_mol_id\"]\n",
    "    ref_mol_id=mol_name_id[ref_name]\n",
    "    data.dataset[id].pos_target=data.dataset[ref_mol_id].pos"
   ]
  },
  {
   "cell_type": "code",
   "execution_count": 9,
   "metadata": {},
   "outputs": [
    {
     "ename": "AttributeError",
     "evalue": "'GlobalStorage' object has no attribute 'pos_target'",
     "output_type": "error",
     "traceback": [
      "\u001b[1;31m---------------------------------------------------------------------------\u001b[0m",
      "\u001b[1;31mKeyError\u001b[0m                                  Traceback (most recent call last)",
      "File \u001b[1;32mc:\\Users\\aminr\\.conda\\envs\\pvd\\lib\\site-packages\\torch_geometric\\data\\storage.py:48\u001b[0m, in \u001b[0;36mBaseStorage.__getattr__\u001b[1;34m(self, key)\u001b[0m\n\u001b[0;32m     47\u001b[0m \u001b[39mtry\u001b[39;00m:\n\u001b[1;32m---> 48\u001b[0m     \u001b[39mreturn\u001b[39;00m \u001b[39mself\u001b[39;49m[key]\n\u001b[0;32m     49\u001b[0m \u001b[39mexcept\u001b[39;00m \u001b[39mKeyError\u001b[39;00m:\n",
      "File \u001b[1;32mc:\\Users\\aminr\\.conda\\envs\\pvd\\lib\\site-packages\\torch_geometric\\data\\storage.py:68\u001b[0m, in \u001b[0;36mBaseStorage.__getitem__\u001b[1;34m(self, key)\u001b[0m\n\u001b[0;32m     67\u001b[0m \u001b[39mdef\u001b[39;00m \u001b[39m__getitem__\u001b[39m(\u001b[39mself\u001b[39m, key: \u001b[39mstr\u001b[39m) \u001b[39m-\u001b[39m\u001b[39m>\u001b[39m Any:\n\u001b[1;32m---> 68\u001b[0m     \u001b[39mreturn\u001b[39;00m \u001b[39mself\u001b[39;49m\u001b[39m.\u001b[39;49m_mapping[key]\n",
      "\u001b[1;31mKeyError\u001b[0m: 'pos_target'",
      "\nDuring handling of the above exception, another exception occurred:\n",
      "\u001b[1;31mAttributeError\u001b[0m                            Traceback (most recent call last)",
      "\u001b[1;32mc:\\Users\\aminr\\Documents\\Thesis\\pre-training-via-denoising\\train.ipynb Cell 7\u001b[0m in \u001b[0;36m<cell line: 1>\u001b[1;34m()\u001b[0m\n\u001b[1;32m----> <a href='vscode-notebook-cell:/c%3A/Users/aminr/Documents/Thesis/pre-training-via-denoising/train.ipynb#X16sZmlsZQ%3D%3D?line=0'>1</a>\u001b[0m data\u001b[39m.\u001b[39;49mdataset[\u001b[39m0\u001b[39;49m]\u001b[39m.\u001b[39;49mpos_target\n",
      "File \u001b[1;32mc:\\Users\\aminr\\.conda\\envs\\pvd\\lib\\site-packages\\torch_geometric\\data\\data.py:346\u001b[0m, in \u001b[0;36mData.__getattr__\u001b[1;34m(self, key)\u001b[0m\n\u001b[0;32m    340\u001b[0m \u001b[39mif\u001b[39;00m \u001b[39m'\u001b[39m\u001b[39m_store\u001b[39m\u001b[39m'\u001b[39m \u001b[39mnot\u001b[39;00m \u001b[39min\u001b[39;00m \u001b[39mself\u001b[39m\u001b[39m.\u001b[39m\u001b[39m__dict__\u001b[39m:\n\u001b[0;32m    341\u001b[0m     \u001b[39mraise\u001b[39;00m \u001b[39mRuntimeError\u001b[39;00m(\n\u001b[0;32m    342\u001b[0m         \u001b[39m\"\u001b[39m\u001b[39mThe \u001b[39m\u001b[39m'\u001b[39m\u001b[39mdata\u001b[39m\u001b[39m'\u001b[39m\u001b[39m object was created by an older version of PyG. \u001b[39m\u001b[39m\"\u001b[39m\n\u001b[0;32m    343\u001b[0m         \u001b[39m\"\u001b[39m\u001b[39mIf this error occurred while loading an already existing \u001b[39m\u001b[39m\"\u001b[39m\n\u001b[0;32m    344\u001b[0m         \u001b[39m\"\u001b[39m\u001b[39mdataset, remove the \u001b[39m\u001b[39m'\u001b[39m\u001b[39mprocessed/\u001b[39m\u001b[39m'\u001b[39m\u001b[39m directory in the dataset\u001b[39m\u001b[39m'\u001b[39m\u001b[39ms \u001b[39m\u001b[39m\"\u001b[39m\n\u001b[0;32m    345\u001b[0m         \u001b[39m\"\u001b[39m\u001b[39mroot folder and try again.\u001b[39m\u001b[39m\"\u001b[39m)\n\u001b[1;32m--> 346\u001b[0m \u001b[39mreturn\u001b[39;00m \u001b[39mgetattr\u001b[39;49m(\u001b[39mself\u001b[39;49m\u001b[39m.\u001b[39;49m_store, key)\n",
      "File \u001b[1;32mc:\\Users\\aminr\\.conda\\envs\\pvd\\lib\\site-packages\\torch_geometric\\data\\storage.py:50\u001b[0m, in \u001b[0;36mBaseStorage.__getattr__\u001b[1;34m(self, key)\u001b[0m\n\u001b[0;32m     48\u001b[0m     \u001b[39mreturn\u001b[39;00m \u001b[39mself\u001b[39m[key]\n\u001b[0;32m     49\u001b[0m \u001b[39mexcept\u001b[39;00m \u001b[39mKeyError\u001b[39;00m:\n\u001b[1;32m---> 50\u001b[0m     \u001b[39mraise\u001b[39;00m \u001b[39mAttributeError\u001b[39;00m(\n\u001b[0;32m     51\u001b[0m         \u001b[39mf\u001b[39m\u001b[39m\"\u001b[39m\u001b[39m'\u001b[39m\u001b[39m{\u001b[39;00m\u001b[39mself\u001b[39m\u001b[39m.\u001b[39m\u001b[39m__class__\u001b[39m\u001b[39m.\u001b[39m\u001b[39m__name__\u001b[39m\u001b[39m}\u001b[39;00m\u001b[39m'\u001b[39m\u001b[39m object has no attribute \u001b[39m\u001b[39m'\u001b[39m\u001b[39m{\u001b[39;00mkey\u001b[39m}\u001b[39;00m\u001b[39m'\u001b[39m\u001b[39m\"\u001b[39m)\n",
      "\u001b[1;31mAttributeError\u001b[0m: 'GlobalStorage' object has no attribute 'pos_target'"
     ]
    }
   ],
   "source": [
    "data.dataset[0].pos_target"
   ]
  },
  {
   "cell_type": "code",
   "execution_count": 106,
   "metadata": {},
   "outputs": [
    {
     "data": {
      "text/plain": [
       "dict_keys(['gdb_237', 'gdb_307', 'gdb_261', 'gdb_142', 'gdb_382', 'gdb_294', 'gdb_298', 'gdb_30', 'gdb_156', 'gdb_154', 'gdb_443', 'gdb_145', 'gdb_36', 'gdb_310', 'gdb_111', 'gdb_326', 'gdb_233', 'gdb_496', 'gdb_138', 'gdb_407', 'gdb_40', 'gdb_478', 'gdb_216', 'gdb_378', 'gdb_197', 'gdb_450', 'gdb_143', 'gdb_74', 'gdb_16', 'gdb_37', 'gdb_479', 'gdb_248', 'gdb_350', 'gdb_127', 'gdb_500', 'gdb_119', 'gdb_239', 'gdb_139', 'gdb_419', 'gdb_125', 'gdb_191', 'gdb_463', 'gdb_11', 'gdb_256', 'gdb_149', 'gdb_17', 'gdb_413', 'gdb_10', 'gdb_195', 'gdb_229', 'gdb_291', 'gdb_246', 'gdb_336', 'gdb_144', 'gdb_70', 'gdb_438', 'gdb_242', 'gdb_206', 'gdb_498', 'gdb_271', 'gdb_456', 'gdb_7', 'gdb_140', 'gdb_488', 'gdb_259', 'gdb_180', 'gdb_2', 'gdb_357', 'gdb_453', 'gdb_440', 'gdb_386', 'gdb_424', 'gdb_278', 'gdb_340', 'gdb_6', 'gdb_290', 'gdb_109', 'gdb_171', 'gdb_313', 'gdb_94', 'gdb_157', 'gdb_442', 'gdb_103', 'gdb_408', 'gdb_270', 'gdb_179', 'gdb_235', 'gdb_155', 'gdb_175', 'gdb_46', 'gdb_400', 'gdb_287', 'gdb_52', 'gdb_25', 'gdb_347', 'gdb_264', 'gdb_260', 'gdb_214', 'gdb_269', 'gdb_328', 'gdb_199', 'gdb_174', 'gdb_76', 'gdb_395', 'gdb_86', 'gdb_236', 'gdb_349', 'gdb_339', 'gdb_91', 'gdb_374', 'gdb_377', 'gdb_9', 'gdb_318', 'gdb_314', 'gdb_371', 'gdb_493', 'gdb_268', 'gdb_204', 'gdb_289', 'gdb_422', 'gdb_184', 'gdb_152', 'gdb_187', 'gdb_449', 'gdb_141', 'gdb_226', 'gdb_77', 'gdb_481', 'gdb_406', 'gdb_87', 'gdb_85', 'gdb_124', 'gdb_123', 'gdb_228', 'gdb_486', 'gdb_244', 'gdb_196', 'gdb_299', 'gdb_464', 'gdb_105', 'gdb_254', 'gdb_32', 'gdb_23', 'gdb_169', 'gdb_369', 'gdb_19', 'gdb_399', 'gdb_325', 'gdb_227', 'gdb_45', 'gdb_238', 'gdb_343', 'gdb_126', 'gdb_137', 'gdb_117', 'gdb_218', 'gdb_33', 'gdb_346', 'gdb_192', 'gdb_410', 'gdb_472', 'gdb_470', 'gdb_439', 'gdb_72', 'gdb_210', 'gdb_163', 'gdb_131', 'gdb_153', 'gdb_100', 'gdb_170', 'gdb_273', 'gdb_188', 'gdb_499', 'gdb_249', 'gdb_232', 'gdb_391', 'gdb_62', 'gdb_115', 'gdb_494', 'gdb_189', 'gdb_14', 'gdb_146', 'gdb_132', 'gdb_285', 'gdb_492', 'gdb_454', 'gdb_354', 'gdb_414', 'gdb_24', 'gdb_430', 'gdb_134', 'gdb_165', 'gdb_283', 'gdb_18', 'gdb_114', 'gdb_251', 'gdb_22', 'gdb_88', 'gdb_373', 'gdb_53', 'gdb_241', 'gdb_409', 'gdb_92', 'gdb_41', 'gdb_405', 'gdb_272', 'gdb_393', 'gdb_462', 'gdb_345', 'gdb_194', 'gdb_167', 'gdb_379', 'gdb_396', 'gdb_107', 'gdb_209', 'gdb_212', 'gdb_417', 'gdb_243', 'gdb_295', 'gdb_304', 'gdb_356', 'gdb_352', 'gdb_44', 'gdb_284', 'gdb_411', 'gdb_465', 'gdb_319', 'gdb_69', 'gdb_112', 'gdb_8', 'gdb_5', 'gdb_215', 'gdb_321', 'gdb_82', 'gdb_329', 'gdb_385', 'gdb_68', 'gdb_190', 'gdb_223', 'gdb_370', 'gdb_84', 'gdb_441', 'gdb_497', 'gdb_198', 'gdb_296', 'gdb_64', 'gdb_333', 'gdb_362', 'gdb_402', 'gdb_97', 'gdb_240', 'gdb_398', 'gdb_380', 'gdb_435', 'gdb_151', 'gdb_432', 'gdb_15', 'gdb_257', 'gdb_275', 'gdb_293', 'gdb_66', 'gdb_28', 'gdb_277', 'gdb_113', 'gdb_55', 'gdb_365', 'gdb_147', 'gdb_331', 'gdb_266', 'gdb_332', 'gdb_93', 'gdb_182', 'gdb_288', 'gdb_234', 'gdb_448', 'gdb_161', 'gdb_363', 'gdb_1', 'gdb_389', 'gdb_231', 'gdb_320', 'gdb_469', 'gdb_297', 'gdb_309', 'gdb_482', 'gdb_135', 'gdb_397', 'gdb_353', 'gdb_49', 'gdb_444', 'gdb_20', 'gdb_344', 'gdb_300', 'gdb_421', 'gdb_428', 'gdb_21', 'gdb_276', 'gdb_57', 'gdb_202', 'gdb_213', 'gdb_447', 'gdb_460', 'gdb_392', 'gdb_375', 'gdb_177', 'gdb_437', 'gdb_384', 'gdb_48', 'gdb_181', 'gdb_90', 'gdb_416', 'gdb_306', 'gdb_383', 'gdb_477', 'gdb_73', 'gdb_491', 'gdb_446', 'gdb_121', 'gdb_59', 'gdb_160', 'gdb_372', 'gdb_258', 'gdb_101', 'gdb_176', 'gdb_327', 'gdb_292', 'gdb_418', 'gdb_150', 'gdb_110', 'gdb_485', 'gdb_83', 'gdb_415', 'gdb_281', 'gdb_38', 'gdb_27', 'gdb_404', 'gdb_252', 'gdb_130', 'gdb_129', 'gdb_323', 'gdb_128', 'gdb_255', 'gdb_200', 'gdb_203', 'gdb_39', 'gdb_166', 'gdb_429', 'gdb_461', 'gdb_423', 'gdb_401', 'gdb_71', 'gdb_35', 'gdb_164', 'gdb_230', 'gdb_98', 'gdb_31', 'gdb_225', 'gdb_207', 'gdb_360', 'gdb_303', 'gdb_78', 'gdb_387', 'gdb_376', 'gdb_364', 'gdb_96', 'gdb_495', 'gdb_224', 'gdb_337', 'gdb_367', 'gdb_116', 'gdb_89', 'gdb_483', 'gdb_217', 'gdb_159', 'gdb_474', 'gdb_201', 'gdb_282', 'gdb_315', 'gdb_29', 'gdb_390', 'gdb_324', 'gdb_420', 'gdb_247', 'gdb_148', 'gdb_301', 'gdb_471', 'gdb_265', 'gdb_341', 'gdb_51', 'gdb_330', 'gdb_56', 'gdb_355', 'gdb_104', 'gdb_219', 'gdb_311', 'gdb_221', 'gdb_162', 'gdb_467', 'gdb_394', 'gdb_368'])"
      ]
     },
     "execution_count": 106,
     "metadata": {},
     "output_type": "execute_result"
    }
   ],
   "source": [
    "mol_name_id.keys()"
   ]
  },
  {
   "cell_type": "code",
   "execution_count": 115,
   "metadata": {},
   "outputs": [],
   "source": [
    "for name in mol_name_id.keys():\n",
    "    ref_name=df.loc[name][\"ref_mol_id\"]\n",
    "    mol_id=mol_name_id[name]\n",
    "    ref_mol_id=mol_name_id[ref_name]\n",
    "    data.dataset[mol_id].pos_target=data.dataset[ref_mol_id].pos"
   ]
  },
  {
   "cell_type": "code",
   "execution_count": 116,
   "metadata": {},
   "outputs": [
    {
     "data": {
      "text/plain": [
       "<torchmdnet.data.DataModule at 0x152917cacd0>"
      ]
     },
     "execution_count": 116,
     "metadata": {},
     "output_type": "execute_result"
    }
   ],
   "source": [
    "data"
   ]
  },
  {
   "cell_type": "code",
   "execution_count": 14,
   "metadata": {},
   "outputs": [],
   "source": [
    "model = LNNP(args, prior_model=prior, mean=data.mean, std=data.std)"
   ]
  },
  {
   "cell_type": "code",
   "execution_count": 3,
   "metadata": {},
   "outputs": [],
   "source": [
    "data_list= torch.load(\"data/qm9/processed/data_v3.pt\")"
   ]
  },
  {
   "cell_type": "code",
   "execution_count": 14,
   "metadata": {},
   "outputs": [],
   "source": [
    "torch.save(data_list, \"data/qm9/processed/data_v3.pt\")"
   ]
  },
  {
   "cell_type": "code",
   "execution_count": 13,
   "metadata": {},
   "outputs": [
    {
     "data": {
      "text/plain": [
       "Data(x=[2147303, 11], edge_index=[2, 4409754], edge_attr=[4409754, 4], pos=[2147303, 3], z=[2147303], name=[119136], idx=[119136], mol=[119136], noisy_mol=[119136])"
      ]
     },
     "execution_count": 13,
     "metadata": {},
     "output_type": "execute_result"
    }
   ],
   "source": [
    "data_list[0]"
   ]
  },
  {
   "cell_type": "code",
   "execution_count": 141,
   "metadata": {},
   "outputs": [
    {
     "ename": "TypeError",
     "evalue": "unbind(): argument 'input' (position 1) must be Tensor, not list",
     "output_type": "error",
     "traceback": [
      "\u001b[1;31m---------------------------------------------------------------------------\u001b[0m",
      "\u001b[1;31mTypeError\u001b[0m                                 Traceback (most recent call last)",
      "\u001b[1;32mc:\\Users\\aminr\\Documents\\Thesis\\pre-training-via-denoising\\train.ipynb Cell 41\u001b[0m in \u001b[0;36m<cell line: 1>\u001b[1;34m()\u001b[0m\n\u001b[1;32m----> <a href='vscode-notebook-cell:/c%3A/Users/aminr/Documents/Thesis/pre-training-via-denoising/train.ipynb#X56sZmlsZQ%3D%3D?line=0'>1</a>\u001b[0m a\u001b[39m=\u001b[39mtorch\u001b[39m.\u001b[39;49munbind(data_list[\u001b[39m0\u001b[39;49m][\u001b[39m\"\u001b[39;49m\u001b[39mname\u001b[39;49m\u001b[39m\"\u001b[39;49m])\n",
      "\u001b[1;31mTypeError\u001b[0m: unbind(): argument 'input' (position 1) must be Tensor, not list"
     ]
    }
   ],
   "source": [
    "a=torch.unbind(data_list[0])"
   ]
  },
  {
   "cell_type": "code",
   "execution_count": 19,
   "metadata": {},
   "outputs": [
    {
     "name": "stdout",
     "output_type": "stream",
     "text": [
      "LNNP(\n",
      "  (model): TorchMD_Net(\n",
      "    (representation_model): TorchMD_ET(hidden_channels=256, num_layers=8, num_rbf=64, rbf_type=expnorm, trainable_rbf=False, activation=silu, attn_activation=silu, neighbor_embedding=NeighborEmbeddingJittable_dd7ef0(\n",
      "      (embedding): Embedding(100, 256)\n",
      "      (distance_proj): Linear(in_features=64, out_features=256, bias=True)\n",
      "      (combine): Linear(in_features=512, out_features=256, bias=True)\n",
      "      (cutoff): CosineCutoff()\n",
      "    ), num_heads=8, distance_influence=both, cutoff_lower=0.0, cutoff_upper=5.0)\n",
      "    (output_model): EquivariantScalar(\n",
      "      (output_network): ModuleList(\n",
      "        (0): GatedEquivariantBlock(\n",
      "          (vec1_proj): Linear(in_features=256, out_features=256, bias=False)\n",
      "          (vec2_proj): Linear(in_features=256, out_features=128, bias=False)\n",
      "          (update_net): Sequential(\n",
      "            (0): Linear(in_features=512, out_features=256, bias=True)\n",
      "            (1): SiLU()\n",
      "            (2): Linear(in_features=256, out_features=256, bias=True)\n",
      "          )\n",
      "          (act): SiLU()\n",
      "        )\n",
      "        (1): GatedEquivariantBlock(\n",
      "          (vec1_proj): Linear(in_features=128, out_features=128, bias=False)\n",
      "          (vec2_proj): Linear(in_features=128, out_features=1, bias=False)\n",
      "          (update_net): Sequential(\n",
      "            (0): Linear(in_features=256, out_features=128, bias=True)\n",
      "            (1): SiLU()\n",
      "            (2): Linear(in_features=128, out_features=2, bias=True)\n",
      "          )\n",
      "        )\n",
      "      )\n",
      "    )\n",
      "  )\n",
      ")\n"
     ]
    }
   ],
   "source": [
    "print(model)"
   ]
  },
  {
   "cell_type": "code",
   "execution_count": null,
   "metadata": {},
   "outputs": [],
   "source": []
  }
 ],
 "metadata": {
  "kernelspec": {
   "display_name": "denoising-prop",
   "language": "python",
   "name": "python3"
  },
  "language_info": {
   "codemirror_mode": {
    "name": "ipython",
    "version": 3
   },
   "file_extension": ".py",
   "mimetype": "text/x-python",
   "name": "python",
   "nbconvert_exporter": "python",
   "pygments_lexer": "ipython3",
   "version": "3.9.10"
  },
  "orig_nbformat": 4
 },
 "nbformat": 4,
 "nbformat_minor": 2
}
