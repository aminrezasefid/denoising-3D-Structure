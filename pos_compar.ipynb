{
 "cells": [
  {
   "cell_type": "code",
   "execution_count": 1,
   "metadata": {},
   "outputs": [],
   "source": [
    "import numpy as np  # sometimes needed to avoid mkl-service error\n",
    "import sys\n",
    "import os\n",
    "import argparse\n",
    "import logging\n",
    "import pytorch_lightning as pl\n",
    "from pytorch_lightning.callbacks import EarlyStopping\n",
    "from pytorch_lightning.callbacks.model_checkpoint import ModelCheckpoint\n",
    "from pytorch_lightning.loggers import CSVLogger, WandbLogger\n",
    "from pytorch_lightning.plugins import DDPPlugin\n",
    "from pytorch_lightning.utilities import rank_zero_only\n",
    "import torch\n",
    "from torchmdnet.module import LNNP\n",
    "from torchmdnet import datasets, priors, models\n",
    "from torchmdnet.data import DataModule\n",
    "from torchmdnet.models import output_modules\n",
    "from torchmdnet.models.utils import rbf_class_mapping, act_class_mapping\n",
    "from torchmdnet.utils import LoadFromFile, LoadFromCheckpoint, save_argparse, number\n",
    "from pathlib import Path\n",
    "import wandb\n",
    "import json\n",
    "import pandas as pd\n",
    "from rdkit.Chem import AllChem\n",
    "import copy\n",
    "from rdkit.Geometry import Point3D\n",
    "from rdkit import Chem\n",
    "from rdkit.Chem.Draw import IPythonConsole\n",
    "IPythonConsole.ipython_3d = True\n",
    "import py3Dmol\n",
    "from rdkit.Chem import rdDepictor\n",
    "from rdkit.Chem import rdDistGeom\n",
    "import rdkit"
   ]
  },
  {
   "cell_type": "code",
   "execution_count": 2,
   "metadata": {},
   "outputs": [
    {
     "name": "stderr",
     "output_type": "stream",
     "text": [
      "Processing...\n",
      "100%|██████████| 500/500 [00:04<00:00, 100.04it/s]\n",
      "Done!\n",
      "c:\\Users\\aminr\\.conda\\envs\\pvd\\lib\\site-packages\\torch_geometric\\deprecation.py:13: UserWarning: 'data.DataLoader' is deprecated, use 'loader.DataLoader' instead\n",
      "  warnings.warn(out)\n"
     ]
    },
    {
     "name": "stdout",
     "output_type": "stream",
     "text": [
      "0\n",
      "train 400, val 50, test 37\n"
     ]
    },
    {
     "name": "stderr",
     "output_type": "stream",
     "text": [
      "computing mean and std:   0%|          | 0/4 [00:00<?, ?it/s]c:\\Users\\aminr\\Documents\\Thesis\\pre-training-via-denoising\\torchmdnet\\data.py:171: UserWarning: Standardize is true but failed to compute dataset mean and standard deviation. Maybe the dataset only contains forces.\n",
      "  rank_zero_warn(\n",
      "computing mean and std:   0%|          | 0/4 [00:00<?, ?it/s]\n"
     ]
    }
   ],
   "source": [
    "with open('commandline_args.txt', 'r') as f:\n",
    "    args = json.load(f)\n",
    "data = DataModule(args)\n",
    "data.prepare_data()\n",
    "data.setup(\"fit\")"
   ]
  },
  {
   "cell_type": "code",
   "execution_count": 3,
   "metadata": {},
   "outputs": [],
   "source": [
    "def print_atoms(mol):\n",
    "    atoms=mol.GetAtoms()\n",
    "    names=\",\".join([atom.GetSymbol() for atom in atoms ])\n",
    "    print(names)"
   ]
  },
  {
   "cell_type": "code",
   "execution_count": 4,
   "metadata": {},
   "outputs": [
    {
     "name": "stdout",
     "output_type": "stream",
     "text": [
      "C,C,C,C,C,O,H,H,H,H,H,H,H,H,H,H\n",
      "C,C,C,C,C,O,H,H,H,H,H,H,H,H,H,H\n",
      "O,N,C,C,O,C,H,H,H,H,H\n",
      "O,N,C,C,O,C,H,H,H,H,H\n",
      "N,C,C,C,N,H,H,H,H\n",
      "N,C,C,C,N,H,H,H,H\n",
      "O,C,C,C,O,C,H,H,H,H,H,H,H,H\n",
      "O,C,C,C,O,C,H,H,H,H,H,H,H,H\n",
      "C,C,O,C,H,H,H,H,H,H,H,H\n",
      "C,C,O,C,H,H,H,H,H,H,H,H\n",
      "C,C,N,C,O,H,H,H,H,H\n",
      "C,C,N,C,O,H,H,H,H,H\n",
      "C,C,N,C,N,O,H,H,H,H,H,H,H,H\n",
      "C,C,N,C,N,O,H,H,H,H,H,H,H,H\n",
      "C,C,C,C,C,O,H,H,H,H,H,H,H,H,H,H\n",
      "C,C,C,C,C,O,H,H,H,H,H,H,H,H,H,H\n",
      "N,C,C,C,C,H,H,H,H,H\n",
      "N,C,C,C,C,H,H,H,H,H\n",
      "N,C,N,C,O,H,H,H,H\n",
      "N,C,N,C,O,H,H,H,H\n"
     ]
    }
   ],
   "source": [
    "import random\n",
    "for i in range(10):\n",
    "    rand=random.randrange(0,400)\n",
    "    mol=data.dataset_maybe_noisy[rand].mol\n",
    "    noisy_mol=data.dataset_maybe_noisy[rand].noisy_mol\n",
    "    print_atoms(mol)\n",
    "    print_atoms(noisy_mol)"
   ]
  },
  {
   "cell_type": "code",
   "execution_count": 24,
   "metadata": {},
   "outputs": [
    {
     "name": "stdout",
     "output_type": "stream",
     "text": [
      "N,H,H,H\n"
     ]
    }
   ],
   "source": [
    "mol=data.dataset_maybe_noisy[1].mol\n",
    "print_atoms(mol)"
   ]
  },
  {
   "cell_type": "code",
   "execution_count": 25,
   "metadata": {},
   "outputs": [
    {
     "name": "stdout",
     "output_type": "stream",
     "text": [
      "H,N,H,H\n"
     ]
    }
   ],
   "source": [
    "order=Chem.CanonicalRankAtoms(mol)\n",
    "mol = Chem.RenumberAtoms(mol, list(order))\n",
    "print_atoms(mol)"
   ]
  },
  {
   "cell_type": "code",
   "execution_count": 26,
   "metadata": {},
   "outputs": [
    {
     "name": "stdout",
     "output_type": "stream",
     "text": [
      "H,N,H,H\n"
     ]
    }
   ],
   "source": [
    "noisy_mol=data.dataset_maybe_noisy[1].noisy_mol\n",
    "print_atoms(noisy_mol)"
   ]
  },
  {
   "cell_type": "code",
   "execution_count": 5,
   "metadata": {},
   "outputs": [],
   "source": [
    "mol=data.dataset_maybe_noisy[0].mol\n",
    "ps = rdDistGeom.ETKDGv3()\n",
    "ps.maxIters=100"
   ]
  },
  {
   "cell_type": "code",
   "execution_count": null,
   "metadata": {},
   "outputs": [],
   "source": [
    "\n",
    "mol = "
   ]
  },
  {
   "cell_type": "code",
   "execution_count": 6,
   "metadata": {},
   "outputs": [
    {
     "data": {
      "text/plain": [
       "array([[-1.26999998e-02,  1.08580005e+00,  8.00000038e-03],\n",
       "       [ 2.19999999e-03, -6.00000005e-03,  2.00000009e-03],\n",
       "       [ 1.01170003e+00,  1.46379995e+00,  3.00000014e-04],\n",
       "       [-5.40799975e-01,  1.44749999e+00, -8.76600027e-01],\n",
       "       [-5.23800015e-01,  1.43789995e+00,  9.06400025e-01]])"
      ]
     },
     "execution_count": 6,
     "metadata": {},
     "output_type": "execute_result"
    }
   ],
   "source": [
    "mol.GetConformer().GetPositions()"
   ]
  },
  {
   "cell_type": "code",
   "execution_count": 7,
   "metadata": {},
   "outputs": [
    {
     "data": {
      "text/plain": [
       "tensor([[-1.2700e-02,  1.0858e+00,  8.0000e-03],\n",
       "        [ 2.2000e-03, -6.0000e-03,  2.0000e-03],\n",
       "        [ 1.0117e+00,  1.4638e+00,  3.0000e-04],\n",
       "        [-5.4080e-01,  1.4475e+00, -8.7660e-01],\n",
       "        [-5.2380e-01,  1.4379e+00,  9.0640e-01]])"
      ]
     },
     "execution_count": 7,
     "metadata": {},
     "output_type": "execute_result"
    }
   ],
   "source": [
    "data.dataset_maybe_noisy[0].pos"
   ]
  },
  {
   "cell_type": "code",
   "execution_count": 12,
   "metadata": {},
   "outputs": [
    {
     "data": {
      "text/plain": [
       "1"
      ]
     },
     "execution_count": 12,
     "metadata": {},
     "output_type": "execute_result"
    }
   ],
   "source": [
    "\n",
    "generated=rdDistGeom.EmbedMolecule(mol,ps)\n",
    "\n",
    "len(mol.GetConformers())"
   ]
  },
  {
   "cell_type": "code",
   "execution_count": 13,
   "metadata": {},
   "outputs": [],
   "source": [
    "model = LNNP(args, prior_model=None, mean=data.mean, std=data.std)"
   ]
  },
  {
   "cell_type": "code",
   "execution_count": 18,
   "metadata": {},
   "outputs": [],
   "source": [
    "sample=copy.deepcopy(data.dataset_maybe_noisy[4654])\n",
    "copSample=copy.deepcopy(sample)"
   ]
  },
  {
   "cell_type": "code",
   "execution_count": 19,
   "metadata": {},
   "outputs": [],
   "source": [
    "_,noise,_=model(sample.z,sample.pos)"
   ]
  },
  {
   "cell_type": "code",
   "execution_count": 20,
   "metadata": {},
   "outputs": [],
   "source": [
    "predpos=sample.pos-noise\n",
    "gpos=sample.pos-sample.pos_target\n",
    "initpos=sample.pos"
   ]
  },
  {
   "cell_type": "code",
   "execution_count": 21,
   "metadata": {},
   "outputs": [],
   "source": [
    "def make_conformer(mol,positions):\n",
    "    id=mol.GetNumConformers()\n",
    "    conformer = Chem.Conformer(mol.GetNumAtoms())\n",
    "    conformer.SetId(id)\n",
    "    for i in range(mol.GetNumAtoms()):\n",
    "        conformer.SetAtomPosition(i, Point3D(positions[i][0].item(),positions[i][1].item(),positions[i][2].item())) \n",
    "    mol.AddConformer(conformer)"
   ]
  },
  {
   "cell_type": "code",
   "execution_count": 22,
   "metadata": {},
   "outputs": [],
   "source": [
    "make_conformer(sample.mol,predpos)\n",
    "make_conformer(sample.mol,gpos)\n",
    "make_conformer(sample.mol,initpos)"
   ]
  },
  {
   "cell_type": "code",
   "execution_count": 23,
   "metadata": {},
   "outputs": [
    {
     "name": "stdout",
     "output_type": "stream",
     "text": [
      "C\n",
      "C\n",
      "N\n",
      "C\n",
      "N\n",
      "C\n",
      "O\n",
      "C\n",
      "H\n",
      "H\n",
      "H\n",
      "H\n",
      "H\n",
      "H\n",
      "H\n",
      "H\n"
     ]
    }
   ],
   "source": [
    "for i in range(sample.mol.GetNumAtoms()):\n",
    "    print(sample.mol.GetAtomWithIdx(i).GetSymbol())"
   ]
  },
  {
   "cell_type": "code",
   "execution_count": 24,
   "metadata": {},
   "outputs": [
    {
     "name": "stdout",
     "output_type": "stream",
     "text": [
      "H\n",
      "O\n",
      "C\n",
      "N\n",
      "C\n",
      "H\n",
      "N\n",
      "C\n",
      "H\n",
      "H\n",
      "C\n",
      "H\n",
      "H\n",
      "H\n",
      "C\n",
      "H\n"
     ]
    }
   ],
   "source": [
    "for i in range(sample.noisy_mol.GetNumAtoms()):\n",
    "    print(sample.noisy_mol.GetAtomWithIdx(i).GetSymbol())"
   ]
  },
  {
   "cell_type": "code",
   "execution_count": 9,
   "metadata": {},
   "outputs": [
    {
     "name": "stdout",
     "output_type": "stream",
     "text": [
      "0\n",
      "1\n",
      "2\n",
      "3\n"
     ]
    }
   ],
   "source": [
    "conf=sample.mol.GetConformers()\n",
    "for i in conf:\n",
    "    print(i.GetId())"
   ]
  },
  {
   "cell_type": "code",
   "execution_count": 13,
   "metadata": {},
   "outputs": [
    {
     "data": {
      "application/3dmoljs_load.v0": "<div id=\"3dmolviewer_16850248593633213\"  style=\"position: relative; width: 400px; height: 400px;\">\n        <p id=\"3dmolwarning_16850248593633213\" style=\"background-color:#ffcccc;color:black\">You appear to be running in JupyterLab (or JavaScript failed to load for some other reason).  You need to install the 3dmol extension: <br>\n        <tt>jupyter labextension install jupyterlab_3dmol</tt></p>\n        </div>\n<script>\n\nvar loadScriptAsync = function(uri){\n  return new Promise((resolve, reject) => {\n    //this is to ignore the existence of requirejs amd\n    var savedexports, savedmodule;\n    if (typeof exports !== 'undefined') savedexports = exports;\n    else exports = {}\n    if (typeof module !== 'undefined') savedmodule = module;\n    else module = {}\n\n    var tag = document.createElement('script');\n    tag.src = uri;\n    tag.async = true;\n    tag.onload = () => {\n        exports = savedexports;\n        module = savedmodule;\n        resolve();\n    };\n  var firstScriptTag = document.getElementsByTagName('script')[0];\n  firstScriptTag.parentNode.insertBefore(tag, firstScriptTag);\n});\n};\n\nif(typeof $3Dmolpromise === 'undefined') {\n$3Dmolpromise = null;\n  $3Dmolpromise = loadScriptAsync('https://cdnjs.cloudflare.com/ajax/libs/3Dmol/2.0.3/3Dmol-min.js');\n}\n\nvar viewer_16850248593633213 = null;\nvar warn = document.getElementById(\"3dmolwarning_16850248593633213\");\nif(warn) {\n    warn.parentNode.removeChild(warn);\n}\n$3Dmolpromise.then(function() {\nviewer_16850248593633213 = $3Dmol.createViewer(document.getElementById(\"3dmolviewer_16850248593633213\"),{backgroundColor:\"white\"});\nviewer_16850248593633213.zoomTo();\n\tviewer_16850248593633213.removeAllModels();\n\tviewer_16850248593633213.addModel(\"\\n     RDKit          3D\\n\\n  5  4  0  0  0  0  0  0  0  0999 V2000\\n   -0.0127    1.0858    0.0080 C   0  0  0  0  0  0  0  0  0  0  0  0\\n    0.0022   -0.0060    0.0020 H   0  0  0  0  0  0  0  0  0  0  0  0\\n    1.0117    1.4638    0.0003 H   0  0  0  0  0  0  0  0  0  0  0  0\\n   -0.5408    1.4475   -0.8766 H   0  0  0  0  0  0  0  0  0  0  0  0\\n   -0.5238    1.4379    0.9064 H   0  0  0  0  0  0  0  0  0  0  0  0\\n  1  2  1  0\\n  1  3  1  0\\n  1  4  1  0\\n  1  5  1  0\\nM  END\\n\",\"sdf\");\n\tviewer_16850248593633213.setStyle({\"stick\": {}});\n\tviewer_16850248593633213.setBackgroundColor(\"0xeeeeee\");\n\tviewer_16850248593633213.zoomTo();\nviewer_16850248593633213.render();\n});\n</script>",
      "text/html": [
       "<div id=\"3dmolviewer_16850248593633213\"  style=\"position: relative; width: 400px; height: 400px;\">\n",
       "        <p id=\"3dmolwarning_16850248593633213\" style=\"background-color:#ffcccc;color:black\">You appear to be running in JupyterLab (or JavaScript failed to load for some other reason).  You need to install the 3dmol extension: <br>\n",
       "        <tt>jupyter labextension install jupyterlab_3dmol</tt></p>\n",
       "        </div>\n",
       "<script>\n",
       "\n",
       "var loadScriptAsync = function(uri){\n",
       "  return new Promise((resolve, reject) => {\n",
       "    //this is to ignore the existence of requirejs amd\n",
       "    var savedexports, savedmodule;\n",
       "    if (typeof exports !== 'undefined') savedexports = exports;\n",
       "    else exports = {}\n",
       "    if (typeof module !== 'undefined') savedmodule = module;\n",
       "    else module = {}\n",
       "\n",
       "    var tag = document.createElement('script');\n",
       "    tag.src = uri;\n",
       "    tag.async = true;\n",
       "    tag.onload = () => {\n",
       "        exports = savedexports;\n",
       "        module = savedmodule;\n",
       "        resolve();\n",
       "    };\n",
       "  var firstScriptTag = document.getElementsByTagName('script')[0];\n",
       "  firstScriptTag.parentNode.insertBefore(tag, firstScriptTag);\n",
       "});\n",
       "};\n",
       "\n",
       "if(typeof $3Dmolpromise === 'undefined') {\n",
       "$3Dmolpromise = null;\n",
       "  $3Dmolpromise = loadScriptAsync('https://cdnjs.cloudflare.com/ajax/libs/3Dmol/2.0.3/3Dmol-min.js');\n",
       "}\n",
       "\n",
       "var viewer_16850248593633213 = null;\n",
       "var warn = document.getElementById(\"3dmolwarning_16850248593633213\");\n",
       "if(warn) {\n",
       "    warn.parentNode.removeChild(warn);\n",
       "}\n",
       "$3Dmolpromise.then(function() {\n",
       "viewer_16850248593633213 = $3Dmol.createViewer(document.getElementById(\"3dmolviewer_16850248593633213\"),{backgroundColor:\"white\"});\n",
       "viewer_16850248593633213.zoomTo();\n",
       "\tviewer_16850248593633213.removeAllModels();\n",
       "\tviewer_16850248593633213.addModel(\"\\n     RDKit          3D\\n\\n  5  4  0  0  0  0  0  0  0  0999 V2000\\n   -0.0127    1.0858    0.0080 C   0  0  0  0  0  0  0  0  0  0  0  0\\n    0.0022   -0.0060    0.0020 H   0  0  0  0  0  0  0  0  0  0  0  0\\n    1.0117    1.4638    0.0003 H   0  0  0  0  0  0  0  0  0  0  0  0\\n   -0.5408    1.4475   -0.8766 H   0  0  0  0  0  0  0  0  0  0  0  0\\n   -0.5238    1.4379    0.9064 H   0  0  0  0  0  0  0  0  0  0  0  0\\n  1  2  1  0\\n  1  3  1  0\\n  1  4  1  0\\n  1  5  1  0\\nM  END\\n\",\"sdf\");\n",
       "\tviewer_16850248593633213.setStyle({\"stick\": {}});\n",
       "\tviewer_16850248593633213.setBackgroundColor(\"0xeeeeee\");\n",
       "\tviewer_16850248593633213.zoomTo();\n",
       "viewer_16850248593633213.render();\n",
       "});\n",
       "</script>"
      ]
     },
     "metadata": {},
     "output_type": "display_data"
    }
   ],
   "source": [
    "IPythonConsole.drawMol3D(sample.mol,confId=2)"
   ]
  },
  {
   "cell_type": "code",
   "execution_count": 24,
   "metadata": {},
   "outputs": [],
   "source": [
    "for i in range(sample.mol.GetNumAtoms()):\n",
    "    conf.SetAtomPosition(i, Point3D(predpos[i][0].item(),predpos[i][1].item(),predpos[i][2].item()))      \n",
    "    "
   ]
  },
  {
   "cell_type": "code",
   "execution_count": 25,
   "metadata": {},
   "outputs": [
    {
     "data": {
      "application/3dmoljs_load.v0": "<div id=\"3dmolviewer_16850135808963473\"  style=\"position: relative; width: 400px; height: 400px;\">\n        <p id=\"3dmolwarning_16850135808963473\" style=\"background-color:#ffcccc;color:black\">You appear to be running in JupyterLab (or JavaScript failed to load for some other reason).  You need to install the 3dmol extension: <br>\n        <tt>jupyter labextension install jupyterlab_3dmol</tt></p>\n        </div>\n<script>\n\nvar loadScriptAsync = function(uri){\n  return new Promise((resolve, reject) => {\n    //this is to ignore the existence of requirejs amd\n    var savedexports, savedmodule;\n    if (typeof exports !== 'undefined') savedexports = exports;\n    else exports = {}\n    if (typeof module !== 'undefined') savedmodule = module;\n    else module = {}\n\n    var tag = document.createElement('script');\n    tag.src = uri;\n    tag.async = true;\n    tag.onload = () => {\n        exports = savedexports;\n        module = savedmodule;\n        resolve();\n    };\n  var firstScriptTag = document.getElementsByTagName('script')[0];\n  firstScriptTag.parentNode.insertBefore(tag, firstScriptTag);\n});\n};\n\nif(typeof $3Dmolpromise === 'undefined') {\n$3Dmolpromise = null;\n  $3Dmolpromise = loadScriptAsync('https://cdnjs.cloudflare.com/ajax/libs/3Dmol/2.0.3/3Dmol-min.js');\n}\n\nvar viewer_16850135808963473 = null;\nvar warn = document.getElementById(\"3dmolwarning_16850135808963473\");\nif(warn) {\n    warn.parentNode.removeChild(warn);\n}\n$3Dmolpromise.then(function() {\nviewer_16850135808963473 = $3Dmol.createViewer(document.getElementById(\"3dmolviewer_16850135808963473\"),{backgroundColor:\"white\"});\nviewer_16850135808963473.zoomTo();\n\tviewer_16850135808963473.removeAllModels();\n\tviewer_16850135808963473.addModel(\"\\n     RDKit          3D\\n\\n  5  4  0  0  0  0  0  0  0  0999 V2000\\n    1.1706   -0.3963    0.0747 C   0  0  0  0  0  0  0  0  0  0  0  0\\n    0.5296   -0.3306    0.1007 H   0  0  0  0  0  0  0  0  0  0  0  0\\n    0.6248   -0.4110    0.3165 H   0  0  0  0  0  0  0  0  0  0  0  0\\n    0.8778   -0.4228    0.6910 H   0  0  0  0  0  0  0  0  0  0  0  0\\n    0.9211   -0.3268   -0.3391 H   0  0  0  0  0  0  0  0  0  0  0  0\\n  1  2  1  0\\n  1  3  1  0\\n  1  4  1  0\\n  1  5  1  0\\nM  END\\n\",\"sdf\");\n\tviewer_16850135808963473.setStyle({\"stick\": {}});\n\tviewer_16850135808963473.setBackgroundColor(\"0xeeeeee\");\n\tviewer_16850135808963473.zoomTo();\nviewer_16850135808963473.render();\n});\n</script>",
      "text/html": [
       "<div id=\"3dmolviewer_16850135808963473\"  style=\"position: relative; width: 400px; height: 400px;\">\n",
       "        <p id=\"3dmolwarning_16850135808963473\" style=\"background-color:#ffcccc;color:black\">You appear to be running in JupyterLab (or JavaScript failed to load for some other reason).  You need to install the 3dmol extension: <br>\n",
       "        <tt>jupyter labextension install jupyterlab_3dmol</tt></p>\n",
       "        </div>\n",
       "<script>\n",
       "\n",
       "var loadScriptAsync = function(uri){\n",
       "  return new Promise((resolve, reject) => {\n",
       "    //this is to ignore the existence of requirejs amd\n",
       "    var savedexports, savedmodule;\n",
       "    if (typeof exports !== 'undefined') savedexports = exports;\n",
       "    else exports = {}\n",
       "    if (typeof module !== 'undefined') savedmodule = module;\n",
       "    else module = {}\n",
       "\n",
       "    var tag = document.createElement('script');\n",
       "    tag.src = uri;\n",
       "    tag.async = true;\n",
       "    tag.onload = () => {\n",
       "        exports = savedexports;\n",
       "        module = savedmodule;\n",
       "        resolve();\n",
       "    };\n",
       "  var firstScriptTag = document.getElementsByTagName('script')[0];\n",
       "  firstScriptTag.parentNode.insertBefore(tag, firstScriptTag);\n",
       "});\n",
       "};\n",
       "\n",
       "if(typeof $3Dmolpromise === 'undefined') {\n",
       "$3Dmolpromise = null;\n",
       "  $3Dmolpromise = loadScriptAsync('https://cdnjs.cloudflare.com/ajax/libs/3Dmol/2.0.3/3Dmol-min.js');\n",
       "}\n",
       "\n",
       "var viewer_16850135808963473 = null;\n",
       "var warn = document.getElementById(\"3dmolwarning_16850135808963473\");\n",
       "if(warn) {\n",
       "    warn.parentNode.removeChild(warn);\n",
       "}\n",
       "$3Dmolpromise.then(function() {\n",
       "viewer_16850135808963473 = $3Dmol.createViewer(document.getElementById(\"3dmolviewer_16850135808963473\"),{backgroundColor:\"white\"});\n",
       "viewer_16850135808963473.zoomTo();\n",
       "\tviewer_16850135808963473.removeAllModels();\n",
       "\tviewer_16850135808963473.addModel(\"\\n     RDKit          3D\\n\\n  5  4  0  0  0  0  0  0  0  0999 V2000\\n    1.1706   -0.3963    0.0747 C   0  0  0  0  0  0  0  0  0  0  0  0\\n    0.5296   -0.3306    0.1007 H   0  0  0  0  0  0  0  0  0  0  0  0\\n    0.6248   -0.4110    0.3165 H   0  0  0  0  0  0  0  0  0  0  0  0\\n    0.8778   -0.4228    0.6910 H   0  0  0  0  0  0  0  0  0  0  0  0\\n    0.9211   -0.3268   -0.3391 H   0  0  0  0  0  0  0  0  0  0  0  0\\n  1  2  1  0\\n  1  3  1  0\\n  1  4  1  0\\n  1  5  1  0\\nM  END\\n\",\"sdf\");\n",
       "\tviewer_16850135808963473.setStyle({\"stick\": {}});\n",
       "\tviewer_16850135808963473.setBackgroundColor(\"0xeeeeee\");\n",
       "\tviewer_16850135808963473.zoomTo();\n",
       "viewer_16850135808963473.render();\n",
       "});\n",
       "</script>"
      ]
     },
     "metadata": {},
     "output_type": "display_data"
    }
   ],
   "source": [
    "IPythonConsole.drawMol3D(sample.mol,confId=0)"
   ]
  },
  {
   "cell_type": "code",
   "execution_count": 26,
   "metadata": {},
   "outputs": [],
   "source": [
    "for i in range(sample.mol.GetNumAtoms()):\n",
    "    conf.SetAtomPosition(i, Point3D(sample.pos[i][0].item(),sample.pos[i][1].item(),sample.pos[i][2].item()))"
   ]
  },
  {
   "cell_type": "code",
   "execution_count": 42,
   "metadata": {},
   "outputs": [
    {
     "data": {
      "application/3dmoljs_load.v0": "<div id=\"3dmolviewer_16850136893749104\"  style=\"position: relative; width: 400px; height: 400px;\">\n        <p id=\"3dmolwarning_16850136893749104\" style=\"background-color:#ffcccc;color:black\">You appear to be running in JupyterLab (or JavaScript failed to load for some other reason).  You need to install the 3dmol extension: <br>\n        <tt>jupyter labextension install jupyterlab_3dmol</tt></p>\n        </div>\n<script>\n\nvar loadScriptAsync = function(uri){\n  return new Promise((resolve, reject) => {\n    //this is to ignore the existence of requirejs amd\n    var savedexports, savedmodule;\n    if (typeof exports !== 'undefined') savedexports = exports;\n    else exports = {}\n    if (typeof module !== 'undefined') savedmodule = module;\n    else module = {}\n\n    var tag = document.createElement('script');\n    tag.src = uri;\n    tag.async = true;\n    tag.onload = () => {\n        exports = savedexports;\n        module = savedmodule;\n        resolve();\n    };\n  var firstScriptTag = document.getElementsByTagName('script')[0];\n  firstScriptTag.parentNode.insertBefore(tag, firstScriptTag);\n});\n};\n\nif(typeof $3Dmolpromise === 'undefined') {\n$3Dmolpromise = null;\n  $3Dmolpromise = loadScriptAsync('https://cdnjs.cloudflare.com/ajax/libs/3Dmol/2.0.3/3Dmol-min.js');\n}\n\nvar viewer_16850136893749104 = null;\nvar warn = document.getElementById(\"3dmolwarning_16850136893749104\");\nif(warn) {\n    warn.parentNode.removeChild(warn);\n}\n$3Dmolpromise.then(function() {\nviewer_16850136893749104 = $3Dmol.createViewer(document.getElementById(\"3dmolviewer_16850136893749104\"),{backgroundColor:\"white\"});\nviewer_16850136893749104.zoomTo();\n\tviewer_16850136893749104.removeAllModels();\n\tviewer_16850136893749104.addModel(\"\\n     RDKit          3D\\n\\n  5  4  0  0  0  0  0  0  0  0999 V2000\\n    0.7459   -0.2856    0.1152 C   0  0  0  0  0  0  0  0  0  0  0  0\\n   -0.1153   -0.6315   -0.4926 H   0  0  0  0  0  0  0  0  0  0  0  0\\n    0.7588    0.8235    0.1406 H   0  0  0  0  0  0  0  0  0  0  0  0\\n    0.6509   -0.6781    1.1484 H   0  0  0  0  0  0  0  0  0  0  0  0\\n    1.6894   -0.6561   -0.3358 H   0  0  0  0  0  0  0  0  0  0  0  0\\n  1  2  1  0\\n  1  3  1  0\\n  1  4  1  0\\n  1  5  1  0\\nM  END\\n\",\"sdf\");\n\tviewer_16850136893749104.setStyle({\"stick\": {}});\n\tviewer_16850136893749104.setBackgroundColor(\"0xeeeeee\");\n\tviewer_16850136893749104.zoomTo();\nviewer_16850136893749104.render();\n});\n</script>",
      "text/html": [
       "<div id=\"3dmolviewer_16850136893749104\"  style=\"position: relative; width: 400px; height: 400px;\">\n",
       "        <p id=\"3dmolwarning_16850136893749104\" style=\"background-color:#ffcccc;color:black\">You appear to be running in JupyterLab (or JavaScript failed to load for some other reason).  You need to install the 3dmol extension: <br>\n",
       "        <tt>jupyter labextension install jupyterlab_3dmol</tt></p>\n",
       "        </div>\n",
       "<script>\n",
       "\n",
       "var loadScriptAsync = function(uri){\n",
       "  return new Promise((resolve, reject) => {\n",
       "    //this is to ignore the existence of requirejs amd\n",
       "    var savedexports, savedmodule;\n",
       "    if (typeof exports !== 'undefined') savedexports = exports;\n",
       "    else exports = {}\n",
       "    if (typeof module !== 'undefined') savedmodule = module;\n",
       "    else module = {}\n",
       "\n",
       "    var tag = document.createElement('script');\n",
       "    tag.src = uri;\n",
       "    tag.async = true;\n",
       "    tag.onload = () => {\n",
       "        exports = savedexports;\n",
       "        module = savedmodule;\n",
       "        resolve();\n",
       "    };\n",
       "  var firstScriptTag = document.getElementsByTagName('script')[0];\n",
       "  firstScriptTag.parentNode.insertBefore(tag, firstScriptTag);\n",
       "});\n",
       "};\n",
       "\n",
       "if(typeof $3Dmolpromise === 'undefined') {\n",
       "$3Dmolpromise = null;\n",
       "  $3Dmolpromise = loadScriptAsync('https://cdnjs.cloudflare.com/ajax/libs/3Dmol/2.0.3/3Dmol-min.js');\n",
       "}\n",
       "\n",
       "var viewer_16850136893749104 = null;\n",
       "var warn = document.getElementById(\"3dmolwarning_16850136893749104\");\n",
       "if(warn) {\n",
       "    warn.parentNode.removeChild(warn);\n",
       "}\n",
       "$3Dmolpromise.then(function() {\n",
       "viewer_16850136893749104 = $3Dmol.createViewer(document.getElementById(\"3dmolviewer_16850136893749104\"),{backgroundColor:\"white\"});\n",
       "viewer_16850136893749104.zoomTo();\n",
       "\tviewer_16850136893749104.removeAllModels();\n",
       "\tviewer_16850136893749104.addModel(\"\\n     RDKit          3D\\n\\n  5  4  0  0  0  0  0  0  0  0999 V2000\\n    0.7459   -0.2856    0.1152 C   0  0  0  0  0  0  0  0  0  0  0  0\\n   -0.1153   -0.6315   -0.4926 H   0  0  0  0  0  0  0  0  0  0  0  0\\n    0.7588    0.8235    0.1406 H   0  0  0  0  0  0  0  0  0  0  0  0\\n    0.6509   -0.6781    1.1484 H   0  0  0  0  0  0  0  0  0  0  0  0\\n    1.6894   -0.6561   -0.3358 H   0  0  0  0  0  0  0  0  0  0  0  0\\n  1  2  1  0\\n  1  3  1  0\\n  1  4  1  0\\n  1  5  1  0\\nM  END\\n\",\"sdf\");\n",
       "\tviewer_16850136893749104.setStyle({\"stick\": {}});\n",
       "\tviewer_16850136893749104.setBackgroundColor(\"0xeeeeee\");\n",
       "\tviewer_16850136893749104.zoomTo();\n",
       "viewer_16850136893749104.render();\n",
       "});\n",
       "</script>"
      ]
     },
     "metadata": {},
     "output_type": "display_data"
    },
    {
     "data": {
      "text/plain": [
       "0"
      ]
     },
     "execution_count": 42,
     "metadata": {},
     "output_type": "execute_result"
    }
   ],
   "source": [
    "IPythonConsole.drawMol3D(sample.mol,confId=0)\n",
    "Chem.rdForceFieldHelpers.UFFOptimizeMolecule(sample.mol,confId=0,maxIters=300)"
   ]
  },
  {
   "cell_type": "code",
   "execution_count": null,
   "metadata": {},
   "outputs": [],
   "source": []
  }
 ],
 "metadata": {
  "kernelspec": {
   "display_name": "pvd",
   "language": "python",
   "name": "python3"
  },
  "language_info": {
   "codemirror_mode": {
    "name": "ipython",
    "version": 3
   },
   "file_extension": ".py",
   "mimetype": "text/x-python",
   "name": "python",
   "nbconvert_exporter": "python",
   "pygments_lexer": "ipython3",
   "version": "3.9.10"
  },
  "orig_nbformat": 4
 },
 "nbformat": 4,
 "nbformat_minor": 2
}
