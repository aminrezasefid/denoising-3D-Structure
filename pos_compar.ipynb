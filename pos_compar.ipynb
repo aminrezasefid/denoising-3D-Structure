{
 "cells": [
  {
   "cell_type": "code",
   "execution_count": 23,
   "metadata": {},
   "outputs": [],
   "source": [
    "import numpy as np  # sometimes needed to avoid mkl-service error\n",
    "import sys\n",
    "import os\n",
    "import argparse\n",
    "import logging\n",
    "import pytorch_lightning as pl\n",
    "from pytorch_lightning.callbacks import EarlyStopping\n",
    "from pytorch_lightning.callbacks.model_checkpoint import ModelCheckpoint\n",
    "from pytorch_lightning.loggers import CSVLogger, WandbLogger\n",
    "from pytorch_lightning.plugins import DDPPlugin\n",
    "from pytorch_lightning.utilities import rank_zero_only\n",
    "import torch\n",
    "from torchmdnet.module import LNNP\n",
    "from torchmdnet import datasets, priors, models\n",
    "from torchmdnet.data import DataModule\n",
    "from torchmdnet.models import output_modules\n",
    "from torchmdnet.models.utils import rbf_class_mapping, act_class_mapping\n",
    "from torchmdnet.utils import LoadFromFile, LoadFromCheckpoint, save_argparse, number\n",
    "from pathlib import Path\n",
    "import wandb\n",
    "import json\n",
    "import pandas as pd\n",
    "from rdkit.Chem import AllChem\n",
    "import copy\n",
    "from rdkit.Geometry import Point3D\n",
    "from rdkit import Chem\n",
    "from rdkit.Chem.Draw import IPythonConsole\n",
    "IPythonConsole.ipython_3d = True\n",
    "import py3Dmol\n",
    "from rdkit.Chem import rdDepictor\n",
    "from rdkit.Chem import rdDistGeom\n",
    "import rdkit"
   ]
  },
  {
   "cell_type": "code",
   "execution_count": 24,
   "metadata": {},
   "outputs": [
    {
     "name": "stdout",
     "output_type": "stream",
     "text": [
      "train 400, val 50, test 37\n"
     ]
    },
    {
     "name": "stderr",
     "output_type": "stream",
     "text": [
      "computing mean and std:   0%|          | 0/4 [00:00<?, ?it/s]\n"
     ]
    }
   ],
   "source": [
    "with open('commandline_args.txt', 'r') as f:\n",
    "    args = json.load(f)\n",
    "data = DataModule(args)\n",
    "data.prepare_data()\n",
    "data.setup(\"fit\")"
   ]
  },
  {
   "cell_type": "code",
   "execution_count": 25,
   "metadata": {},
   "outputs": [],
   "source": [
    "def print_atoms(mol):\n",
    "    atoms=mol.GetAtoms()\n",
    "    names=\",\".join([atom.GetSymbol() for atom in atoms ])\n",
    "    print(names)"
   ]
  },
  {
   "cell_type": "code",
   "execution_count": 26,
   "metadata": {},
   "outputs": [
    {
     "name": "stdout",
     "output_type": "stream",
     "text": [
      "C,C,C,C,C,C,H,H,H,H,H,H,H,H,H,H\n",
      "C,C,C,C,C,C,H,H,H,H,H,H,H,H,H,H\n",
      "C,C,C,C,C,H,H,H,H,H,H,H,H\n",
      "C,C,C,C,C,H,H,H,H,H,H,H,H\n",
      "O,C,N,C,N,H,H\n",
      "O,C,N,C,N,H,H\n",
      "C,C,O,C,O,H,H,H,H,H,H\n",
      "C,C,O,C,O,H,H,H,H,H,H\n",
      "C,C,O,C,O,H,H,H,H,H,H\n",
      "C,C,O,C,O,H,H,H,H,H,H\n",
      "N,C,C,C,C,N,H,H,H,H,H,H\n",
      "N,C,C,C,C,N,H,H,H,H,H,H\n",
      "C,C,C,C,O,C,H,H,H,H,H,H,H,H\n",
      "C,C,C,C,O,C,H,H,H,H,H,H,H,H\n",
      "C,C,C,C,C,H,H,H,H,H,H,H,H\n",
      "C,C,C,C,C,H,H,H,H,H,H,H,H\n",
      "C,O,C,C,O,H,H,H,H,H,H,H,H\n",
      "C,O,C,C,O,H,H,H,H,H,H,H,H\n",
      "C,N,C,N,C,O,H,H,H,H,H,H\n",
      "C,N,C,N,C,O,H,H,H,H,H,H\n"
     ]
    }
   ],
   "source": [
    "import random\n",
    "for i in range(10):\n",
    "    rand=random.randrange(0,400)\n",
    "    mol=data.dataset_maybe_noisy[rand].mol\n",
    "    noisy_mol=data.dataset_maybe_noisy[rand].noisy_mol\n",
    "    print_atoms(mol)\n",
    "    print_atoms(noisy_mol)"
   ]
  },
  {
   "cell_type": "code",
   "execution_count": 5,
   "metadata": {},
   "outputs": [
    {
     "name": "stdout",
     "output_type": "stream",
     "text": [
      "tensor([[-1.7674,  3.5668, -2.2891],\n",
      "        [ 1.0245,  1.0152,  0.5745],\n",
      "        [ 0.6888,  0.3857,  1.9742],\n",
      "        [ 1.5244,  2.3697,  0.4127],\n",
      "        [ 0.5275,  2.4693,  1.6104],\n",
      "        [ 0.0291,  0.7604,  0.7546],\n",
      "        [ 1.9843,  0.2055, -1.6015],\n",
      "        [-1.9092,  1.4258, -0.0547],\n",
      "        [-3.4948, -1.8347,  2.4298]])\n",
      "tensor([[-1.7674,  3.5668, -2.2891],\n",
      "        [ 1.0245,  1.0152,  0.5745],\n",
      "        [ 0.6888,  0.3857,  1.9742],\n",
      "        [ 1.5244,  2.3697,  0.4127],\n",
      "        [ 0.5275,  2.4693,  1.6104],\n",
      "        [ 0.0291,  0.7604,  0.7546],\n",
      "        [ 1.9843,  0.2055, -1.6015],\n",
      "        [-1.9092,  1.4258, -0.0547],\n",
      "        [-3.4948, -1.8347,  2.4298]])\n"
     ]
    }
   ],
   "source": [
    "sample=data.dataset_maybe_noisy[15]\n"
   ]
  },
  {
   "cell_type": "code",
   "execution_count": 10,
   "metadata": {},
   "outputs": [
    {
     "data": {
      "text/plain": [
       "array([[ 0.1386645 ,  1.97381212,  0.38018896],\n",
       "       [ 0.41072317,  0.48876456,  0.52645924],\n",
       "       [-1.0129904 ,  0.98647968,  0.36468587],\n",
       "       [ 0.39898532,  2.39192662, -0.61552726],\n",
       "       [ 0.2348427 ,  2.55244206,  1.32331444],\n",
       "       [ 0.66885703,  0.16878532,  1.5579608 ],\n",
       "       [ 0.83563715,  0.00940425, -0.38130596],\n",
       "       [-1.45151894,  0.81546012, -0.6416003 ],\n",
       "       [-1.61611414,  0.97645888,  1.2967554 ]])"
      ]
     },
     "execution_count": 10,
     "metadata": {},
     "output_type": "execute_result"
    }
   ],
   "source": [
    "sample.noisy_mol.GetConformer(0).GetPositions()"
   ]
  },
  {
   "cell_type": "code",
   "execution_count": 7,
   "metadata": {},
   "outputs": [
    {
     "data": {
      "text/plain": [
       "tensor([[-1.7674,  3.5668, -2.2891],\n",
       "        [ 1.0245,  1.0152,  0.5745],\n",
       "        [ 0.6888,  0.3857,  1.9742],\n",
       "        [ 1.5244,  2.3697,  0.4127],\n",
       "        [ 0.5275,  2.4693,  1.6104],\n",
       "        [ 0.0291,  0.7604,  0.7546],\n",
       "        [ 1.9843,  0.2055, -1.6015],\n",
       "        [-1.9092,  1.4258, -0.0547],\n",
       "        [-3.4948, -1.8347,  2.4298]])"
      ]
     },
     "execution_count": 7,
     "metadata": {},
     "output_type": "execute_result"
    }
   ],
   "source": [
    "sample.pos"
   ]
  },
  {
   "cell_type": "code",
   "execution_count": 27,
   "metadata": {},
   "outputs": [
    {
     "data": {
      "text/plain": [
       "tensor([[-1.0634,  1.7419,  2.1481],\n",
       "        [ 0.9792,  1.9879, -0.4576],\n",
       "        [-5.3672,  1.0327,  0.5742],\n",
       "        [ 2.0826,  3.3134, -2.5213],\n",
       "        [ 1.1087,  3.1769, -2.5667],\n",
       "        [ 1.6334,  2.0514,  0.1729],\n",
       "        [-2.0669,  3.0521, -6.2096],\n",
       "        [-2.9466, -1.5596,  3.1063],\n",
       "        [-1.1847, -0.3315, -0.0414]])"
      ]
     },
     "execution_count": 27,
     "metadata": {},
     "output_type": "execute_result"
    }
   ],
   "source": [
    "sample.pos"
   ]
  },
  {
   "cell_type": "code",
   "execution_count": 27,
   "metadata": {},
   "outputs": [],
   "source": [
    "model = LNNP(args, prior_model=None, mean=data.mean, std=data.std)"
   ]
  },
  {
   "cell_type": "code",
   "execution_count": 28,
   "metadata": {},
   "outputs": [],
   "source": [
    "sample=copy.deepcopy(data.dataset_maybe_noisy[0])\n",
    "copSample=copy.deepcopy(sample)"
   ]
  },
  {
   "cell_type": "code",
   "execution_count": 29,
   "metadata": {},
   "outputs": [],
   "source": [
    "_,noise,_=model(sample.z,sample.pos)"
   ]
  },
  {
   "cell_type": "code",
   "execution_count": 30,
   "metadata": {},
   "outputs": [],
   "source": [
    "predpos=sample.pos-noise\n",
    "gpos=sample.pos-sample.pos_target\n",
    "initpos=sample.pos"
   ]
  },
  {
   "cell_type": "code",
   "execution_count": 31,
   "metadata": {},
   "outputs": [],
   "source": [
    "def make_conformer(mol,positions):\n",
    "    id=mol.GetNumConformers()\n",
    "    conformer = Chem.Conformer(mol.GetNumAtoms())\n",
    "    conformer.SetId(id)\n",
    "    for i in range(mol.GetNumAtoms()):\n",
    "        conformer.SetAtomPosition(i, Point3D(positions[i][0].item(),positions[i][1].item(),positions[i][2].item())) \n",
    "    mol.AddConformer(conformer)"
   ]
  },
  {
   "cell_type": "code",
   "execution_count": 32,
   "metadata": {},
   "outputs": [],
   "source": [
    "make_conformer(sample.mol,predpos)\n",
    "make_conformer(sample.mol,gpos)\n",
    "make_conformer(sample.mol,initpos)"
   ]
  },
  {
   "cell_type": "code",
   "execution_count": 33,
   "metadata": {},
   "outputs": [
    {
     "name": "stdout",
     "output_type": "stream",
     "text": [
      "C\n",
      "H\n",
      "H\n",
      "H\n",
      "H\n"
     ]
    }
   ],
   "source": [
    "for i in range(sample.mol.GetNumAtoms()):\n",
    "    print(sample.mol.GetAtomWithIdx(i).GetSymbol())"
   ]
  },
  {
   "cell_type": "code",
   "execution_count": 48,
   "metadata": {},
   "outputs": [
    {
     "name": "stdout",
     "output_type": "stream",
     "text": [
      "O\n",
      "C\n",
      "C\n",
      "C\n",
      "H\n",
      "H\n",
      "H\n",
      "H\n",
      "H\n",
      "H\n"
     ]
    }
   ],
   "source": [
    "for i in range(sample.noisy_mol.GetNumAtoms()):\n",
    "    print(sample.noisy_mol.GetAtomWithIdx(i).GetSymbol())"
   ]
  },
  {
   "cell_type": "code",
   "execution_count": 49,
   "metadata": {},
   "outputs": [
    {
     "name": "stdout",
     "output_type": "stream",
     "text": [
      "0\n",
      "1\n",
      "2\n",
      "3\n"
     ]
    }
   ],
   "source": [
    "conf=sample.mol.GetConformers()\n",
    "for i in conf:\n",
    "    print(i.GetId())"
   ]
  },
  {
   "cell_type": "code",
   "execution_count": 37,
   "metadata": {},
   "outputs": [
    {
     "data": {
      "application/3dmoljs_load.v0": "<div id=\"3dmolviewer_1685112534480273\"  style=\"position: relative; width: 400px; height: 400px;\">\n        <p id=\"3dmolwarning_1685112534480273\" style=\"background-color:#ffcccc;color:black\">You appear to be running in JupyterLab (or JavaScript failed to load for some other reason).  You need to install the 3dmol extension: <br>\n        <tt>jupyter labextension install jupyterlab_3dmol</tt></p>\n        </div>\n<script>\n\nvar loadScriptAsync = function(uri){\n  return new Promise((resolve, reject) => {\n    //this is to ignore the existence of requirejs amd\n    var savedexports, savedmodule;\n    if (typeof exports !== 'undefined') savedexports = exports;\n    else exports = {}\n    if (typeof module !== 'undefined') savedmodule = module;\n    else module = {}\n\n    var tag = document.createElement('script');\n    tag.src = uri;\n    tag.async = true;\n    tag.onload = () => {\n        exports = savedexports;\n        module = savedmodule;\n        resolve();\n    };\n  var firstScriptTag = document.getElementsByTagName('script')[0];\n  firstScriptTag.parentNode.insertBefore(tag, firstScriptTag);\n});\n};\n\nif(typeof $3Dmolpromise === 'undefined') {\n$3Dmolpromise = null;\n  $3Dmolpromise = loadScriptAsync('https://cdnjs.cloudflare.com/ajax/libs/3Dmol/2.0.3/3Dmol-min.js');\n}\n\nvar viewer_1685112534480273 = null;\nvar warn = document.getElementById(\"3dmolwarning_1685112534480273\");\nif(warn) {\n    warn.parentNode.removeChild(warn);\n}\n$3Dmolpromise.then(function() {\nviewer_1685112534480273 = $3Dmol.createViewer(document.getElementById(\"3dmolviewer_1685112534480273\"),{backgroundColor:\"white\"});\nviewer_1685112534480273.zoomTo();\n\tviewer_1685112534480273.removeAllModels();\n\tviewer_1685112534480273.addModel(\"\\n     RDKit          3D\\n\\n  5  4  0  0  0  0  0  0  0  0999 V2000\\n   -0.0127    1.0858    0.0080 C   0  0  0  0  0  0  0  0  0  0  0  0\\n   -0.3592    0.1188   -0.4111 H   0  0  0  0  0  0  0  0  0  0  0  0\\n    1.0698    1.0207    0.2422 H   0  0  0  0  0  0  0  0  0  0  0  0\\n   -0.1826    1.8926   -0.7342 H   0  0  0  0  0  0  0  0  0  0  0  0\\n   -0.5787    1.3111    0.9352 H   0  0  0  0  0  0  0  0  0  0  0  0\\n  1  2  1  0\\n  1  3  1  0\\n  1  4  1  0\\n  1  5  1  0\\nM  END\\n\",\"sdf\");\n\tviewer_1685112534480273.setStyle({\"stick\": {}});\n\tviewer_1685112534480273.setBackgroundColor(\"0xeeeeee\");\n\tviewer_1685112534480273.zoomTo();\nviewer_1685112534480273.render();\n});\n</script>",
      "text/html": [
       "<div id=\"3dmolviewer_1685112534480273\"  style=\"position: relative; width: 400px; height: 400px;\">\n",
       "        <p id=\"3dmolwarning_1685112534480273\" style=\"background-color:#ffcccc;color:black\">You appear to be running in JupyterLab (or JavaScript failed to load for some other reason).  You need to install the 3dmol extension: <br>\n",
       "        <tt>jupyter labextension install jupyterlab_3dmol</tt></p>\n",
       "        </div>\n",
       "<script>\n",
       "\n",
       "var loadScriptAsync = function(uri){\n",
       "  return new Promise((resolve, reject) => {\n",
       "    //this is to ignore the existence of requirejs amd\n",
       "    var savedexports, savedmodule;\n",
       "    if (typeof exports !== 'undefined') savedexports = exports;\n",
       "    else exports = {}\n",
       "    if (typeof module !== 'undefined') savedmodule = module;\n",
       "    else module = {}\n",
       "\n",
       "    var tag = document.createElement('script');\n",
       "    tag.src = uri;\n",
       "    tag.async = true;\n",
       "    tag.onload = () => {\n",
       "        exports = savedexports;\n",
       "        module = savedmodule;\n",
       "        resolve();\n",
       "    };\n",
       "  var firstScriptTag = document.getElementsByTagName('script')[0];\n",
       "  firstScriptTag.parentNode.insertBefore(tag, firstScriptTag);\n",
       "});\n",
       "};\n",
       "\n",
       "if(typeof $3Dmolpromise === 'undefined') {\n",
       "$3Dmolpromise = null;\n",
       "  $3Dmolpromise = loadScriptAsync('https://cdnjs.cloudflare.com/ajax/libs/3Dmol/2.0.3/3Dmol-min.js');\n",
       "}\n",
       "\n",
       "var viewer_1685112534480273 = null;\n",
       "var warn = document.getElementById(\"3dmolwarning_1685112534480273\");\n",
       "if(warn) {\n",
       "    warn.parentNode.removeChild(warn);\n",
       "}\n",
       "$3Dmolpromise.then(function() {\n",
       "viewer_1685112534480273 = $3Dmol.createViewer(document.getElementById(\"3dmolviewer_1685112534480273\"),{backgroundColor:\"white\"});\n",
       "viewer_1685112534480273.zoomTo();\n",
       "\tviewer_1685112534480273.removeAllModels();\n",
       "\tviewer_1685112534480273.addModel(\"\\n     RDKit          3D\\n\\n  5  4  0  0  0  0  0  0  0  0999 V2000\\n   -0.0127    1.0858    0.0080 C   0  0  0  0  0  0  0  0  0  0  0  0\\n   -0.3592    0.1188   -0.4111 H   0  0  0  0  0  0  0  0  0  0  0  0\\n    1.0698    1.0207    0.2422 H   0  0  0  0  0  0  0  0  0  0  0  0\\n   -0.1826    1.8926   -0.7342 H   0  0  0  0  0  0  0  0  0  0  0  0\\n   -0.5787    1.3111    0.9352 H   0  0  0  0  0  0  0  0  0  0  0  0\\n  1  2  1  0\\n  1  3  1  0\\n  1  4  1  0\\n  1  5  1  0\\nM  END\\n\",\"sdf\");\n",
       "\tviewer_1685112534480273.setStyle({\"stick\": {}});\n",
       "\tviewer_1685112534480273.setBackgroundColor(\"0xeeeeee\");\n",
       "\tviewer_1685112534480273.zoomTo();\n",
       "viewer_1685112534480273.render();\n",
       "});\n",
       "</script>"
      ]
     },
     "metadata": {},
     "output_type": "display_data"
    }
   ],
   "source": [
    "IPythonConsole.drawMol3D(sample.mol,confId=3)"
   ]
  },
  {
   "cell_type": "code",
   "execution_count": 69,
   "metadata": {},
   "outputs": [],
   "source": [
    "rdDistGeom.EmbedMolecule(sample.noisy_mol)\n",
    "noisy_conf=sample.noisy_mol.GetConformer()\n",
    "noisy_conf_positions=noisy_conf.GetPositions()\n",
    "noise=np.random.randn(sample.pos.shape[0],sample.pos.shape[1]) \n",
    "noisy_positions=noisy_conf_positions+noise\n",
    "for i in range(sample.noisy_mol.GetNumAtoms()):\n",
    "    noisy_conf.SetAtomPosition(i, Point3D(noisy_positions[i][0],noisy_positions[i][1],noisy_positions[i][2]))   \n",
    "data.noisy_mol=Chem.AddHs(sample.noisy_mol,addCoords=True)\n",
    "Chem.rdForceFieldHelpers.UFFOptimizeMolecule(sample.noisy_mol,confId=0,maxIters=40)\n",
    "noisy_conf_positions=torch.tensor(noisy_conf.GetPositions(), dtype=torch.float)\n",
    "noise=noisy_conf_positions-sample.pos   "
   ]
  },
  {
   "cell_type": "code",
   "execution_count": 70,
   "metadata": {},
   "outputs": [
    {
     "data": {
      "application/3dmoljs_load.v0": "<div id=\"3dmolviewer_16851096211789033\"  style=\"position: relative; width: 400px; height: 400px;\">\n        <p id=\"3dmolwarning_16851096211789033\" style=\"background-color:#ffcccc;color:black\">You appear to be running in JupyterLab (or JavaScript failed to load for some other reason).  You need to install the 3dmol extension: <br>\n        <tt>jupyter labextension install jupyterlab_3dmol</tt></p>\n        </div>\n<script>\n\nvar loadScriptAsync = function(uri){\n  return new Promise((resolve, reject) => {\n    //this is to ignore the existence of requirejs amd\n    var savedexports, savedmodule;\n    if (typeof exports !== 'undefined') savedexports = exports;\n    else exports = {}\n    if (typeof module !== 'undefined') savedmodule = module;\n    else module = {}\n\n    var tag = document.createElement('script');\n    tag.src = uri;\n    tag.async = true;\n    tag.onload = () => {\n        exports = savedexports;\n        module = savedmodule;\n        resolve();\n    };\n  var firstScriptTag = document.getElementsByTagName('script')[0];\n  firstScriptTag.parentNode.insertBefore(tag, firstScriptTag);\n});\n};\n\nif(typeof $3Dmolpromise === 'undefined') {\n$3Dmolpromise = null;\n  $3Dmolpromise = loadScriptAsync('https://cdnjs.cloudflare.com/ajax/libs/3Dmol/2.0.3/3Dmol-min.js');\n}\n\nvar viewer_16851096211789033 = null;\nvar warn = document.getElementById(\"3dmolwarning_16851096211789033\");\nif(warn) {\n    warn.parentNode.removeChild(warn);\n}\n$3Dmolpromise.then(function() {\nviewer_16851096211789033 = $3Dmol.createViewer(document.getElementById(\"3dmolviewer_16851096211789033\"),{backgroundColor:\"white\"});\nviewer_16851096211789033.zoomTo();\n\tviewer_16851096211789033.removeAllModels();\n\tviewer_16851096211789033.addModel(\"\\n     RDKit          3D\\n\\n 10 10  0  0  0  0  0  0  0  0999 V2000\\n    1.0065   -0.2045   -1.2288 O   0  0  0  0  0  0  0  0  0  0  0  0\\n    0.3722   -0.2999    0.0133 C   0  0  0  0  0  0  0  0  0  0  0  0\\n   -1.1144   -0.5756   -0.1061 C   0  0  0  0  0  0  0  0  0  0  0  0\\n   -0.6252    0.8136    0.2727 C   0  0  0  0  0  0  0  0  0  0  0  0\\n    1.8520    0.2828   -1.0516 H   0  0  0  0  0  0  0  0  0  0  0  0\\n    0.9040   -0.7581    0.8752 H   0  0  0  0  0  0  0  0  0  0  0  0\\n   -1.5031   -0.6521   -1.1443 H   0  0  0  0  0  0  0  0  0  0  0  0\\n   -1.5445   -1.1503    0.7410 H   0  0  0  0  0  0  0  0  0  0  0  0\\n   -0.7570    1.0663    1.3459 H   0  0  0  0  0  0  0  0  0  0  0  0\\n   -0.7150    1.5667   -0.5392 H   0  0  0  0  0  0  0  0  0  0  0  0\\n  5  1  1  0\\n  1  2  1  0\\n  2  6  1  0\\n  2  3  1  0\\n  3  7  1  0\\n  3  8  1  0\\n  3  4  1  0\\n  4  9  1  0\\n  4 10  1  0\\n  4  2  1  0\\nM  END\\n\",\"sdf\");\n\tviewer_16851096211789033.setStyle({\"stick\": {}});\n\tviewer_16851096211789033.setBackgroundColor(\"0xeeeeee\");\n\tviewer_16851096211789033.zoomTo();\nviewer_16851096211789033.render();\n});\n</script>",
      "text/html": [
       "<div id=\"3dmolviewer_16851096211789033\"  style=\"position: relative; width: 400px; height: 400px;\">\n",
       "        <p id=\"3dmolwarning_16851096211789033\" style=\"background-color:#ffcccc;color:black\">You appear to be running in JupyterLab (or JavaScript failed to load for some other reason).  You need to install the 3dmol extension: <br>\n",
       "        <tt>jupyter labextension install jupyterlab_3dmol</tt></p>\n",
       "        </div>\n",
       "<script>\n",
       "\n",
       "var loadScriptAsync = function(uri){\n",
       "  return new Promise((resolve, reject) => {\n",
       "    //this is to ignore the existence of requirejs amd\n",
       "    var savedexports, savedmodule;\n",
       "    if (typeof exports !== 'undefined') savedexports = exports;\n",
       "    else exports = {}\n",
       "    if (typeof module !== 'undefined') savedmodule = module;\n",
       "    else module = {}\n",
       "\n",
       "    var tag = document.createElement('script');\n",
       "    tag.src = uri;\n",
       "    tag.async = true;\n",
       "    tag.onload = () => {\n",
       "        exports = savedexports;\n",
       "        module = savedmodule;\n",
       "        resolve();\n",
       "    };\n",
       "  var firstScriptTag = document.getElementsByTagName('script')[0];\n",
       "  firstScriptTag.parentNode.insertBefore(tag, firstScriptTag);\n",
       "});\n",
       "};\n",
       "\n",
       "if(typeof $3Dmolpromise === 'undefined') {\n",
       "$3Dmolpromise = null;\n",
       "  $3Dmolpromise = loadScriptAsync('https://cdnjs.cloudflare.com/ajax/libs/3Dmol/2.0.3/3Dmol-min.js');\n",
       "}\n",
       "\n",
       "var viewer_16851096211789033 = null;\n",
       "var warn = document.getElementById(\"3dmolwarning_16851096211789033\");\n",
       "if(warn) {\n",
       "    warn.parentNode.removeChild(warn);\n",
       "}\n",
       "$3Dmolpromise.then(function() {\n",
       "viewer_16851096211789033 = $3Dmol.createViewer(document.getElementById(\"3dmolviewer_16851096211789033\"),{backgroundColor:\"white\"});\n",
       "viewer_16851096211789033.zoomTo();\n",
       "\tviewer_16851096211789033.removeAllModels();\n",
       "\tviewer_16851096211789033.addModel(\"\\n     RDKit          3D\\n\\n 10 10  0  0  0  0  0  0  0  0999 V2000\\n    1.0065   -0.2045   -1.2288 O   0  0  0  0  0  0  0  0  0  0  0  0\\n    0.3722   -0.2999    0.0133 C   0  0  0  0  0  0  0  0  0  0  0  0\\n   -1.1144   -0.5756   -0.1061 C   0  0  0  0  0  0  0  0  0  0  0  0\\n   -0.6252    0.8136    0.2727 C   0  0  0  0  0  0  0  0  0  0  0  0\\n    1.8520    0.2828   -1.0516 H   0  0  0  0  0  0  0  0  0  0  0  0\\n    0.9040   -0.7581    0.8752 H   0  0  0  0  0  0  0  0  0  0  0  0\\n   -1.5031   -0.6521   -1.1443 H   0  0  0  0  0  0  0  0  0  0  0  0\\n   -1.5445   -1.1503    0.7410 H   0  0  0  0  0  0  0  0  0  0  0  0\\n   -0.7570    1.0663    1.3459 H   0  0  0  0  0  0  0  0  0  0  0  0\\n   -0.7150    1.5667   -0.5392 H   0  0  0  0  0  0  0  0  0  0  0  0\\n  5  1  1  0\\n  1  2  1  0\\n  2  6  1  0\\n  2  3  1  0\\n  3  7  1  0\\n  3  8  1  0\\n  3  4  1  0\\n  4  9  1  0\\n  4 10  1  0\\n  4  2  1  0\\nM  END\\n\",\"sdf\");\n",
       "\tviewer_16851096211789033.setStyle({\"stick\": {}});\n",
       "\tviewer_16851096211789033.setBackgroundColor(\"0xeeeeee\");\n",
       "\tviewer_16851096211789033.zoomTo();\n",
       "viewer_16851096211789033.render();\n",
       "});\n",
       "</script>"
      ]
     },
     "metadata": {},
     "output_type": "display_data"
    }
   ],
   "source": [
    "IPythonConsole.drawMol3D(sample.noisy_mol,confId=0)"
   ]
  },
  {
   "cell_type": "code",
   "execution_count": 24,
   "metadata": {},
   "outputs": [],
   "source": [
    "for i in range(sample.mol.GetNumAtoms()):\n",
    "    conf.SetAtomPosition(i, Point3D(predpos[i][0].item(),predpos[i][1].item(),predpos[i][2].item()))      \n",
    "    "
   ]
  },
  {
   "cell_type": "code",
   "execution_count": 25,
   "metadata": {},
   "outputs": [
    {
     "data": {
      "application/3dmoljs_load.v0": "<div id=\"3dmolviewer_16850135808963473\"  style=\"position: relative; width: 400px; height: 400px;\">\n        <p id=\"3dmolwarning_16850135808963473\" style=\"background-color:#ffcccc;color:black\">You appear to be running in JupyterLab (or JavaScript failed to load for some other reason).  You need to install the 3dmol extension: <br>\n        <tt>jupyter labextension install jupyterlab_3dmol</tt></p>\n        </div>\n<script>\n\nvar loadScriptAsync = function(uri){\n  return new Promise((resolve, reject) => {\n    //this is to ignore the existence of requirejs amd\n    var savedexports, savedmodule;\n    if (typeof exports !== 'undefined') savedexports = exports;\n    else exports = {}\n    if (typeof module !== 'undefined') savedmodule = module;\n    else module = {}\n\n    var tag = document.createElement('script');\n    tag.src = uri;\n    tag.async = true;\n    tag.onload = () => {\n        exports = savedexports;\n        module = savedmodule;\n        resolve();\n    };\n  var firstScriptTag = document.getElementsByTagName('script')[0];\n  firstScriptTag.parentNode.insertBefore(tag, firstScriptTag);\n});\n};\n\nif(typeof $3Dmolpromise === 'undefined') {\n$3Dmolpromise = null;\n  $3Dmolpromise = loadScriptAsync('https://cdnjs.cloudflare.com/ajax/libs/3Dmol/2.0.3/3Dmol-min.js');\n}\n\nvar viewer_16850135808963473 = null;\nvar warn = document.getElementById(\"3dmolwarning_16850135808963473\");\nif(warn) {\n    warn.parentNode.removeChild(warn);\n}\n$3Dmolpromise.then(function() {\nviewer_16850135808963473 = $3Dmol.createViewer(document.getElementById(\"3dmolviewer_16850135808963473\"),{backgroundColor:\"white\"});\nviewer_16850135808963473.zoomTo();\n\tviewer_16850135808963473.removeAllModels();\n\tviewer_16850135808963473.addModel(\"\\n     RDKit          3D\\n\\n  5  4  0  0  0  0  0  0  0  0999 V2000\\n    1.1706   -0.3963    0.0747 C   0  0  0  0  0  0  0  0  0  0  0  0\\n    0.5296   -0.3306    0.1007 H   0  0  0  0  0  0  0  0  0  0  0  0\\n    0.6248   -0.4110    0.3165 H   0  0  0  0  0  0  0  0  0  0  0  0\\n    0.8778   -0.4228    0.6910 H   0  0  0  0  0  0  0  0  0  0  0  0\\n    0.9211   -0.3268   -0.3391 H   0  0  0  0  0  0  0  0  0  0  0  0\\n  1  2  1  0\\n  1  3  1  0\\n  1  4  1  0\\n  1  5  1  0\\nM  END\\n\",\"sdf\");\n\tviewer_16850135808963473.setStyle({\"stick\": {}});\n\tviewer_16850135808963473.setBackgroundColor(\"0xeeeeee\");\n\tviewer_16850135808963473.zoomTo();\nviewer_16850135808963473.render();\n});\n</script>",
      "text/html": [
       "<div id=\"3dmolviewer_16850135808963473\"  style=\"position: relative; width: 400px; height: 400px;\">\n",
       "        <p id=\"3dmolwarning_16850135808963473\" style=\"background-color:#ffcccc;color:black\">You appear to be running in JupyterLab (or JavaScript failed to load for some other reason).  You need to install the 3dmol extension: <br>\n",
       "        <tt>jupyter labextension install jupyterlab_3dmol</tt></p>\n",
       "        </div>\n",
       "<script>\n",
       "\n",
       "var loadScriptAsync = function(uri){\n",
       "  return new Promise((resolve, reject) => {\n",
       "    //this is to ignore the existence of requirejs amd\n",
       "    var savedexports, savedmodule;\n",
       "    if (typeof exports !== 'undefined') savedexports = exports;\n",
       "    else exports = {}\n",
       "    if (typeof module !== 'undefined') savedmodule = module;\n",
       "    else module = {}\n",
       "\n",
       "    var tag = document.createElement('script');\n",
       "    tag.src = uri;\n",
       "    tag.async = true;\n",
       "    tag.onload = () => {\n",
       "        exports = savedexports;\n",
       "        module = savedmodule;\n",
       "        resolve();\n",
       "    };\n",
       "  var firstScriptTag = document.getElementsByTagName('script')[0];\n",
       "  firstScriptTag.parentNode.insertBefore(tag, firstScriptTag);\n",
       "});\n",
       "};\n",
       "\n",
       "if(typeof $3Dmolpromise === 'undefined') {\n",
       "$3Dmolpromise = null;\n",
       "  $3Dmolpromise = loadScriptAsync('https://cdnjs.cloudflare.com/ajax/libs/3Dmol/2.0.3/3Dmol-min.js');\n",
       "}\n",
       "\n",
       "var viewer_16850135808963473 = null;\n",
       "var warn = document.getElementById(\"3dmolwarning_16850135808963473\");\n",
       "if(warn) {\n",
       "    warn.parentNode.removeChild(warn);\n",
       "}\n",
       "$3Dmolpromise.then(function() {\n",
       "viewer_16850135808963473 = $3Dmol.createViewer(document.getElementById(\"3dmolviewer_16850135808963473\"),{backgroundColor:\"white\"});\n",
       "viewer_16850135808963473.zoomTo();\n",
       "\tviewer_16850135808963473.removeAllModels();\n",
       "\tviewer_16850135808963473.addModel(\"\\n     RDKit          3D\\n\\n  5  4  0  0  0  0  0  0  0  0999 V2000\\n    1.1706   -0.3963    0.0747 C   0  0  0  0  0  0  0  0  0  0  0  0\\n    0.5296   -0.3306    0.1007 H   0  0  0  0  0  0  0  0  0  0  0  0\\n    0.6248   -0.4110    0.3165 H   0  0  0  0  0  0  0  0  0  0  0  0\\n    0.8778   -0.4228    0.6910 H   0  0  0  0  0  0  0  0  0  0  0  0\\n    0.9211   -0.3268   -0.3391 H   0  0  0  0  0  0  0  0  0  0  0  0\\n  1  2  1  0\\n  1  3  1  0\\n  1  4  1  0\\n  1  5  1  0\\nM  END\\n\",\"sdf\");\n",
       "\tviewer_16850135808963473.setStyle({\"stick\": {}});\n",
       "\tviewer_16850135808963473.setBackgroundColor(\"0xeeeeee\");\n",
       "\tviewer_16850135808963473.zoomTo();\n",
       "viewer_16850135808963473.render();\n",
       "});\n",
       "</script>"
      ]
     },
     "metadata": {},
     "output_type": "display_data"
    }
   ],
   "source": [
    "IPythonConsole.drawMol3D(sample.mol,confId=0)"
   ]
  },
  {
   "cell_type": "code",
   "execution_count": 26,
   "metadata": {},
   "outputs": [],
   "source": [
    "for i in range(sample.mol.GetNumAtoms()):\n",
    "    conf.SetAtomPosition(i, Point3D(sample.pos[i][0].item(),sample.pos[i][1].item(),sample.pos[i][2].item()))"
   ]
  },
  {
   "cell_type": "code",
   "execution_count": 42,
   "metadata": {},
   "outputs": [
    {
     "data": {
      "application/3dmoljs_load.v0": "<div id=\"3dmolviewer_16850136893749104\"  style=\"position: relative; width: 400px; height: 400px;\">\n        <p id=\"3dmolwarning_16850136893749104\" style=\"background-color:#ffcccc;color:black\">You appear to be running in JupyterLab (or JavaScript failed to load for some other reason).  You need to install the 3dmol extension: <br>\n        <tt>jupyter labextension install jupyterlab_3dmol</tt></p>\n        </div>\n<script>\n\nvar loadScriptAsync = function(uri){\n  return new Promise((resolve, reject) => {\n    //this is to ignore the existence of requirejs amd\n    var savedexports, savedmodule;\n    if (typeof exports !== 'undefined') savedexports = exports;\n    else exports = {}\n    if (typeof module !== 'undefined') savedmodule = module;\n    else module = {}\n\n    var tag = document.createElement('script');\n    tag.src = uri;\n    tag.async = true;\n    tag.onload = () => {\n        exports = savedexports;\n        module = savedmodule;\n        resolve();\n    };\n  var firstScriptTag = document.getElementsByTagName('script')[0];\n  firstScriptTag.parentNode.insertBefore(tag, firstScriptTag);\n});\n};\n\nif(typeof $3Dmolpromise === 'undefined') {\n$3Dmolpromise = null;\n  $3Dmolpromise = loadScriptAsync('https://cdnjs.cloudflare.com/ajax/libs/3Dmol/2.0.3/3Dmol-min.js');\n}\n\nvar viewer_16850136893749104 = null;\nvar warn = document.getElementById(\"3dmolwarning_16850136893749104\");\nif(warn) {\n    warn.parentNode.removeChild(warn);\n}\n$3Dmolpromise.then(function() {\nviewer_16850136893749104 = $3Dmol.createViewer(document.getElementById(\"3dmolviewer_16850136893749104\"),{backgroundColor:\"white\"});\nviewer_16850136893749104.zoomTo();\n\tviewer_16850136893749104.removeAllModels();\n\tviewer_16850136893749104.addModel(\"\\n     RDKit          3D\\n\\n  5  4  0  0  0  0  0  0  0  0999 V2000\\n    0.7459   -0.2856    0.1152 C   0  0  0  0  0  0  0  0  0  0  0  0\\n   -0.1153   -0.6315   -0.4926 H   0  0  0  0  0  0  0  0  0  0  0  0\\n    0.7588    0.8235    0.1406 H   0  0  0  0  0  0  0  0  0  0  0  0\\n    0.6509   -0.6781    1.1484 H   0  0  0  0  0  0  0  0  0  0  0  0\\n    1.6894   -0.6561   -0.3358 H   0  0  0  0  0  0  0  0  0  0  0  0\\n  1  2  1  0\\n  1  3  1  0\\n  1  4  1  0\\n  1  5  1  0\\nM  END\\n\",\"sdf\");\n\tviewer_16850136893749104.setStyle({\"stick\": {}});\n\tviewer_16850136893749104.setBackgroundColor(\"0xeeeeee\");\n\tviewer_16850136893749104.zoomTo();\nviewer_16850136893749104.render();\n});\n</script>",
      "text/html": [
       "<div id=\"3dmolviewer_16850136893749104\"  style=\"position: relative; width: 400px; height: 400px;\">\n",
       "        <p id=\"3dmolwarning_16850136893749104\" style=\"background-color:#ffcccc;color:black\">You appear to be running in JupyterLab (or JavaScript failed to load for some other reason).  You need to install the 3dmol extension: <br>\n",
       "        <tt>jupyter labextension install jupyterlab_3dmol</tt></p>\n",
       "        </div>\n",
       "<script>\n",
       "\n",
       "var loadScriptAsync = function(uri){\n",
       "  return new Promise((resolve, reject) => {\n",
       "    //this is to ignore the existence of requirejs amd\n",
       "    var savedexports, savedmodule;\n",
       "    if (typeof exports !== 'undefined') savedexports = exports;\n",
       "    else exports = {}\n",
       "    if (typeof module !== 'undefined') savedmodule = module;\n",
       "    else module = {}\n",
       "\n",
       "    var tag = document.createElement('script');\n",
       "    tag.src = uri;\n",
       "    tag.async = true;\n",
       "    tag.onload = () => {\n",
       "        exports = savedexports;\n",
       "        module = savedmodule;\n",
       "        resolve();\n",
       "    };\n",
       "  var firstScriptTag = document.getElementsByTagName('script')[0];\n",
       "  firstScriptTag.parentNode.insertBefore(tag, firstScriptTag);\n",
       "});\n",
       "};\n",
       "\n",
       "if(typeof $3Dmolpromise === 'undefined') {\n",
       "$3Dmolpromise = null;\n",
       "  $3Dmolpromise = loadScriptAsync('https://cdnjs.cloudflare.com/ajax/libs/3Dmol/2.0.3/3Dmol-min.js');\n",
       "}\n",
       "\n",
       "var viewer_16850136893749104 = null;\n",
       "var warn = document.getElementById(\"3dmolwarning_16850136893749104\");\n",
       "if(warn) {\n",
       "    warn.parentNode.removeChild(warn);\n",
       "}\n",
       "$3Dmolpromise.then(function() {\n",
       "viewer_16850136893749104 = $3Dmol.createViewer(document.getElementById(\"3dmolviewer_16850136893749104\"),{backgroundColor:\"white\"});\n",
       "viewer_16850136893749104.zoomTo();\n",
       "\tviewer_16850136893749104.removeAllModels();\n",
       "\tviewer_16850136893749104.addModel(\"\\n     RDKit          3D\\n\\n  5  4  0  0  0  0  0  0  0  0999 V2000\\n    0.7459   -0.2856    0.1152 C   0  0  0  0  0  0  0  0  0  0  0  0\\n   -0.1153   -0.6315   -0.4926 H   0  0  0  0  0  0  0  0  0  0  0  0\\n    0.7588    0.8235    0.1406 H   0  0  0  0  0  0  0  0  0  0  0  0\\n    0.6509   -0.6781    1.1484 H   0  0  0  0  0  0  0  0  0  0  0  0\\n    1.6894   -0.6561   -0.3358 H   0  0  0  0  0  0  0  0  0  0  0  0\\n  1  2  1  0\\n  1  3  1  0\\n  1  4  1  0\\n  1  5  1  0\\nM  END\\n\",\"sdf\");\n",
       "\tviewer_16850136893749104.setStyle({\"stick\": {}});\n",
       "\tviewer_16850136893749104.setBackgroundColor(\"0xeeeeee\");\n",
       "\tviewer_16850136893749104.zoomTo();\n",
       "viewer_16850136893749104.render();\n",
       "});\n",
       "</script>"
      ]
     },
     "metadata": {},
     "output_type": "display_data"
    },
    {
     "data": {
      "text/plain": [
       "0"
      ]
     },
     "execution_count": 42,
     "metadata": {},
     "output_type": "execute_result"
    }
   ],
   "source": [
    "IPythonConsole.drawMol3D(sample.mol,confId=0)\n",
    "Chem.rdForceFieldHelpers.UFFOptimizeMolecule(sample.mol,confId=0,maxIters=300)"
   ]
  },
  {
   "cell_type": "code",
   "execution_count": null,
   "metadata": {},
   "outputs": [],
   "source": []
  }
 ],
 "metadata": {
  "kernelspec": {
   "display_name": "pvd",
   "language": "python",
   "name": "python3"
  },
  "language_info": {
   "codemirror_mode": {
    "name": "ipython",
    "version": 3
   },
   "file_extension": ".py",
   "mimetype": "text/x-python",
   "name": "python",
   "nbconvert_exporter": "python",
   "pygments_lexer": "ipython3",
   "version": "3.9.10"
  },
  "orig_nbformat": 4
 },
 "nbformat": 4,
 "nbformat_minor": 2
}
